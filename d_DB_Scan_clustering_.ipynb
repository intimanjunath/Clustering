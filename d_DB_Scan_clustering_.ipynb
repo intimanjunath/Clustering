{
  "nbformat": 4,
  "nbformat_minor": 0,
  "metadata": {
    "colab": {
      "provenance": [],
      "authorship_tag": "ABX9TyOBqWr1O/LtNBnkRWUYhKRh",
      "include_colab_link": true
    },
    "kernelspec": {
      "name": "python3",
      "display_name": "Python 3"
    },
    "language_info": {
      "name": "python"
    },
    "widgets": {
      "application/vnd.jupyter.widget-state+json": {
        "746a7a7016d34b7c890fcb871ab8ec22": {
          "model_module": "@jupyter-widgets/controls",
          "model_name": "HBoxModel",
          "model_module_version": "1.5.0",
          "state": {
            "_dom_classes": [],
            "_model_module": "@jupyter-widgets/controls",
            "_model_module_version": "1.5.0",
            "_model_name": "HBoxModel",
            "_view_count": null,
            "_view_module": "@jupyter-widgets/controls",
            "_view_module_version": "1.5.0",
            "_view_name": "HBoxView",
            "box_style": "",
            "children": [
              "IPY_MODEL_b76d5875120a414f96d3e93f791e6efb",
              "IPY_MODEL_ae190c44eaa4402987a9de9ff06788db",
              "IPY_MODEL_5161fe48c53d4090a161c3b21699f5e8"
            ],
            "layout": "IPY_MODEL_a735f90cd0434c8e8762f251a3c20565"
          }
        },
        "b76d5875120a414f96d3e93f791e6efb": {
          "model_module": "@jupyter-widgets/controls",
          "model_name": "HTMLModel",
          "model_module_version": "1.5.0",
          "state": {
            "_dom_classes": [],
            "_model_module": "@jupyter-widgets/controls",
            "_model_module_version": "1.5.0",
            "_model_name": "HTMLModel",
            "_view_count": null,
            "_view_module": "@jupyter-widgets/controls",
            "_view_module_version": "1.5.0",
            "_view_name": "HTMLView",
            "description": "",
            "description_tooltip": null,
            "layout": "IPY_MODEL_71210512697540428bb639eb2628e768",
            "placeholder": "​",
            "style": "IPY_MODEL_081bea237f574c6084c7c468395ceb3c",
            "value": "Processing:   0%"
          }
        },
        "ae190c44eaa4402987a9de9ff06788db": {
          "model_module": "@jupyter-widgets/controls",
          "model_name": "FloatProgressModel",
          "model_module_version": "1.5.0",
          "state": {
            "_dom_classes": [],
            "_model_module": "@jupyter-widgets/controls",
            "_model_module_version": "1.5.0",
            "_model_name": "FloatProgressModel",
            "_view_count": null,
            "_view_module": "@jupyter-widgets/controls",
            "_view_module_version": "1.5.0",
            "_view_name": "ProgressView",
            "bar_style": "",
            "description": "",
            "description_tooltip": null,
            "layout": "IPY_MODEL_ee0d470c70cf4397b497337015efa921",
            "max": 3,
            "min": 0,
            "orientation": "horizontal",
            "style": "IPY_MODEL_1b50131856fa4e8d9eeaf3b0815babe7",
            "value": 3
          }
        },
        "5161fe48c53d4090a161c3b21699f5e8": {
          "model_module": "@jupyter-widgets/controls",
          "model_name": "HTMLModel",
          "model_module_version": "1.5.0",
          "state": {
            "_dom_classes": [],
            "_model_module": "@jupyter-widgets/controls",
            "_model_module_version": "1.5.0",
            "_model_name": "HTMLModel",
            "_view_count": null,
            "_view_module": "@jupyter-widgets/controls",
            "_view_module_version": "1.5.0",
            "_view_name": "HTMLView",
            "description": "",
            "description_tooltip": null,
            "layout": "IPY_MODEL_548fccff77c9452694522b9e67456d64",
            "placeholder": "​",
            "style": "IPY_MODEL_9c70b719a8e94fb9a63b3cd4679ae9c6",
            "value": " 0/3 [00:00&lt;?, ?it/s]"
          }
        },
        "a735f90cd0434c8e8762f251a3c20565": {
          "model_module": "@jupyter-widgets/base",
          "model_name": "LayoutModel",
          "model_module_version": "1.2.0",
          "state": {
            "_model_module": "@jupyter-widgets/base",
            "_model_module_version": "1.2.0",
            "_model_name": "LayoutModel",
            "_view_count": null,
            "_view_module": "@jupyter-widgets/base",
            "_view_module_version": "1.2.0",
            "_view_name": "LayoutView",
            "align_content": null,
            "align_items": null,
            "align_self": null,
            "border": null,
            "bottom": null,
            "display": null,
            "flex": null,
            "flex_flow": null,
            "grid_area": null,
            "grid_auto_columns": null,
            "grid_auto_flow": null,
            "grid_auto_rows": null,
            "grid_column": null,
            "grid_gap": null,
            "grid_row": null,
            "grid_template_areas": null,
            "grid_template_columns": null,
            "grid_template_rows": null,
            "height": null,
            "justify_content": null,
            "justify_items": null,
            "left": null,
            "margin": null,
            "max_height": null,
            "max_width": null,
            "min_height": null,
            "min_width": null,
            "object_fit": null,
            "object_position": null,
            "order": null,
            "overflow": null,
            "overflow_x": null,
            "overflow_y": null,
            "padding": null,
            "right": null,
            "top": null,
            "visibility": "hidden",
            "width": null
          }
        },
        "71210512697540428bb639eb2628e768": {
          "model_module": "@jupyter-widgets/base",
          "model_name": "LayoutModel",
          "model_module_version": "1.2.0",
          "state": {
            "_model_module": "@jupyter-widgets/base",
            "_model_module_version": "1.2.0",
            "_model_name": "LayoutModel",
            "_view_count": null,
            "_view_module": "@jupyter-widgets/base",
            "_view_module_version": "1.2.0",
            "_view_name": "LayoutView",
            "align_content": null,
            "align_items": null,
            "align_self": null,
            "border": null,
            "bottom": null,
            "display": null,
            "flex": null,
            "flex_flow": null,
            "grid_area": null,
            "grid_auto_columns": null,
            "grid_auto_flow": null,
            "grid_auto_rows": null,
            "grid_column": null,
            "grid_gap": null,
            "grid_row": null,
            "grid_template_areas": null,
            "grid_template_columns": null,
            "grid_template_rows": null,
            "height": null,
            "justify_content": null,
            "justify_items": null,
            "left": null,
            "margin": null,
            "max_height": null,
            "max_width": null,
            "min_height": null,
            "min_width": null,
            "object_fit": null,
            "object_position": null,
            "order": null,
            "overflow": null,
            "overflow_x": null,
            "overflow_y": null,
            "padding": null,
            "right": null,
            "top": null,
            "visibility": null,
            "width": null
          }
        },
        "081bea237f574c6084c7c468395ceb3c": {
          "model_module": "@jupyter-widgets/controls",
          "model_name": "DescriptionStyleModel",
          "model_module_version": "1.5.0",
          "state": {
            "_model_module": "@jupyter-widgets/controls",
            "_model_module_version": "1.5.0",
            "_model_name": "DescriptionStyleModel",
            "_view_count": null,
            "_view_module": "@jupyter-widgets/base",
            "_view_module_version": "1.2.0",
            "_view_name": "StyleView",
            "description_width": ""
          }
        },
        "ee0d470c70cf4397b497337015efa921": {
          "model_module": "@jupyter-widgets/base",
          "model_name": "LayoutModel",
          "model_module_version": "1.2.0",
          "state": {
            "_model_module": "@jupyter-widgets/base",
            "_model_module_version": "1.2.0",
            "_model_name": "LayoutModel",
            "_view_count": null,
            "_view_module": "@jupyter-widgets/base",
            "_view_module_version": "1.2.0",
            "_view_name": "LayoutView",
            "align_content": null,
            "align_items": null,
            "align_self": null,
            "border": null,
            "bottom": null,
            "display": null,
            "flex": null,
            "flex_flow": null,
            "grid_area": null,
            "grid_auto_columns": null,
            "grid_auto_flow": null,
            "grid_auto_rows": null,
            "grid_column": null,
            "grid_gap": null,
            "grid_row": null,
            "grid_template_areas": null,
            "grid_template_columns": null,
            "grid_template_rows": null,
            "height": null,
            "justify_content": null,
            "justify_items": null,
            "left": null,
            "margin": null,
            "max_height": null,
            "max_width": null,
            "min_height": null,
            "min_width": null,
            "object_fit": null,
            "object_position": null,
            "order": null,
            "overflow": null,
            "overflow_x": null,
            "overflow_y": null,
            "padding": null,
            "right": null,
            "top": null,
            "visibility": null,
            "width": null
          }
        },
        "1b50131856fa4e8d9eeaf3b0815babe7": {
          "model_module": "@jupyter-widgets/controls",
          "model_name": "ProgressStyleModel",
          "model_module_version": "1.5.0",
          "state": {
            "_model_module": "@jupyter-widgets/controls",
            "_model_module_version": "1.5.0",
            "_model_name": "ProgressStyleModel",
            "_view_count": null,
            "_view_module": "@jupyter-widgets/base",
            "_view_module_version": "1.2.0",
            "_view_name": "StyleView",
            "bar_color": null,
            "description_width": ""
          }
        },
        "548fccff77c9452694522b9e67456d64": {
          "model_module": "@jupyter-widgets/base",
          "model_name": "LayoutModel",
          "model_module_version": "1.2.0",
          "state": {
            "_model_module": "@jupyter-widgets/base",
            "_model_module_version": "1.2.0",
            "_model_name": "LayoutModel",
            "_view_count": null,
            "_view_module": "@jupyter-widgets/base",
            "_view_module_version": "1.2.0",
            "_view_name": "LayoutView",
            "align_content": null,
            "align_items": null,
            "align_self": null,
            "border": null,
            "bottom": null,
            "display": null,
            "flex": null,
            "flex_flow": null,
            "grid_area": null,
            "grid_auto_columns": null,
            "grid_auto_flow": null,
            "grid_auto_rows": null,
            "grid_column": null,
            "grid_gap": null,
            "grid_row": null,
            "grid_template_areas": null,
            "grid_template_columns": null,
            "grid_template_rows": null,
            "height": null,
            "justify_content": null,
            "justify_items": null,
            "left": null,
            "margin": null,
            "max_height": null,
            "max_width": null,
            "min_height": null,
            "min_width": null,
            "object_fit": null,
            "object_position": null,
            "order": null,
            "overflow": null,
            "overflow_x": null,
            "overflow_y": null,
            "padding": null,
            "right": null,
            "top": null,
            "visibility": null,
            "width": null
          }
        },
        "9c70b719a8e94fb9a63b3cd4679ae9c6": {
          "model_module": "@jupyter-widgets/controls",
          "model_name": "DescriptionStyleModel",
          "model_module_version": "1.5.0",
          "state": {
            "_model_module": "@jupyter-widgets/controls",
            "_model_module_version": "1.5.0",
            "_model_name": "DescriptionStyleModel",
            "_view_count": null,
            "_view_module": "@jupyter-widgets/base",
            "_view_module_version": "1.2.0",
            "_view_name": "StyleView",
            "description_width": ""
          }
        },
        "a8fde2ba50a042f98aed8a958831a0dc": {
          "model_module": "@jupyter-widgets/controls",
          "model_name": "HBoxModel",
          "model_module_version": "1.5.0",
          "state": {
            "_dom_classes": [],
            "_model_module": "@jupyter-widgets/controls",
            "_model_module_version": "1.5.0",
            "_model_name": "HBoxModel",
            "_view_count": null,
            "_view_module": "@jupyter-widgets/controls",
            "_view_module_version": "1.5.0",
            "_view_name": "HBoxView",
            "box_style": "",
            "children": [
              "IPY_MODEL_c477c6da3c1346fe8a142618b3d5142a",
              "IPY_MODEL_873d3a72ed984c0599df657a066d4795",
              "IPY_MODEL_080aae2c2c944feb9e29c86acd83332c"
            ],
            "layout": "IPY_MODEL_5a26df111eac460f9b73a6c0af7578b5"
          }
        },
        "c477c6da3c1346fe8a142618b3d5142a": {
          "model_module": "@jupyter-widgets/controls",
          "model_name": "HTMLModel",
          "model_module_version": "1.5.0",
          "state": {
            "_dom_classes": [],
            "_model_module": "@jupyter-widgets/controls",
            "_model_module_version": "1.5.0",
            "_model_name": "HTMLModel",
            "_view_count": null,
            "_view_module": "@jupyter-widgets/controls",
            "_view_module_version": "1.5.0",
            "_view_name": "HTMLView",
            "description": "",
            "description_tooltip": null,
            "layout": "IPY_MODEL_f6b9e8b1fc21456cbefd6c1549f59355",
            "placeholder": "​",
            "style": "IPY_MODEL_18dceb44e0994d87a08ee7e13349abe7",
            "value": "Processing:   0%"
          }
        },
        "873d3a72ed984c0599df657a066d4795": {
          "model_module": "@jupyter-widgets/controls",
          "model_name": "FloatProgressModel",
          "model_module_version": "1.5.0",
          "state": {
            "_dom_classes": [],
            "_model_module": "@jupyter-widgets/controls",
            "_model_module_version": "1.5.0",
            "_model_name": "FloatProgressModel",
            "_view_count": null,
            "_view_module": "@jupyter-widgets/controls",
            "_view_module_version": "1.5.0",
            "_view_name": "ProgressView",
            "bar_style": "",
            "description": "",
            "description_tooltip": null,
            "layout": "IPY_MODEL_c9602292ff6e4522912d77cac3ff367b",
            "max": 3,
            "min": 0,
            "orientation": "horizontal",
            "style": "IPY_MODEL_c2ed253ff8314888ac8b70776726cac5",
            "value": 3
          }
        },
        "080aae2c2c944feb9e29c86acd83332c": {
          "model_module": "@jupyter-widgets/controls",
          "model_name": "HTMLModel",
          "model_module_version": "1.5.0",
          "state": {
            "_dom_classes": [],
            "_model_module": "@jupyter-widgets/controls",
            "_model_module_version": "1.5.0",
            "_model_name": "HTMLModel",
            "_view_count": null,
            "_view_module": "@jupyter-widgets/controls",
            "_view_module_version": "1.5.0",
            "_view_name": "HTMLView",
            "description": "",
            "description_tooltip": null,
            "layout": "IPY_MODEL_34433ac76d7a4dceb7a10159c8910226",
            "placeholder": "​",
            "style": "IPY_MODEL_41a9b0d76a69424db68ab0d5740d89e3",
            "value": " 0/3 [00:00&lt;?, ?it/s]"
          }
        },
        "5a26df111eac460f9b73a6c0af7578b5": {
          "model_module": "@jupyter-widgets/base",
          "model_name": "LayoutModel",
          "model_module_version": "1.2.0",
          "state": {
            "_model_module": "@jupyter-widgets/base",
            "_model_module_version": "1.2.0",
            "_model_name": "LayoutModel",
            "_view_count": null,
            "_view_module": "@jupyter-widgets/base",
            "_view_module_version": "1.2.0",
            "_view_name": "LayoutView",
            "align_content": null,
            "align_items": null,
            "align_self": null,
            "border": null,
            "bottom": null,
            "display": null,
            "flex": null,
            "flex_flow": null,
            "grid_area": null,
            "grid_auto_columns": null,
            "grid_auto_flow": null,
            "grid_auto_rows": null,
            "grid_column": null,
            "grid_gap": null,
            "grid_row": null,
            "grid_template_areas": null,
            "grid_template_columns": null,
            "grid_template_rows": null,
            "height": null,
            "justify_content": null,
            "justify_items": null,
            "left": null,
            "margin": null,
            "max_height": null,
            "max_width": null,
            "min_height": null,
            "min_width": null,
            "object_fit": null,
            "object_position": null,
            "order": null,
            "overflow": null,
            "overflow_x": null,
            "overflow_y": null,
            "padding": null,
            "right": null,
            "top": null,
            "visibility": "hidden",
            "width": null
          }
        },
        "f6b9e8b1fc21456cbefd6c1549f59355": {
          "model_module": "@jupyter-widgets/base",
          "model_name": "LayoutModel",
          "model_module_version": "1.2.0",
          "state": {
            "_model_module": "@jupyter-widgets/base",
            "_model_module_version": "1.2.0",
            "_model_name": "LayoutModel",
            "_view_count": null,
            "_view_module": "@jupyter-widgets/base",
            "_view_module_version": "1.2.0",
            "_view_name": "LayoutView",
            "align_content": null,
            "align_items": null,
            "align_self": null,
            "border": null,
            "bottom": null,
            "display": null,
            "flex": null,
            "flex_flow": null,
            "grid_area": null,
            "grid_auto_columns": null,
            "grid_auto_flow": null,
            "grid_auto_rows": null,
            "grid_column": null,
            "grid_gap": null,
            "grid_row": null,
            "grid_template_areas": null,
            "grid_template_columns": null,
            "grid_template_rows": null,
            "height": null,
            "justify_content": null,
            "justify_items": null,
            "left": null,
            "margin": null,
            "max_height": null,
            "max_width": null,
            "min_height": null,
            "min_width": null,
            "object_fit": null,
            "object_position": null,
            "order": null,
            "overflow": null,
            "overflow_x": null,
            "overflow_y": null,
            "padding": null,
            "right": null,
            "top": null,
            "visibility": null,
            "width": null
          }
        },
        "18dceb44e0994d87a08ee7e13349abe7": {
          "model_module": "@jupyter-widgets/controls",
          "model_name": "DescriptionStyleModel",
          "model_module_version": "1.5.0",
          "state": {
            "_model_module": "@jupyter-widgets/controls",
            "_model_module_version": "1.5.0",
            "_model_name": "DescriptionStyleModel",
            "_view_count": null,
            "_view_module": "@jupyter-widgets/base",
            "_view_module_version": "1.2.0",
            "_view_name": "StyleView",
            "description_width": ""
          }
        },
        "c9602292ff6e4522912d77cac3ff367b": {
          "model_module": "@jupyter-widgets/base",
          "model_name": "LayoutModel",
          "model_module_version": "1.2.0",
          "state": {
            "_model_module": "@jupyter-widgets/base",
            "_model_module_version": "1.2.0",
            "_model_name": "LayoutModel",
            "_view_count": null,
            "_view_module": "@jupyter-widgets/base",
            "_view_module_version": "1.2.0",
            "_view_name": "LayoutView",
            "align_content": null,
            "align_items": null,
            "align_self": null,
            "border": null,
            "bottom": null,
            "display": null,
            "flex": null,
            "flex_flow": null,
            "grid_area": null,
            "grid_auto_columns": null,
            "grid_auto_flow": null,
            "grid_auto_rows": null,
            "grid_column": null,
            "grid_gap": null,
            "grid_row": null,
            "grid_template_areas": null,
            "grid_template_columns": null,
            "grid_template_rows": null,
            "height": null,
            "justify_content": null,
            "justify_items": null,
            "left": null,
            "margin": null,
            "max_height": null,
            "max_width": null,
            "min_height": null,
            "min_width": null,
            "object_fit": null,
            "object_position": null,
            "order": null,
            "overflow": null,
            "overflow_x": null,
            "overflow_y": null,
            "padding": null,
            "right": null,
            "top": null,
            "visibility": null,
            "width": null
          }
        },
        "c2ed253ff8314888ac8b70776726cac5": {
          "model_module": "@jupyter-widgets/controls",
          "model_name": "ProgressStyleModel",
          "model_module_version": "1.5.0",
          "state": {
            "_model_module": "@jupyter-widgets/controls",
            "_model_module_version": "1.5.0",
            "_model_name": "ProgressStyleModel",
            "_view_count": null,
            "_view_module": "@jupyter-widgets/base",
            "_view_module_version": "1.2.0",
            "_view_name": "StyleView",
            "bar_color": null,
            "description_width": ""
          }
        },
        "34433ac76d7a4dceb7a10159c8910226": {
          "model_module": "@jupyter-widgets/base",
          "model_name": "LayoutModel",
          "model_module_version": "1.2.0",
          "state": {
            "_model_module": "@jupyter-widgets/base",
            "_model_module_version": "1.2.0",
            "_model_name": "LayoutModel",
            "_view_count": null,
            "_view_module": "@jupyter-widgets/base",
            "_view_module_version": "1.2.0",
            "_view_name": "LayoutView",
            "align_content": null,
            "align_items": null,
            "align_self": null,
            "border": null,
            "bottom": null,
            "display": null,
            "flex": null,
            "flex_flow": null,
            "grid_area": null,
            "grid_auto_columns": null,
            "grid_auto_flow": null,
            "grid_auto_rows": null,
            "grid_column": null,
            "grid_gap": null,
            "grid_row": null,
            "grid_template_areas": null,
            "grid_template_columns": null,
            "grid_template_rows": null,
            "height": null,
            "justify_content": null,
            "justify_items": null,
            "left": null,
            "margin": null,
            "max_height": null,
            "max_width": null,
            "min_height": null,
            "min_width": null,
            "object_fit": null,
            "object_position": null,
            "order": null,
            "overflow": null,
            "overflow_x": null,
            "overflow_y": null,
            "padding": null,
            "right": null,
            "top": null,
            "visibility": null,
            "width": null
          }
        },
        "41a9b0d76a69424db68ab0d5740d89e3": {
          "model_module": "@jupyter-widgets/controls",
          "model_name": "DescriptionStyleModel",
          "model_module_version": "1.5.0",
          "state": {
            "_model_module": "@jupyter-widgets/controls",
            "_model_module_version": "1.5.0",
            "_model_name": "DescriptionStyleModel",
            "_view_count": null,
            "_view_module": "@jupyter-widgets/base",
            "_view_module_version": "1.2.0",
            "_view_name": "StyleView",
            "description_width": ""
          }
        },
        "8ca7faa2f1e24d4cb5d646bd61de9684": {
          "model_module": "@jupyter-widgets/controls",
          "model_name": "VBoxModel",
          "model_module_version": "1.5.0",
          "state": {
            "_dom_classes": [
              "widget-interact"
            ],
            "_model_module": "@jupyter-widgets/controls",
            "_model_module_version": "1.5.0",
            "_model_name": "VBoxModel",
            "_view_count": null,
            "_view_module": "@jupyter-widgets/controls",
            "_view_module_version": "1.5.0",
            "_view_name": "VBoxView",
            "box_style": "",
            "children": [
              "IPY_MODEL_1c65cf8d75194ed8a3c844eeae03b16c",
              "IPY_MODEL_2d27c0276f7b43b28047feb789931e89"
            ],
            "layout": "IPY_MODEL_1138fcc0e64b4abebdd03cbdc22abf16"
          }
        },
        "1c65cf8d75194ed8a3c844eeae03b16c": {
          "model_module": "@jupyter-widgets/controls",
          "model_name": "ToggleButtonsModel",
          "model_module_version": "1.5.0",
          "state": {
            "_dom_classes": [],
            "_model_module": "@jupyter-widgets/controls",
            "_model_module_version": "1.5.0",
            "_model_name": "ToggleButtonsModel",
            "_options_labels": [
              "Pipeline Plot",
              "t-SNE (3d) Dimension Plot",
              "Cluster t-SNE (3d)",
              "Elbow Plot",
              "Silhouette Plot",
              "Distance Plot",
              "Distribution Plot"
            ],
            "_view_count": null,
            "_view_module": "@jupyter-widgets/controls",
            "_view_module_version": "1.5.0",
            "_view_name": "ToggleButtonsView",
            "button_style": "",
            "description": "Plot Type:",
            "description_tooltip": null,
            "disabled": false,
            "icons": [
              ""
            ],
            "index": 0,
            "layout": "IPY_MODEL_7ede3da9c49941f797eb359c9ed0b0d3",
            "style": "IPY_MODEL_f89f08229cbe47abb01c3f7552a36274",
            "tooltips": []
          }
        },
        "2d27c0276f7b43b28047feb789931e89": {
          "model_module": "@jupyter-widgets/output",
          "model_name": "OutputModel",
          "model_module_version": "1.0.0",
          "state": {
            "_dom_classes": [],
            "_model_module": "@jupyter-widgets/output",
            "_model_module_version": "1.0.0",
            "_model_name": "OutputModel",
            "_view_count": null,
            "_view_module": "@jupyter-widgets/output",
            "_view_module_version": "1.0.0",
            "_view_name": "OutputView",
            "layout": "IPY_MODEL_e15243bcc4954e28b1a739f6b418f81d",
            "msg_id": "",
            "outputs": [
              {
                "output_type": "display_data",
                "data": {
                  "text/plain": "<Figure size 1700x600 with 1 Axes>",
                  "image/png": "iVBORw0KGgoAAAANSUhEUgAABpQAAACMCAYAAAByDEphAAAAOXRFWHRTb2Z0d2FyZQBNYXRwbG90bGliIHZlcnNpb24zLjcuNSwgaHR0cHM6Ly9tYXRwbG90bGliLm9yZy/xnp5ZAAAACXBIWXMAAA9hAAAPYQGoP6dpAABBSUlEQVR4nO3deVxU1f/H8fewCYIgKi6pSZqmZqWl5o64pJallqZF5pZpi35NM7fMtdzyq5VWlqGp329aSVi2ueZuZlbuO2quPy1EBBGQ8/uDB/fLKJIWw4Xh9Xw8ejRz586dz4yHz9w5n3vOcRhjjAAAAAAAAAAAAIDr8LA7AAAAAAAAAAAAAORtFJQAAAAAAAAAAACQLQpKAAAAAAAAAAAAyBYFJQAAAAAAAAAAAGSLghIAAAAAAAAAAACyRUEJAAAAAAAAAAAA2aKgBAAAAAAAAAAAgGxRUAIAAAAAAAAAAEC2KCgBAAAAAAAAAAAgWxSUAAAAAAAAAAAAkC0KSgAAAAAAAAAAAMgWBSUAAAAAAAAAAABky8vuAAAAeUdaWpouXryo1NRUu0MB8A94enrK399fXl6c6uV1ly9fVmJioowxdocC4B/w9fWVn5+fHA6H3aEgG2lpaUpISFBKSordoQDIg7y8vBQQECAPD66/zw0XL15UcnKy3WHAjfn5+cnPz8/uMNwOvQwu8Nlnn+m1115TfHx8jh3z0qVLio+PV5EiRfhDQL7iyrZbpEgRjRs3Th07dszR4xYUCQkJWr16tdatW6dt27Zp3759OnnypK5cuWJ3aABySMmSJVW5cmXVrFlTDRs2VIsWLRQSEmJ3WAWSMUb79+/XihUrtHnzZu3YsUMxMTG6cOGC3aEByCG+vr6qUKGCqlevrjp16ig8PFx16tSRp6en3aEVSImJifrhhx+0du1a/fzzz5zrArghHh4eKl26tKpUqaJ7771XjRs3VrNmzRQYGGh3aG5lxIgRmjhxotLS0uwOBW7My8tL7733np555hm7Q3ErDsPlkDmuWrVq2rt3r91hAAVC1apVtWfPHrvDyDfS0tK0fPlyzZ49W0uXLlVSUpLdIQHIRR4eHgoLC1PPnj3VqVMnFSpUyO6Q3N6ZM2cUGRmpefPmcX4IFEClSpVSly5d1KdPH1WrVs3ucNyeMUYrV67U7Nmz9eWXX+rSpUt2hwTADXh7e6tNmzbq1auXHnroIS4U+IeMMQoICFBiYqLdoaAAaN26tb799lu7w3ArFJRcoFy5cjpx4oQ8PDxUpkyZHDnmqVOnlJaWlqPHBHKDq9puxnHLli2r48eP59hx3ZUxRlFRURo9erR27tyZ5T7FihVThQoVVLx4cfn4+ORyhAByUmpqqs6fP6/jx4/r5MmTWe5TpkwZDRkyRH379qWw5AKnT5/W+PHjNXv2bF2+fPmax728vFShQgWVKVOGqVWAfM4Yo0uXLun//u//FBMTc90ixiOPPKJx48bp7rvvzuUI3Z8xRkuWLNGoUaO0ffv2LPcJDg5WaGioihUrxvcegCwlJycrNjZWx44d09mzZ7Pcp3Llyho5cqQiIiI4f/ubzp8/r+DgYElSSEiI6tSpY3NEcDdxcXHasGGDJCkiIkILFiywOSL3QkHJBTIKSjnZ0e2KYwK5wVVtl7+JG7d371716dNHa9euddoeEhKiDh06qFWrVqpfvz7FasBNxcXFacuWLVqxYoWioqJ08OBBp8dvv/12vf/++2revLlNEbqXK1eu6O2339Zrr72mixcvOj3WqFEjtWvXTk2bNtXdd99N8R5wQ2lpaTpw4IDWrVunpUuX6rvvvnMqKjscDvXt21cTJ05k+qQcsn//fvXt21erV6922l6iRAm1b99erVu3Vv369XXLLbfYFCGA/Ojs2bPavHmzli1bpqioqGsu0qpdu7Y++OAD1apVy6YI86/du3frzjvvlCQ9/fTT+vjjj22OCO5m9erVatasmSRp8ODBmjx5ss0RuRdK6QDgpowxeu+991SzZk2nYlK9evW0ePFinThxQrNmzdKjjz5KMQlwY0FBQWrZsqUmTZqk/fv3a926dXr00Uetxw8ePKgWLVpowIABLIr7Dx0/flzh4eEaOHCgVUzy9/fXoEGDdPjwYa1bt04vv/yyateuTTEJcFMeHh6644479Mwzzyg6OlqnTp3S1KlTVa5cOUn/Oz+7++67tXnzZpujzd+MMfrwww9Vs2ZNp2JS3bp19emnn+rkyZP68MMP9dhjj1FMAnDTQkJC9PDDD+udd97RsWPHtHTpUoWHh1uPb926VXXr1tWkSZNYB+gmZS7O0RcBV6CNuRYFJQBwQykpKXrmmWf0/PPPW1fFVqpUSV999ZU2btyoRx99VN7e3jZHCSC3ORwONWrUSIsXL9a2bdvUqFEj67G33npLzZs317lz52yMMP/68ccfVbt2ba1bt05S+mfdp08fxcTE6M0339Rtt91mc4QA7BAcHKyBAwfqwIEDmjRpkvz9/SVJR48eVZMmTTR37lx7A8ynUlNT9dxzz+nZZ5+1phi87bbbFB0drc2bN6tTp06c6wLIMZ6ennrooYe0atUqrVy50hpdk5qaqqFDh6pz586s2XYTTp06Zd2m4A9XoI25FgUlAHAzSUlJ6tChgyIjI61t/fr1044dO9S2bVs5HA4bowOQV9SqVUtr1qzR22+/ba0lsX79ejVu3NjpBBx/beXKlWrWrJnOnDkjSbr11lu1Zs0avf/++woJCbE5OgB5ga+vr1555RXt3LnTKuanpKSoR48emjp1qs3R5S/Jycnq1KmTZs2aZW177rnntGPHDrVr145zXQAu1axZM23btk3Dhw+38s3nn3+u1q1bKz4+3ubo8gdGj8DVaGOuRUEJANxIamqqunTpoq+//lqSVKhQIX3yySd6++235efnZ3N0APIaDw8P9evXT+vWrVPp0qUlpa+71rx5c/3xxx82R5c/bNiwQQ8//LASExMlSWFhYdq2bZsaN25sc2QA8qLQ0FCtWrVKL7zwgrXt5Zdf1syZM22MKv+4cuWKIiIiFB0dLUny8fHR/Pnz9e6771qjvwDA1Xx8fPT666/rq6++UkBAgCRp7dq1euSRR5SUlGRzdHkfo0fgarQx16KgBABu5OWXX9aSJUskpa/b8d1336lLly42RwUgr6tTp442btyo0NBQSdKePXv02GOPKSUlxd7A8riYmBi1a9fOmuKkXbt2+v7771W8eHGbIwOQl3l7e+udd97RuHHjrG39+vXTN998Y2NU+cOwYcP0+eefS5L8/Pz09ddf66mnnrI5KgAF1UMPPaTVq1crODhYkvTDDz/o2WeflTHG5sjytsyjR+jshyswQsm1KCgBgJv49NNP9dZbb0lK76iIjo5W06ZN7Q0KQL5x2223aeXKlSpVqpQkac2aNRoxYoTNUeVdycnJ6tixozWSq0WLFvr000+t6QMBIDsOh0Ovvvqqhg0bJkkyxigiIkLHjh2zObK8Kzo6WlOmTJGUvp5JVFSUWrRoYXNUAAq62rVr67vvvlPhwoUlSfPnz3eakhPXorMfrpbRxgIDAxnB7AIUlADADZw+fVp9+/a17s+YMYMf2ABuWsWKFRUdHW0tZP7mm29q/fr1NkeVN40fP17btm2TJFWuXFmff/65fHx8bI4KQH4zfvx4dejQQZJ0/vx59ezZkyvbs3D27Fn17t3buj99+nS1bt3axogA4H/q1q2rjz/+2Lo/aNAgHTp0yMaI8raM6ciCg4Pl6+trczRwN8YYq40xAs41KCgBgBsYPHiwYmNjJUmPP/640w9uALgZ9erV0xtvvCEp/WS8b9++Sk1NtTmqvGX//v2aOHGiJMnLy0uLFi1SUFCQzVEByI88PDwUGRmp8uXLS5JWrlypTz75xOao8p6hQ4fq3LlzkqQOHTo4rUEFAHlBx44d9dxzz0mSEhMT1b9/f5sjypuMMdboEUYnwRXi4+OVkJAgiTbmKhSUACCf++WXX7RgwQJJUrFixTRjxgw5HA6bowKQn7300kuqXbu2JGnXrl1OV1xCGj58uLW+1JAhQ1SrVi2bIwKQnxUtWlTvv/++dX/YsGFKTk62MaK8ZefOnZozZ44kKSgoSO+99x7nugDypMmTJ6tcuXKSpG+++UarV6+2OaK8Jy4uTklJSZIYPQLXyBidJNHGXIWCEgDkc6+//rp1+7XXXlNISIiN0QBwB56enpo+fbp1//XXX9eVK1fsCygP2b17txYvXixJKl26tLX+CQD8Ew8++KBatWolSTp27Jjmz59vc0R5xxtvvGFNAzhixAhrrT8AyGsCAgKskf6SNG7cOBujyZsyr59EZz9cgTbmehSUACAf+/333/XFF19ISu/Y7NOnj80RAXAXDRs2VMuWLSVJMTEx+vrrr22OKG945513rNuDBw9mkVcAOWbMmDHW7bfffpu1lJR+lfFnn30mSSpRogRT3QHI85588klVrlxZkrR69Wrt3LnT5ojylsyd/UxHBlegjbkeBSUAyMfmz5+vtLQ0SVLfvn1Z0BJAjvrXv/5l3Z47d659geQRly9fttY28ff31zPPPGNzRADcyf3336/7779fkrR9+3b9+uuv9gaUB/znP/+x1vF79tlnVbhwYZsjAoDseXp6ql+/ftZ9zqGdMR0ZXI025noUlAAgH4uKirJud+vWzcZIALij1q1bW1MLffvtt0pMTLQ5InutXLlScXFxkqRHH31UgYGBNkcEwN10797dup0xvWZBlvkzyPzZAEBeFhERIS8vL0npeYwRp//D6BG4Gm3M9SgoAUA+dfbsWf3888+SpFq1aik0NNTegAC4HU9PTz3yyCOSpKSkJK1bt87miOy1bNky63aHDh1sjASAu2rfvr11O3POKYjOnz+vH3/8UZJ05513WlNIAUBeV6xYMYWFhUmSjhw5ooMHD9ocUd7B6BG4Gm3M9SgoAUA+tXnzZut2s2bNbIwEgDtr3ry5dXvDhg02RmK/jRs3WrfDw8NtjASAuypdurTuvPNOSdK2bdt06dIlmyOyz+bNm62r+jN/FwFAfsA5dNYyjx6hsx+uwAgl16OgBAD51G+//Wbdrlu3ro2RAHBnderUsW5nzjsFzZUrV7Rjxw5JUpUqVVS0aFF7AwLgtjLy7pUrV7R7926bo7HP9u3brduZv4sAID/InLcy57OCjs5+uFpGGwsMDJS/v7/N0bgnCkoAkE8dOnTIul21alUbIwHgzkJDQ1WoUCFJznmnoDl58qSSkpIkkXMBuFbmHFOQp0nK/N7JuwDyG3J51jKmIwsODpavr6/N0cDdGGOsNsYIONehoAQA+dTp06et22XLlrUxEgDuzMPDw7p68MyZMzZHYx9yLoDckjnHkHfTkXcB5DdlypSRw+GQVLBzeWbGGGv0CKOT4Arx8fFKSEiQRBtzJQpKAJBPxcfHW7eDgoJsjASAu8vIMZnzTkFz8eJF6zY5F4ArZc4x5N105F0A+Y2np6cCAgIkFexcnllcXJw14p/RI3CFjNFJEm3MlSgoAUA+lZaWZt329PS0MRIA7i4jx1y5csXmSOyT+b2TcwG4UuYcQ95N5+XlZWMkAPD3cA7tLPP6SXT2wxVoY7mDghIAAACylTFdBwDA9ci5AOAeyOfOMnf2Mx0ZXIE2ljsoKAEAAAAAAAAAXIbpyOBqtLHcQUEJAAAAAAAAAOAyjB6Bq9HGcgcFJQAAAAAAAACAyzB6BK5GG8sdFJQAAAAAAAAAAC6TefQInf1wBUYo5Q4KSgAAAAAAAAAAl6GzH66W0cYCAwPl7+9vczTui4ISAAAAAAAAAMBlMqYjCw4Olq+vr83RwN0YY6w2xgg416KgBAAAAAAAAABwCWOMNXqE0Ulwhfj4eCUkJEiijbkaBSUAAAAAAAAAgEvExcUpKSlJEqNH4BoZo5Mk2pirUVACAAAAAAAAALhE5vWT6OyHK9DGcg8FJQAAAAAAAACAS2Tu7Gc6MrgCbSz3UFACAAAAAAAAALgE05HB1WhjuYeCEgAAAAAAAADAJRg9AlejjeUeCkoAAAAAAAAAAJdg9AhcjTaWeygoAQAAAAAAAABcIvPoETr74QqMUMo9FJQAAAAAAAAAAC5BZz9cLaONBQYGyt/f3+Zo3BsFJQAAAAAAAACAS2RMRxYcHCxfX1+bo4G7McZYbYwRcK5HQQkAAAAAAAAAkOOMMdboEUYnwRXi4+OVkJAgiTaWGygoAQAAAAAAAAByXFxcnJKSkiQxegSukTE6SaKN5QYKSgAAAAAAAACAHJd5/SQ6++EKtLHcRUEJAAAAAAAAAJDjMnf2Mx0ZXIE2lrsoKAEAAAAAAAAAchzTkcHVaGO5i4ISAAAAAAAAACDHMXoErkYby10UlAAAAAAAAAAAOY7RI3A12ljuoqAEAAAAAAAAAMhxmUeP0NkPV2CEUu6ioATbdO/eXQ6H45r//Pz8VLNmTU2bNk1XrlyxO0wnc+fOlcPh0Pr16+0OBUAuOnjwoP71r3/pjjvuUEBAgAoVKqTQ0FD16NFDx44dkyT98MMPcjgcWrBgQa7E9HfzEXkMQF5HzgWAvOFG8rFdcut7wOFw6JlnnnHatmbNGj3++OMKDQ2Vr6+v/P39VaNGDQ0fPlxJSUm5FgeQX+Snzv6r+yq9vb1VqlQptWrVSh999JFSU1OtfY8cOXJNn6avr68qVKigjh07ateuXdcc/2bzakpKimbNmqXGjRsrODhYvr6+Cg0N1RNPPJHt+eXOnTvlcDjk4+OjM2fOZLlPaGioHA6Hli5dmuXjo0ePVmho6F98YnlDRhsLDAyUv7+/zdG4PwpKsJWnp6dOnTrl9N+PP/6oDh066OWXX9Zzzz1nd4g54rfffpPD4bA7DAB/w8GDB3Xfffdpy5YtmjZtmnbv3q3ffvtNY8eO1fLly9WwYUOdPXtWDRo00KlTp9SxY0e7Q863OnTooNGjR9sdBgAbkXNzDzkXQHZuNB9LBSufLFq0SOHh4SpUqJAWLlyogwcPatOmTXryySc1depUtW/f3u4QgTwnYzqyjIJIXpe5rzImJkZLlixRvXr1NGjQIDVo0EB//PGH0/5Dhgyx9t+7d69mzpyp7du3q1GjRjp37py1383kVUmKj49XeHi4hg4dqrZt22rt2rXavXu33nvvPf35558KCwvTv//97yzfw/vvv69KlSrJz89PkZGR2b7X559/XhcvXvyHn5p9jDFWG2MEXO7wsjsAoHTp0tfcv/vuu3XixAnNnj1b48ePV8mSJW2KLmesXbvW7hAA/E0fffSRLly4oOjoaJUqVcraXrVqVVWtWlW9e/fWjz/+qLZt216Tz3DjjDFav3697rnnHrtDAWAjcm7uIOcC+Cs3mo8feuihApVPpk+frqpVq2r+/PnWtnLlyunuu+9WQECAFi1apKNHj6pChQo2RgnkHcYYa/RIXh+dlFnm88xy5cqpXr16ioiIUP369fXEE09o2bJl1uMBAQFO+4eGhiopKUmdOnXS6tWr1alTJ0k3d54rSf369dPPP/+szZs3O+XYihUrqnXr1urSpYtGjBihjh076tZbb7UeT0hI0IIFC/TSSy8pJiZGH374oYYOHZrlhe49e/bUokWLNGLECL311ls58Mnlvvj4eCUkJEjKX20sP2OEEvKsmjVryhjjNOTzhx9+UMuWLRUYGChfX19VqVJF48aNs4acdu3aVbfffrvTcWbOnCmHw6Hx48c7ba9bt64eeeSR677+tm3b1KhRI/n6+qpkyZLq16+fLl26dM1+UVFRatCggfz9/VW4cGHVqFFD7777rvV49+7d1b9/f0npw9S7d+8uSfrzzz/Vt29flS1bVt7e3ipTpow6duyoQ4cO3dwHBcClMv7uExMTr3msbt26+u2339S2bdtrpt3IPM3Rww8/rCJFiqhEiRIaMmSILl++rAEDBqhkyZIKDg5Wly5ddOHCBeu4DodDgwcP1rRp0xQaGqpChQrpzjvvVHR0dLax7tixQ+3atVO5cuXk5+enu+++O9urkTK/3quvvqo33nhD5cqVU+HChdW0aVP9/vvvio6OVo0aNVS4cGHVrFlTGzZssJ7XvXt3hYSE6JdfflGDBg3k5+enkJAQDRgwQMnJyU7Hv3qKjvXr18vhcGju3Lk6cuSIPDw8dO7cOY0ZM0YOh0NHjhy54fcUGhqq7t2765VXXlGRIkWuyfcA8g9yLjkXQN5wI/m4Ro0a180nf/U7WZKaNm2qpk2batWqVapbt64KFy6s8uXLa/jw4TLGWPsdPnxYbdq0UeHChRUcHKynnnpKf/755zVx/VV/gZSeS0NDQ7Vo0SLdcsstatGihfV++/Tpo+LFi6tw4cIKCwvT9u3bs/xckpOTnY6ZoX///tqwYYNTMWnHjh166KGHFBQUpODgYD3wwAP68ccfrcfT0tI0YcIEVa1aVT4+PgoODlbjxo21cuXKLP9dMscxZMgQVa9eXX5+fipTpoyee+45xcbGWvuMHj1aDodDP/zwgypWrKjKlStne0zAFeLi4qypIPP76JEqVaro1Vdf1fLly7V58+Zs980o3gQHB1vbbvQ8V5KOHz+uBQsWqG/fvlkW7B0Oh95//32dOHHCqZgkSZ988oni4+PVvXt3PfPMM4qJiXEqgGV2yy23aMKECZoxY4Z++umnbN9TXpUxOknK/20sv6CghDxr9+7d8vDwsObrPHbsmFq3bq2goCBt2rRJ+/bt08iRIzV27FhNnDhRktSmTRsdOnRIx48ft46zfPly3XrrrVq1apW17fz589q2bZseeuihLF87Li5OrVq1UlxcnFasWKG1a9eqePHiev31153227x5szp27Kh7771Xv/zyi3bu3KkePXrohRdesDo43nrrLT355JOS0pNcRsU/IiJC0dHRmjdvng4fPqwvvvhChw4d0oMPPpjn1o4CCrKME7omTZpo5syZOnr06E09/6WXXtLTTz+tX3/9VU899ZQmT56sFi1aqGTJktq4caNmzJihRYsWacaMGU7P+/TTT/Xbb79p6dKl2rRpk2655RZ16tRJO3fuzPJ1YmJi1LhxY504cUILFy7Ur7/+qo4dO6pXr1764IMP/jLOhQsX6syZM1q5cqWioqK0ZcsWderUSTNnztS8efO0YcMGJScnq0ePHk7Pi4uLU//+/TVu3Dht375dr7zyit5++2299tprN/wZlS9fXtu2bZMkDRo0SKdOnVL58uVv6j1t2LBBJ0+e1E8//aQXX3zxhl8bQN5CziXnAsgbbiQfXy+f3Mjv5AxHjx7V6NGjNXXqVKuoPWHCBEVFRUmSrly5orZt22rnzp364osvtGXLFtWtW1cvv/yy03FupL8gQ2Jiot59910tWbJE//nPfySlF4Pmzp2rCRMmaPv27Ro4cKB69+6d5edy6NAhNW7cWJ999lmWha0MGXnVx8dHq1at0oYNG1SkSBG1aNHCupB0ypQpGj58uF555RUdPHjQKki1bdtWBw4cuO6xO3furBkzZmjgwIHatWuXPvjgA3311Vdq27atUzFOksaOHavIyEitWbPmuscDXCXz+knu0NmfMa3l8uXLs3w8LS1NO3bs0Lhx41S/fn2Fh4dbj93Mee6aNWus/Hc9wcHBKlas2DXb33//fbVu3VoVKlRQo0aNVL169WzPT/v27au6deuqd+/eWRbL8zp3a2P5gkGOK1u2rJFkypYtm6ePabdu3boZT0/Pa7ZfvHjRzJ071xQqVMh0797d2p6UlGT27t1rzp8/77R/nTp1zP3332+MMebcuXPGw8PDzJs3zxhjTEpKigkMDDRTpkwxvr6+5tKlS8YYY6Kioowkc+zYsSxji4yMNJLM2rVrnba3b9/eSDLr1q2zYt21a5dJTEx02i8kJMR07tzZut+rVy9z9Z/bsWPHTExMjNO2mTNnGklmz549WcaVH7mq7brj38RfGT16tImOjjYXL140xhhTv359I8lIMmlpaTZH594+/vhjU7p0aevzLlu2rHnyySfNwoULTXJysjHGmNWrVxtJZv78+cYYY+bMmWMkmfHjx1vHOXPmjJFkmjVr5nT8atWqmQ4dOlj3JZnSpUublJQUa9vhw4eNJDNs2DCn42fkoxdffNF4eXmZ48ePOx374YcfNmXLlrXayNXPy3i9KlWqOLWjNm3aGEnm6NGj1rZJkyYZSSYuLs4Yk57HJZmvvvrK6TXDwsJMmTJlnI7fq1cvp33WrVtnJJk5c+YYY4z5/fffjSQzatQoa58bfU8VKlQwfn5+Jj4+3sA17rvvPiPJeHl52R1Krtm4caOZOHGi2bVrl0lLSzPLly+3csCIESPsDs+tkXPTkXMLrm+++cZq/2PGjLE7nFwzduxYExUVZbWtJk2aWJ/D5cuXbY6uYLqRfJxVPrnR38lhYWFGkjl48KC17dy5c0aSGTRokDHGmFWrVhlJ1m/8DAMGDHD6HriR/gJj/pdLV65caW1LTEw0vr6+pmfPnk7PjY6OvianJicnm8GDBxtfX18jyTgcDnPnnXeaF1980axZs+aaGP38/MyFCxesbX/88Yfp0qWL+fbbb633u2vXLqfn7dq1y0gy7733nrUtcxxbt241ksykSZOcnrd48WIjySxbtswYY8yoUaOMJPPRRx8Z2CM4ONj63i8ovvzyS/POO++YI0eOGGOM0zn0kCFDbI7ur12vrzJDSkqKkWT69u1rYmJijCTj4+Nj/P39jb+/v/Hy8jKSTJMmTazPILMbyavGGDNx4sRr8uON+Omnn4wks2TJEmvbW2+9Zby8vMzJkyed9q1QoYKVu3fs2GG8vb3NhAkTrMdHjRplKlSocFOvb4cFCxZYn+e///1vu8MpEFhDyQVOnDjh9H9c35UrVxQQEOC0LTExUSVLltSAAQM0btw4a3uhQoV04MABDRw4UDt27FBsbKyMMbp06ZJuu+02SVLx4sVVt25drV69Wl27dtWWLVt0+fJl9e3bV+PGjdPGjRvVrFkzrVy5UnfddZfKly+fZVwZQ9vvu+8+p+1NmjRxmv7E399fP//8s1588UXt27dPFy5ckDFGiYmJTgvvZSUtLU1vvvmmVqxYoTNnziglJcW6EuCvnov/DRU+deqUypUrZ3M0uePs2bNKTk5WoUKF1Lx5c50+fdrukAqMp59+Wk888YTWrFmjNWvWaP369Vq8eLH++9//qkaNGtcdPi5JtWvXtm6HhIRIku69916nfUJCQpymp5Ck+vXry8vrf1/Tt912m4oXL67Dhw9n+TobN25UjRo1VLZsWaftrVq10ldffaXTp09nO5/wvffe6zSnckhIiEqUKOE0fD4j/tjYWAUGBlrbmzRpcs17XrNmjZKSkv7Roqs3856qV69+zfcJcl5qamqBybmJiYmKjY3V0KFDVbFixQKzNkReQM51jp+cW7BNnTr1hka9uYNz587p8uXLKlSokMLDw52uOIY9/m4+vpnfyaVKlVKlSpWs+8WLF5eHh4e16H12v82nT59u3b+R/oLM6tata93ev3+/kpKSsnyNq3l7e2vy5MkaMWKEvv/+e61fv17r16/XzJkzNWPGDHXq1EkLFy6Uh4eHNm/erGrVqqlIkSLW84sVK6ZPPvnEul+4cGFFRUWpa9euOnbsmC5dumSNMLpev8DGjRslpefnzFq2bCmHw6GtW7eqZcuWWb5X5K6MKWkPHz5cYM6h4+PjdeHCBfXr10933XWXNeuQ5B6jRzL67by9va1tL7zwgp5//nlJ6f2cx48f15w5c3TPPfdo0aJFTn+rN5JXy5QpY50nmqtGHP6V999/X2XLlnWakenpp5/W0KFDFRkZqREjRmT5vBo1amjw4MEaO3asOnXq5JSX8zqmvMt9FJRgK09PT/3666/W/QsXLqh58+Zq3LjxNcPSv/rqKz3yyCNq1aqV5syZo3LlysnT01MRERHWyaaUPu3dnDlzJKUPQW3QoIECAgLUuHFjrVq1Ss2aNdOKFSvUoUOH68Z14cIFORwOFS5c2Gl75h/zkjRjxgz169dPTz75pMaMGaNSpUrJw8NDTZs2zfZ9JyYmqkmTJrp06ZKmTJmie++9V35+foqKitKQIUOyfS7SxcfHS0ovzBW04m3ZsmVVuXJla35y5A5vb2+1aNHCmmc9Li5OU6dO1bhx4zR8+HB169Yty+f5+/tbtzNOCjNvy9h+9Yli0aJFrzlWQEDANZ2gGeLi4hQTE3NNB1/GFJonTpzItnMzq5iy2iY5n9Q6HI5rcmNGDLGxsf9oUcybeU9ZfV5wjYKWcx0Oh6pUqVJgOgHyCnIuORfpLly44LTmV0FQpkwZVa5cucB93+RVf5WPM18EmuFmfidnVZzOnKcz2v/V+12dC2+0v0BK74fIfLwbfY3MgoKC9Pjjj+vxxx+XlD51X79+/fTZZ5/poYceUrdu3fTnn3/+ZV7u2rWrvvjiC40ePVoPPviggoKCdOLEiWz7FOLi4iRJDRo0cLo4QUr/zrj6b4ecbZ+MtYNSU1MLXE7z8PBQ5cqV5eHxv9VW/sl5Sl6RMRVl5kJ1sWLFnNZzv+OOO9S8eXOFh4fr2WefvWZqu7/Kq3PmzLHWYjtw4MA1a8Vfz4ULF7Rw4UIlJCQ4XSiVYfbs2Ro2bJjTv0lmI0eO1Keffqq+ffted0q/vCjzBSju0MbyAwpKsN3ViXHKlCnq3bu3Fi5cqC5duljbP/74YwUEBCg6Otrp6svz5887Pb9NmzYaNWqUjhw5omXLlunBBx+UJIWHh2vx4sU6ceKE9u3bZ23PSkBAgIwx11zpefX8yHPnzlXlypW1YMEC60QuLS0t23mUJWnVqlU6duyYFixYoIiICGs7ayfduCJFiujPP/+Uh4dHgfnCSEtL0yuvvKJ//etfcjgcatCggd0hFQipqam6dOmS05WFUvqPyLFjx+qrr77Szz//fN3Ozb8ro2h69bbixYtnuX+xYsXk7++vxYsXZ/n41Vec5xRjjBISEpw6QjNizzyf89Wdt1m9v6vZ9Z6QvYLyuaekpMjb21sTJkxQ165dtWLFCr3zzjt2h+X2yLnZI+cWPIGBgdf8PbirtLQ0DR48WAMGDJDD4VBYWJjdIRVoN5qPs/J3fydnJaPIc/Ui9lcf60b7C/7Ja0hSQkKCvL295ePj47S9QoUKmj9/vooWLWp9T5UsWfK6FyZI6bk5KipKvXr10siRI63tZ8+ezTbejHwfFRWV5SiC7AphyF2+vr5W536pUqXsDidXXL58WX5+fpo0aZKeeOIJDRgwwHrMHUaPfPrpp5LS+x7/St26dfXDDz8oNjZWwcHBN5VXmzZtKm9vb3322WfXfa34+HjNmzdPPXv2lJ+fn+bNm6dLly5p9erV1xSS9+zZoyeffFLLli1T69atszyer6+vZs2apebNm2vevHl/+f7yCkYo5T4KSi5QtmxZnThxgh9df1OvXr30n//8Ry+++KLCw8OtL93k5GQFBAQ4nRyuX79e+/fvV8WKFa1ttWvXVsmSJbVkyRJt2bJF//73vyWlF5SGDh2qL7/8UsHBwdl2xlevXl2StGnTJqcF9H744Qen/ZKTk1W8eHGnq4I++eQTp2HqmRlj5HA4rGHPJUqUsB5LTU21EvbNDmktiPz8/CSlX31w/Phxm6OBu0pMTNStt96qBg0a6Msvv7zm8cuXL+vs2bMumQpr/fr1Sk5Otn6sHjp0SH/++aeVn67WsGFDffTRRypRooTTyePJkyfl4+Nj/c24wqpVq/Twww9b97ds2aJKlSqpUKFCktKvirz6h/H69euzPFbm/Gfne0LWvLy8yLlwGXLujSHnFiyDBg3Sa6+9ZncYKGD+Tj7OnE9u9ndydjL/Nq9ataq1Pavf5jfSX5CVypUry9vbW5s2bVLfvn2v+xqbNm1So0aNNHnyZA0aNOia42ScI2VMrX/33Xfrgw8+0Llz56zf/omJiWrTpo26deum9u3byxjj1C8gSZGRkZKu3y/QsGFD6/UyT6V15coV7du3z5oyFfbz8fFRQkKCKlasqH379tkdji0yjx7J753927Zt09SpU9W5c2dVrVr1L2eN2b17t3VhyM3m1VKlSqlnz5768MMP9eSTT1qjmTKkpaXp+eef16effqomTZrorrvu0qxZsxQWFpblCMeaNWtqxIgRmjVr1nULSpLUrFkzdevWTQMHDnS6yD8vY4RS7st6jBtgI4fDoQ8//FCJiYnq06ePtb1hw4Y6ffq03n33XR05ckT//e9/9cILL+jhhx/WyZMntXPnTl2+fFkOh0OtWrXStGnT5O/vb82lX7NmTQUEBGjq1Klq1aqVPD09rxvDY489psDAQL300kvatGmT9u7dq5EjR2rXrl1O+zVs2FBbt27V4sWLdeTIEc2cOVPvvfee6tWrp/379+vgwYO6cuWKdQXRF198ob1796pOnTry8fHR9OnTtX//fm3ZskUPPPCAVbxav359tlcyAcgdhQsX1qhRo7R06VJ16NBBK1as0LFjx3Tw4EF9+eWXatmypWJjY13S0ePh4aFevXppx44d2rZtm5599ll5e3vrqaeeynL/AQMGyMPDQ4899pg2bNigo0eP6quvvlKjRo3UtWvXHI8vg6enpyZMmKBly5bpwIEDmjhxojZs2KCePXta+9SrV08rVqzQ0qVLdfjwYc2ePVvff/+903GCg4PlcDi0adMmbd++XbGxsba9JwD2IOf+NXIugNxwM/k4q3xyo7+Tb0R4eLhCQ0M1evRorVixQgcOHNBbb711zfpNN9pfkJWAgAB17NhRixYtUmRkpA4dOqTo6GhNmjTJadqo+vXr69FHH9WQIUM0ePBg/fTTTzpx4oR2796tyMhIPfjgg6pUqZJ69+4tSXrppZfk6+urLl26aMeOHdqzZ4+eeeYZbdu2TY0aNVKxYsVUtWpVLVy4UFu2bNHevXvVr18/eXh4yNPTU1u3bnW68j7DPffco/bt22vo0KFasGCBDh8+rG3btqlr166qW7euYmJibvSfGnC5/NrZf/r0aZ0+fVqnTp3Sb7/9ptdff11NmzZVrVq1rlnb8OLFi077b9++XYMGDdLSpUs1fPhweXl5/a3z3KlTp6pJkyZq27athg8frl9++cWajalVq1b67LPPNG/ePN11111av369du7ced1zV0mKiIjQ0qVLs8wrmU2dOtXqm80PMtpYYGDgNVNIw0UMclzZsmWNJFO2bNk8fUy7devWzXh6el738UmTJhlJZt68ecYYYy5dumR69+5tihcvbooUKWJat25tDhw4YDZs2GBKlSplihQpYrZv326MMea///2vkWQeeeQRp2O2a9fO6ZjZWbdunalTp47x8fExJUqUMM8//7xZuHChkWTWrVtnjDHm3LlzpmPHjiYoKMgULVrUPP744+bMmTNm8eLFJigoyBQrVsycO3fO7Nu3z1StWtV4e3tbMS1cuNBUrlzZ+Pr6mmrVqpn58+eb5ORkExYWZnx8fMyrr776tz7XvMZVbdcd/yZuVv369Y0kI8mkpaXZHY5bW7FihenUqZMJDQ01fn5+plChQqZSpUqmV69eZs+ePcYYY1avXm0kmfnz5xtjjJkzZ45TvsggyYwaNcppW1hYmAkLC3Pap1evXmby5MmmQoUKxsfHx1SvXt18+eWX1j5ZHX/nzp2mXbt2Jjg42Hh6epry5cubl19+2Vy8eDHb52W8XmbdunUzFSpUcNqW8dyYmBhrH09PT7NlyxZTv3594+vra0qUKGEGDBhgUlJSrOcdOnTItGzZ0hQpUsQEBQWZLl26mK1btxpJZs6cOdZ+Q4cONf7+/iYwMNCK70beU4UKFUzz5s0NXOe+++4zkoyXl5fdodhm+fLlVs4dMWKE3eG4NXKu83PJuQXPN998Y+WbMWPG2B2ObZo0aWJ9DpcvX7Y7nALpRvKxMdfmkxv9nRwWFmYqVap0zet6enqabt26Wfd37dplwsPDja+vrwkKCjJPPPGEWbVqldP3wI32F1yvHyIuLs507drVBAUFGT8/P9O4cWPz66+/muDgYKecfeXKFTN79mwTHh5ubrnlFuPt7W38/f3NPffcY0aMGGH+/PNPp+Nu27bNPPDAAyYgIMAULVrUNGvWzPz000/W47/88oupV6+e8fPzM7fccosZNmyYSUlJMYMHDza+vr6mSZMmxphrvzsuXbpkhg0bZm677Tbj5eVlgoKCTNu2bc3WrVutfUaNGmUkmd9///1G/8mRw4KDg40kU6VKFbtDsU3FihWNJBMcHGx3KDekW7du1ndPxn9FihQxDRo0MO+++65JTk629o2JiblmX4fDYUJCQkyzZs1MVFTUNce/0byaISUlxXzwwQemcePGpmjRosbX19fcfvvtplevXmbXrl3WfhEREcbX19fExcVd973t27fPSDLjxo0zxqSf0119npxh3rx5RtI156d5TVpamvH39zeSTNWqVe0Op8BwGMPcWjmtXLly1pR3OTUtjCuOCeQGV7Vd/ibSF2HdtGmTpPThzlcvyIr8y+FwqFevXpo9e7bdoWSre/fuWrBggVJTU+0OBS5Wu3Zt/fzzz/Ly8lJKSord4dhixYoVatmypSRpxIgRGj9+vM0RIaeQc5HXfPvtt9Z6r2PGjCmwU96FhYVp7dq1ktKnArp6zRoAyOuKFSum2NhYValSpUBOeWeMUeHChZWUlKTq1atfM+sP8E9duHBBQUFBktJHtK5atcrmiAoGprwDAAAAAAAAAOSYuLg4JSUlScr/6ychb8o8fR9tLPdQUAIAAAAAAAAA5JjM6yfR2Q9XoI3Zw+uvdwEAALkpv8xGO3fuXM2dO9fuMADgHyHnAgAA5LzMnf1lypSxMRK4K9qYPRihBAAAAAAAAADIMUxHBlejjdmDghIAAAAAAAAAIMcwegSuRhuzBwUlAAAAAAAAAECOYfQIXI02Zg8KSgAAAAAAAACAHJN59Aid/XAFRijZg4ISAAAAAAAAACDH0NkPV8toY4GBgfL397c5moKDghIAAAAAAAAAIMdkTEcWHBwsX19fm6OBuzHGWG2MEXC5i4ISAAAAAAAAACBHGGOs0SOMToIrxMfHKyEhQRJtLLdRUAIAAAAAAAAA5Ii4uDglJSVJYvQIXCNjdJJEG8ttFJQAAAAAAAAAADki8/pJdPbDFWhj9qGgBAAAAAAAAADIEZk7+5mODK5AG7MPBSUAAAAAAAAAQI5gOjK4Gm3MPhSUAAAAAAAAAAA5gtEjcDXamH0oKAEAAAAAAAAAcgSjR+BqtDH7UFACAAAAAAAAAOSIzKNH6OyHKzBCyT4UlAAAAAAAAAAAOYLOfrhaRhsLDAyUv7+/zdEULBSUAAAAAAAAAAA5ImM6suDgYPn6+tocDdyNMcZqY4yAy30UlAAAAAAAAAAA/5gxxho9wugkuEJ8fLwSEhIk0cbsQEEJAAAAAAAAAPCPxcXFKSkpSRKjR+AaGaOTJNqYHSgoAQAAAAAAAAD+sczrJ9HZD1egjdmLghIAAAAAAAAA4B/L3NnPdGRwBdqYvSgoAQAAAAAAAAD+MaYjg6vRxuxFQQkAAAAAAAAA8I8xegSuRhuzFwUlAAAAAAAAAMA/xugRuBptzF4UlAAAAJAtY4zdIQBAgUHOBQD3UFDzeebRI3T2wxUYoWQvCkoAkE95enpat1NSUmyMBIC7S01NlSR5eXnZHIl9Mr93ci4AV8rIuRJ5NwN5F0B+VFDPoensh6tltLHAwED5+/vbHE3BQ0EJAPKpoKAg6/b58+ftCwSA24uNjZWUfsJeUGV+7+RcAK6UkXMl8m6GzJ8JAOQHKSkpunjxoqSCl8szpiMLDg6Wr6+vzdHA3RhjrDbGCDh7UFACgHwq85U+v//+u42RAHBnqampnLDL+b2TcwG4UuYcQ95NR94FkN8cP37cul2Qcrkxxho9wugkuEJ8fLwSEhIk0cbsQkEJAPKpypUrW7d3795tYyQA3NmBAwes6Tpuv/12m6OxT6lSpRQQECCJnAvAtTLnmMznewUN57oA8rOCmsvj4uKUlJQkqWAV0pB7Mi52lGhjdqGgBAD5VM2aNa3bP/74o32BAHBrmfNLrVq1bIzEXg6Hw8q7R48e1enTp+0NCIDbysi7hQoV0h133GFzNPbhXBdAfpY5b2XOZ+4u8/pJdPbDFWhj9qOgBAD5VL169eTp6SlJWr58uc3RAHBXmfNLo0aNbIzEfpnf/4oVK2yMBIC7Onz4sA4fPixJuv/+++Xj42NzRPapU6eOvL29JaV/FxljbI4IAG5cQT2HztzZz3RkcAXamP0oKAFAPhUYGKiGDRtKkvbv36+dO3faHBEAd5OUlKSvv/5aUnrOqVevns0R2at169bW7cWLF9sYCQB3lTm3ZM45BZG/v7+aNGkiSTpy5Ih++eUXmyMCgBtz/Phxa4TSnXfeqXLlytkcUe5hOjK4Gm3MfhSUACAf69ixo3U7MjLSxkgAuKOoqCjFxcVJktq3b1+gr5SX0q8uLV26tCTp66+/1pkzZ2yOCIA7McZozpw51v3M53kFVadOnazbnOsCyC/mzp1rjarMnMcKAkaPwNVoY/ajoAQA+diTTz6pQoUKSZI++ugjnT9/3t6AALgNY4ymTZtm3e/Zs6eN0eQNnp6e6tatmyQpJSVFM2bMsDkiAO7ku+++0549eyRJjRs3LlCLuF9P586d5efnJym9g/aPP/6wOSIAyF5SUpJmzpwpSfLw8LDOHQsKRo/A1Whj9qOgBAD5WPHixdW1a1dJ0oULFzR16lSbIwLgLr788ktt3bpVUvpCwhnTDhV0L7zwgry8vCRJb731ls6ePWtzRADcQVpamkaNGmXdHzBggH3B5CFFixZVjx49JEkJCQmaPHmyzREBQPbee+89nT59WlL6CP/Q0FB7A8plmUeP0NkPV2CEkv0oKAFAPjds2DBrweI333zTWsgZAP6uS5cuadCgQdb9UaNGyeFw2BhR3lG+fHlrtFZ8fLyGDx9uc0QA3MHHH3+sn376SZJ01113qX379vYGlIcMGTLEmnJ1+vTp2r9/v80RAUDWzpw5o7Fjx1r3R44caWM09qCzH66W0cYCAwPl7+9vczQFEwUlAMjnKlasqH79+klKH17fs2dPXblyxeaoAORnI0aM0KFDhyRJTZo0Ubt27WyOKG8ZPXq0ihQpIkmaPXu2vv/+e5sjApCf/f777xo4cKB1f+rUqfLw4Kd6hltvvdX6fJKTk9WjRw+lpqbaHBUAODPGqE+fPtY09N27d1fNmjVtjckOGdORBQcHy9fX1+Zo4G6MMVYbYwScfThLBQA3MHr0aN16662SpDVr1mj06NH2BgQg34qOjrbWTipUqJDef/99RiddpUyZMpo4caJ1v2vXrvr9999tjAhAfnX58mV17tzZ6oCMiIhQy5Yt7Q0qD3r11VdVsWJFSdLGjRs1YsQImyMCAGfTp0/XkiVLJEklSpQokFN0GmOs0SOMToIrxMfHKyEhQRJtzE4UlADADRQpUkTz58+3rmYdP3685s6da29QAPKdH3/8UREREdb9yZMnq1q1ajZGlHf17dtXbdq0kSSdPXtWDz30kGJjY22OCkB+cuXKFfXo0UObNm2SlD4S55133rE5qrzJ399fCxYssNawmzx5sj788EObowKAdNHR0Xr55Zet+5GRkQoJCbExInvExcUpKSlJEqNH4BoZo5Mk2pidKCgBgJto0qSJpkyZYt3v1auX5s2bZ2NEAPKTH3/8Ua1bt1ZiYqIk6YknnrCm08S1PDw8NH/+fOuK+R07duiBBx7QH3/8YXNkAPKD1NRUPfPMM/rkk08kSX5+foqKilJwcLDNkeVd9evXt0bQSlKfPn0UGRlpY0QAIC1ZskSdO3dWWlqapPSpox9++GGbo7JH5vWT6OyHK9DG8gYKSgDgRl566SX1799fkpSWlqZu3bpp/Pjx1sktAGRl8eLFatasmTXlUnh4uCIjI5nq7i8UL15c3377rUqWLClJ2rp1qxo0aKB9+/bZHBmAvOz8+fN65JFHrNHknp6eWrRoke677z57A8sHXnzxRQ0aNEhS+tRKvXr10qhRozjXBZDrjDF655139Oijjyo5OVlS+jTIY8eOtTky+2Tu7Gc6MrgCbSxvoKAEAG7E4XBo2rRpevHFF61tI0eOVNu2bZ2+eAFAkhISEtS/f3917NjRGpkUHh6uL7/8kkV0b1CVKlW0atUqlS5dWpK0f/9+1a5dW3PnzpUxxuboAOQ1GzZs0L333qtvv/1WkuTt7a1FixYV2KvZ/44pU6bopZdesu6PHTtWrVu31vHjx22MCkBBcu7cOXXu3Fn9+/e3CtoRERGKjIy0pqEviJiODK5GG8sbCm6WAwA35eHhobffflsTJkywRhd8++23qlatmqZNm2bNaQyg4EpLS9Pnn3+uGjVqOK3XERERoW+//VYBAQE2Rpf/3Hnnndq0aZNq1KghSbp48aJ69OihFi1a6LfffrM5OgB5walTp9S7d281btxYMTExkqRixYrp+++/12OPPWZzdPmLw+HQ1KlT9eabb1odt8uXL1f16tU1ZcoUXbp0yeYIAbirlJQUzZo1S9WqVdNnn31mbR86dKjmzZtnrfNWUDF6BK5GG8sbKCgBgBtyOBwaOnSovvvuO5UqVUqSdOHCBQ0cOFCVKlXSxIkTdebMGZujBJDbLl68qMjISNWsWVOdOnXSkSNHJEm+vr6aMWOG5s+fr0KFCtkbZD4VGhqqTZs2qVu3bta2VatWqWbNmmrXrp1WrFjBlExAAbR9+3Y999xzqlixombPnm2NXKxfv75+/vlnhYeH2xxh/uRwODRo0CAtW7bM6lCKj4/XK6+8oooVK+qNN97Q6dOnbY4SgLv4448/NH36dFWpUkV9+/bVuXPnJEnBwcFavHixJkyYUKBHJmVg9AhcjTaWNzgMc3HkuHLlyunEiRMqW7Zsjg27d8UxgdzgqrbL38SN++OPP/TKK69ozpw5TtMveXh4KCwsTK1atVL9+vVVo0YNFStWzMZIAeS0hIQE7dmzR1u2bNGKFSv0/fffW1PbZWjevLneffddValSxaYo3c/SpUvVr18/q2CXoUyZMmrbtq3Cw8N17733qmLFivL29rYnSAA5Li0tTSdOnNCvv/6qdevW6euvv9bu3bud9ilSpIjGjBmj/v37y9PT06ZI3UtsbKyGDBniVLCT0s91GzdurNatWzud67I+IIC/EhcXp127dmnz5s1atmyZVq5cqdTUVKd9OnfurGnTpjFKIpPHH3/cGrl1+PBh3XbbbTZHBHcTFhamtWvXSkq/WNLf39/miAomCkouQEEJ+B8KSnnHr7/+qjFjxmjJkiXXXdcjICBAxYoVk4+PDz+2gXwsNTVV58+fV2xs7HX3uf/++/Xaa6+pTZs2/L27QFJSkmbNmqUpU6boxIkTWe7j4eGhkJAQBQQEcFUrkI8ZY5SYmKhz585ZC7Nfzd/fX3379tWQIUMUEhKSyxEWDDt27NCYMWMUFRXFuS6Am2aMUUpKimJjY3XhwoXr7teqVSuNHj1a9erVy8Xo8odGjRppw4YNkqSKFSty4QRy3NGjR5WcnKzAwEDFxcXZHU6BRUHJBTI6uj08PHLsSoVTp04pLS0tR48J5AZXtd2M41JQunmHDh1SZGSkFi1apEOHDtkdDoBcFBISokcffVQ9evRQ3bp16UzLBSkpKVqyZInmzZunZcuW6fLly3aHBCCXOBwO1a9fXxEREYqIiFBQUJDdIRUIhw8f1pw5c7Rw4UIdPHjQ7nAAuIHy5cvr8ccfV8+ePVW9enW7w8mzatasyfqhyBV33XWXtm/fbncYBRYFJReoVq2a9u7da3cYQIFQtWpV7dmzx+4w8iVjjA4cOKC1a9dq27Zt2rdvn44fP67z588rJSXF7vAA/AOenp4KDAzULbfcottvv101a9ZUw4YNVatWLa4UtFFCQoI2bNigzZs3a8eOHYqJidH//d//KSEh4bpX0wPIH/z8/FS8eHFVqFBB1atXV506dRQWFsZoJBsZY3Tw4MEsz3WvN5IMQMHm7e2toKAglS1bVlWqVFGtWrXUuHFjVa9enQuxbsCcOXM0cuTIa6bYBnJSUFCQ3nzzTT322GN2h1JgUVBygc8//1wjR45UfHx8jh3z0qVLio+PV5EiReTn55djxwVczZVtt0iRIho3bpw6duyYo8cFAAAAAAAAADijoAQAAAAAAAAAAIBssfovAAAAAAAAAAAAskVBCQAAAAAAAAAAANmioAQAAAAAAAAAAIBsUVACAAAAAAAAAABAtigoAQAAAAAAAAAAIFsUlAAAAAAAAAAAAJAtCkoAAAAAAAAAAADIFgUlAAAAAAAAAAAAZIuCEgAAAAAAAAAAALJFQQkAAAAAAAAAAADZoqAEAAAAAAAAAACAbFFQAgAAAAAAAAAAQLb+H72YhjWr4WI/AAAAAElFTkSuQmCC\n"
                },
                "metadata": {}
              }
            ]
          }
        },
        "1138fcc0e64b4abebdd03cbdc22abf16": {
          "model_module": "@jupyter-widgets/base",
          "model_name": "LayoutModel",
          "model_module_version": "1.2.0",
          "state": {
            "_model_module": "@jupyter-widgets/base",
            "_model_module_version": "1.2.0",
            "_model_name": "LayoutModel",
            "_view_count": null,
            "_view_module": "@jupyter-widgets/base",
            "_view_module_version": "1.2.0",
            "_view_name": "LayoutView",
            "align_content": null,
            "align_items": null,
            "align_self": null,
            "border": null,
            "bottom": null,
            "display": null,
            "flex": null,
            "flex_flow": null,
            "grid_area": null,
            "grid_auto_columns": null,
            "grid_auto_flow": null,
            "grid_auto_rows": null,
            "grid_column": null,
            "grid_gap": null,
            "grid_row": null,
            "grid_template_areas": null,
            "grid_template_columns": null,
            "grid_template_rows": null,
            "height": null,
            "justify_content": null,
            "justify_items": null,
            "left": null,
            "margin": null,
            "max_height": null,
            "max_width": null,
            "min_height": null,
            "min_width": null,
            "object_fit": null,
            "object_position": null,
            "order": null,
            "overflow": null,
            "overflow_x": null,
            "overflow_y": null,
            "padding": null,
            "right": null,
            "top": null,
            "visibility": null,
            "width": null
          }
        },
        "7ede3da9c49941f797eb359c9ed0b0d3": {
          "model_module": "@jupyter-widgets/base",
          "model_name": "LayoutModel",
          "model_module_version": "1.2.0",
          "state": {
            "_model_module": "@jupyter-widgets/base",
            "_model_module_version": "1.2.0",
            "_model_name": "LayoutModel",
            "_view_count": null,
            "_view_module": "@jupyter-widgets/base",
            "_view_module_version": "1.2.0",
            "_view_name": "LayoutView",
            "align_content": null,
            "align_items": null,
            "align_self": null,
            "border": null,
            "bottom": null,
            "display": null,
            "flex": null,
            "flex_flow": null,
            "grid_area": null,
            "grid_auto_columns": null,
            "grid_auto_flow": null,
            "grid_auto_rows": null,
            "grid_column": null,
            "grid_gap": null,
            "grid_row": null,
            "grid_template_areas": null,
            "grid_template_columns": null,
            "grid_template_rows": null,
            "height": null,
            "justify_content": null,
            "justify_items": null,
            "left": null,
            "margin": null,
            "max_height": null,
            "max_width": null,
            "min_height": null,
            "min_width": null,
            "object_fit": null,
            "object_position": null,
            "order": null,
            "overflow": null,
            "overflow_x": null,
            "overflow_y": null,
            "padding": null,
            "right": null,
            "top": null,
            "visibility": null,
            "width": null
          }
        },
        "f89f08229cbe47abb01c3f7552a36274": {
          "model_module": "@jupyter-widgets/controls",
          "model_name": "ToggleButtonsStyleModel",
          "model_module_version": "1.5.0",
          "state": {
            "_model_module": "@jupyter-widgets/controls",
            "_model_module_version": "1.5.0",
            "_model_name": "ToggleButtonsStyleModel",
            "_view_count": null,
            "_view_module": "@jupyter-widgets/base",
            "_view_module_version": "1.2.0",
            "_view_name": "StyleView",
            "button_width": "",
            "description_width": "",
            "font_weight": ""
          }
        },
        "e15243bcc4954e28b1a739f6b418f81d": {
          "model_module": "@jupyter-widgets/base",
          "model_name": "LayoutModel",
          "model_module_version": "1.2.0",
          "state": {
            "_model_module": "@jupyter-widgets/base",
            "_model_module_version": "1.2.0",
            "_model_name": "LayoutModel",
            "_view_count": null,
            "_view_module": "@jupyter-widgets/base",
            "_view_module_version": "1.2.0",
            "_view_name": "LayoutView",
            "align_content": null,
            "align_items": null,
            "align_self": null,
            "border": null,
            "bottom": null,
            "display": null,
            "flex": null,
            "flex_flow": null,
            "grid_area": null,
            "grid_auto_columns": null,
            "grid_auto_flow": null,
            "grid_auto_rows": null,
            "grid_column": null,
            "grid_gap": null,
            "grid_row": null,
            "grid_template_areas": null,
            "grid_template_columns": null,
            "grid_template_rows": null,
            "height": null,
            "justify_content": null,
            "justify_items": null,
            "left": null,
            "margin": null,
            "max_height": null,
            "max_width": null,
            "min_height": null,
            "min_width": null,
            "object_fit": null,
            "object_position": null,
            "order": null,
            "overflow": null,
            "overflow_x": null,
            "overflow_y": null,
            "padding": null,
            "right": null,
            "top": null,
            "visibility": null,
            "width": null
          }
        },
        "c1118d2f5afa471ca3092dd5714bf6b6": {
          "model_module": "@jupyter-widgets/controls",
          "model_name": "HBoxModel",
          "model_module_version": "1.5.0",
          "state": {
            "_dom_classes": [],
            "_model_module": "@jupyter-widgets/controls",
            "_model_module_version": "1.5.0",
            "_model_name": "HBoxModel",
            "_view_count": null,
            "_view_module": "@jupyter-widgets/controls",
            "_view_module_version": "1.5.0",
            "_view_name": "HBoxView",
            "box_style": "",
            "children": [
              "IPY_MODEL_3ff203a3f06a416a951e0c590cd4f9b4",
              "IPY_MODEL_4b8adbe6b2f54b34900da4a8ac08d895",
              "IPY_MODEL_de866e73b84648148c51dd0b94e10c4a"
            ],
            "layout": "IPY_MODEL_415132a492474ab88bc6ebc534c2e563"
          }
        },
        "3ff203a3f06a416a951e0c590cd4f9b4": {
          "model_module": "@jupyter-widgets/controls",
          "model_name": "HTMLModel",
          "model_module_version": "1.5.0",
          "state": {
            "_dom_classes": [],
            "_model_module": "@jupyter-widgets/controls",
            "_model_module_version": "1.5.0",
            "_model_name": "HTMLModel",
            "_view_count": null,
            "_view_module": "@jupyter-widgets/controls",
            "_view_module_version": "1.5.0",
            "_view_name": "HTMLView",
            "description": "",
            "description_tooltip": null,
            "layout": "IPY_MODEL_bb82bf946587415abd5175b2cb2851e3",
            "placeholder": "​",
            "style": "IPY_MODEL_c1e25f57a8d84e558a961cb4a67fc111",
            "value": "Processing:   0%"
          }
        },
        "4b8adbe6b2f54b34900da4a8ac08d895": {
          "model_module": "@jupyter-widgets/controls",
          "model_name": "FloatProgressModel",
          "model_module_version": "1.5.0",
          "state": {
            "_dom_classes": [],
            "_model_module": "@jupyter-widgets/controls",
            "_model_module_version": "1.5.0",
            "_model_name": "FloatProgressModel",
            "_view_count": null,
            "_view_module": "@jupyter-widgets/controls",
            "_view_module_version": "1.5.0",
            "_view_name": "ProgressView",
            "bar_style": "",
            "description": "",
            "description_tooltip": null,
            "layout": "IPY_MODEL_ee07ad5f296444aca574a079a2bdbf77",
            "max": 3,
            "min": 0,
            "orientation": "horizontal",
            "style": "IPY_MODEL_1a497b90d9c047b788a9398db42b7f5b",
            "value": 3
          }
        },
        "de866e73b84648148c51dd0b94e10c4a": {
          "model_module": "@jupyter-widgets/controls",
          "model_name": "HTMLModel",
          "model_module_version": "1.5.0",
          "state": {
            "_dom_classes": [],
            "_model_module": "@jupyter-widgets/controls",
            "_model_module_version": "1.5.0",
            "_model_name": "HTMLModel",
            "_view_count": null,
            "_view_module": "@jupyter-widgets/controls",
            "_view_module_version": "1.5.0",
            "_view_name": "HTMLView",
            "description": "",
            "description_tooltip": null,
            "layout": "IPY_MODEL_ec00fadd8d4c49b89da0229e466bf1da",
            "placeholder": "​",
            "style": "IPY_MODEL_23029906e37f47bbab8a792085796107",
            "value": " 0/3 [00:00&lt;?, ?it/s]"
          }
        },
        "415132a492474ab88bc6ebc534c2e563": {
          "model_module": "@jupyter-widgets/base",
          "model_name": "LayoutModel",
          "model_module_version": "1.2.0",
          "state": {
            "_model_module": "@jupyter-widgets/base",
            "_model_module_version": "1.2.0",
            "_model_name": "LayoutModel",
            "_view_count": null,
            "_view_module": "@jupyter-widgets/base",
            "_view_module_version": "1.2.0",
            "_view_name": "LayoutView",
            "align_content": null,
            "align_items": null,
            "align_self": null,
            "border": null,
            "bottom": null,
            "display": null,
            "flex": null,
            "flex_flow": null,
            "grid_area": null,
            "grid_auto_columns": null,
            "grid_auto_flow": null,
            "grid_auto_rows": null,
            "grid_column": null,
            "grid_gap": null,
            "grid_row": null,
            "grid_template_areas": null,
            "grid_template_columns": null,
            "grid_template_rows": null,
            "height": null,
            "justify_content": null,
            "justify_items": null,
            "left": null,
            "margin": null,
            "max_height": null,
            "max_width": null,
            "min_height": null,
            "min_width": null,
            "object_fit": null,
            "object_position": null,
            "order": null,
            "overflow": null,
            "overflow_x": null,
            "overflow_y": null,
            "padding": null,
            "right": null,
            "top": null,
            "visibility": "hidden",
            "width": null
          }
        },
        "bb82bf946587415abd5175b2cb2851e3": {
          "model_module": "@jupyter-widgets/base",
          "model_name": "LayoutModel",
          "model_module_version": "1.2.0",
          "state": {
            "_model_module": "@jupyter-widgets/base",
            "_model_module_version": "1.2.0",
            "_model_name": "LayoutModel",
            "_view_count": null,
            "_view_module": "@jupyter-widgets/base",
            "_view_module_version": "1.2.0",
            "_view_name": "LayoutView",
            "align_content": null,
            "align_items": null,
            "align_self": null,
            "border": null,
            "bottom": null,
            "display": null,
            "flex": null,
            "flex_flow": null,
            "grid_area": null,
            "grid_auto_columns": null,
            "grid_auto_flow": null,
            "grid_auto_rows": null,
            "grid_column": null,
            "grid_gap": null,
            "grid_row": null,
            "grid_template_areas": null,
            "grid_template_columns": null,
            "grid_template_rows": null,
            "height": null,
            "justify_content": null,
            "justify_items": null,
            "left": null,
            "margin": null,
            "max_height": null,
            "max_width": null,
            "min_height": null,
            "min_width": null,
            "object_fit": null,
            "object_position": null,
            "order": null,
            "overflow": null,
            "overflow_x": null,
            "overflow_y": null,
            "padding": null,
            "right": null,
            "top": null,
            "visibility": null,
            "width": null
          }
        },
        "c1e25f57a8d84e558a961cb4a67fc111": {
          "model_module": "@jupyter-widgets/controls",
          "model_name": "DescriptionStyleModel",
          "model_module_version": "1.5.0",
          "state": {
            "_model_module": "@jupyter-widgets/controls",
            "_model_module_version": "1.5.0",
            "_model_name": "DescriptionStyleModel",
            "_view_count": null,
            "_view_module": "@jupyter-widgets/base",
            "_view_module_version": "1.2.0",
            "_view_name": "StyleView",
            "description_width": ""
          }
        },
        "ee07ad5f296444aca574a079a2bdbf77": {
          "model_module": "@jupyter-widgets/base",
          "model_name": "LayoutModel",
          "model_module_version": "1.2.0",
          "state": {
            "_model_module": "@jupyter-widgets/base",
            "_model_module_version": "1.2.0",
            "_model_name": "LayoutModel",
            "_view_count": null,
            "_view_module": "@jupyter-widgets/base",
            "_view_module_version": "1.2.0",
            "_view_name": "LayoutView",
            "align_content": null,
            "align_items": null,
            "align_self": null,
            "border": null,
            "bottom": null,
            "display": null,
            "flex": null,
            "flex_flow": null,
            "grid_area": null,
            "grid_auto_columns": null,
            "grid_auto_flow": null,
            "grid_auto_rows": null,
            "grid_column": null,
            "grid_gap": null,
            "grid_row": null,
            "grid_template_areas": null,
            "grid_template_columns": null,
            "grid_template_rows": null,
            "height": null,
            "justify_content": null,
            "justify_items": null,
            "left": null,
            "margin": null,
            "max_height": null,
            "max_width": null,
            "min_height": null,
            "min_width": null,
            "object_fit": null,
            "object_position": null,
            "order": null,
            "overflow": null,
            "overflow_x": null,
            "overflow_y": null,
            "padding": null,
            "right": null,
            "top": null,
            "visibility": null,
            "width": null
          }
        },
        "1a497b90d9c047b788a9398db42b7f5b": {
          "model_module": "@jupyter-widgets/controls",
          "model_name": "ProgressStyleModel",
          "model_module_version": "1.5.0",
          "state": {
            "_model_module": "@jupyter-widgets/controls",
            "_model_module_version": "1.5.0",
            "_model_name": "ProgressStyleModel",
            "_view_count": null,
            "_view_module": "@jupyter-widgets/base",
            "_view_module_version": "1.2.0",
            "_view_name": "StyleView",
            "bar_color": null,
            "description_width": ""
          }
        },
        "ec00fadd8d4c49b89da0229e466bf1da": {
          "model_module": "@jupyter-widgets/base",
          "model_name": "LayoutModel",
          "model_module_version": "1.2.0",
          "state": {
            "_model_module": "@jupyter-widgets/base",
            "_model_module_version": "1.2.0",
            "_model_name": "LayoutModel",
            "_view_count": null,
            "_view_module": "@jupyter-widgets/base",
            "_view_module_version": "1.2.0",
            "_view_name": "LayoutView",
            "align_content": null,
            "align_items": null,
            "align_self": null,
            "border": null,
            "bottom": null,
            "display": null,
            "flex": null,
            "flex_flow": null,
            "grid_area": null,
            "grid_auto_columns": null,
            "grid_auto_flow": null,
            "grid_auto_rows": null,
            "grid_column": null,
            "grid_gap": null,
            "grid_row": null,
            "grid_template_areas": null,
            "grid_template_columns": null,
            "grid_template_rows": null,
            "height": null,
            "justify_content": null,
            "justify_items": null,
            "left": null,
            "margin": null,
            "max_height": null,
            "max_width": null,
            "min_height": null,
            "min_width": null,
            "object_fit": null,
            "object_position": null,
            "order": null,
            "overflow": null,
            "overflow_x": null,
            "overflow_y": null,
            "padding": null,
            "right": null,
            "top": null,
            "visibility": null,
            "width": null
          }
        },
        "23029906e37f47bbab8a792085796107": {
          "model_module": "@jupyter-widgets/controls",
          "model_name": "DescriptionStyleModel",
          "model_module_version": "1.5.0",
          "state": {
            "_model_module": "@jupyter-widgets/controls",
            "_model_module_version": "1.5.0",
            "_model_name": "DescriptionStyleModel",
            "_view_count": null,
            "_view_module": "@jupyter-widgets/base",
            "_view_module_version": "1.2.0",
            "_view_name": "StyleView",
            "description_width": ""
          }
        }
      }
    }
  },
  "cells": [
    {
      "cell_type": "markdown",
      "metadata": {
        "id": "view-in-github",
        "colab_type": "text"
      },
      "source": [
        "<a href=\"https://colab.research.google.com/github/intimanjunath/Clustering/blob/main/d_DB_Scan_clustering_.ipynb\" target=\"_parent\"><img src=\"https://colab.research.google.com/assets/colab-badge.svg\" alt=\"Open In Colab\"/></a>"
      ]
    },
    {
      "cell_type": "code",
      "execution_count": 12,
      "metadata": {
        "colab": {
          "base_uri": "https://localhost:8080/"
        },
        "id": "HcXi1rWnDhN2",
        "outputId": "1974d130-44e9-4c5c-d71b-06033b9199fb"
      },
      "outputs": [
        {
          "output_type": "stream",
          "name": "stdout",
          "text": [
            "Requirement already satisfied: pycaret in /usr/local/lib/python3.10/dist-packages (3.3.2)\n",
            "Requirement already satisfied: kaleido in /usr/local/lib/python3.10/dist-packages (0.2.1)\n",
            "Requirement already satisfied: ipython>=5.5.0 in /usr/local/lib/python3.10/dist-packages (from pycaret) (7.34.0)\n",
            "Requirement already satisfied: ipywidgets>=7.6.5 in /usr/local/lib/python3.10/dist-packages (from pycaret) (7.7.1)\n",
            "Requirement already satisfied: tqdm>=4.62.0 in /usr/local/lib/python3.10/dist-packages (from pycaret) (4.66.6)\n",
            "Requirement already satisfied: numpy<1.27,>=1.21 in /usr/local/lib/python3.10/dist-packages (from pycaret) (1.26.4)\n",
            "Requirement already satisfied: pandas<2.2.0 in /usr/local/lib/python3.10/dist-packages (from pycaret) (2.1.4)\n",
            "Requirement already satisfied: jinja2>=3 in /usr/local/lib/python3.10/dist-packages (from pycaret) (3.1.4)\n",
            "Requirement already satisfied: scipy<=1.11.4,>=1.6.1 in /usr/local/lib/python3.10/dist-packages (from pycaret) (1.11.4)\n",
            "Requirement already satisfied: joblib<1.4,>=1.2.0 in /usr/local/lib/python3.10/dist-packages (from pycaret) (1.3.2)\n",
            "Requirement already satisfied: scikit-learn>1.4.0 in /usr/local/lib/python3.10/dist-packages (from pycaret) (1.4.2)\n",
            "Requirement already satisfied: pyod>=1.1.3 in /usr/local/lib/python3.10/dist-packages (from pycaret) (2.0.2)\n",
            "Requirement already satisfied: imbalanced-learn>=0.12.0 in /usr/local/lib/python3.10/dist-packages (from pycaret) (0.12.4)\n",
            "Requirement already satisfied: category-encoders>=2.4.0 in /usr/local/lib/python3.10/dist-packages (from pycaret) (2.6.4)\n",
            "Requirement already satisfied: lightgbm>=3.0.0 in /usr/local/lib/python3.10/dist-packages (from pycaret) (4.5.0)\n",
            "Requirement already satisfied: numba>=0.55.0 in /usr/local/lib/python3.10/dist-packages (from pycaret) (0.60.0)\n",
            "Requirement already satisfied: requests>=2.27.1 in /usr/local/lib/python3.10/dist-packages (from pycaret) (2.32.3)\n",
            "Requirement already satisfied: psutil>=5.9.0 in /usr/local/lib/python3.10/dist-packages (from pycaret) (5.9.5)\n",
            "Requirement already satisfied: markupsafe>=2.0.1 in /usr/local/lib/python3.10/dist-packages (from pycaret) (3.0.2)\n",
            "Requirement already satisfied: importlib-metadata>=4.12.0 in /usr/local/lib/python3.10/dist-packages (from pycaret) (8.5.0)\n",
            "Requirement already satisfied: nbformat>=4.2.0 in /usr/local/lib/python3.10/dist-packages (from pycaret) (5.10.4)\n",
            "Requirement already satisfied: cloudpickle in /usr/local/lib/python3.10/dist-packages (from pycaret) (3.1.0)\n",
            "Requirement already satisfied: deprecation>=2.1.0 in /usr/local/lib/python3.10/dist-packages (from pycaret) (2.1.0)\n",
            "Requirement already satisfied: xxhash in /usr/local/lib/python3.10/dist-packages (from pycaret) (3.5.0)\n",
            "Requirement already satisfied: matplotlib<3.8.0 in /usr/local/lib/python3.10/dist-packages (from pycaret) (3.7.5)\n",
            "Requirement already satisfied: scikit-plot>=0.3.7 in /usr/local/lib/python3.10/dist-packages (from pycaret) (0.3.7)\n",
            "Requirement already satisfied: yellowbrick>=1.4 in /usr/local/lib/python3.10/dist-packages (from pycaret) (1.5)\n",
            "Requirement already satisfied: plotly>=5.14.0 in /usr/local/lib/python3.10/dist-packages (from pycaret) (5.24.1)\n",
            "Requirement already satisfied: schemdraw==0.15 in /usr/local/lib/python3.10/dist-packages (from pycaret) (0.15)\n",
            "Requirement already satisfied: plotly-resampler>=0.8.3.1 in /usr/local/lib/python3.10/dist-packages (from pycaret) (0.10.0)\n",
            "Requirement already satisfied: statsmodels>=0.12.1 in /usr/local/lib/python3.10/dist-packages (from pycaret) (0.14.4)\n",
            "Requirement already satisfied: sktime==0.26.0 in /usr/local/lib/python3.10/dist-packages (from pycaret) (0.26.0)\n",
            "Requirement already satisfied: tbats>=1.1.3 in /usr/local/lib/python3.10/dist-packages (from pycaret) (1.1.3)\n",
            "Requirement already satisfied: pmdarima>=2.0.4 in /usr/local/lib/python3.10/dist-packages (from pycaret) (2.0.4)\n",
            "Requirement already satisfied: wurlitzer in /usr/local/lib/python3.10/dist-packages (from pycaret) (3.1.1)\n",
            "Requirement already satisfied: packaging in /usr/local/lib/python3.10/dist-packages (from sktime==0.26.0->pycaret) (24.2)\n",
            "Requirement already satisfied: scikit-base<0.8.0 in /usr/local/lib/python3.10/dist-packages (from sktime==0.26.0->pycaret) (0.7.8)\n",
            "Requirement already satisfied: patsy>=0.5.1 in /usr/local/lib/python3.10/dist-packages (from category-encoders>=2.4.0->pycaret) (1.0.1)\n",
            "Requirement already satisfied: threadpoolctl>=2.0.0 in /usr/local/lib/python3.10/dist-packages (from imbalanced-learn>=0.12.0->pycaret) (3.5.0)\n",
            "Requirement already satisfied: zipp>=3.20 in /usr/local/lib/python3.10/dist-packages (from importlib-metadata>=4.12.0->pycaret) (3.21.0)\n",
            "Requirement already satisfied: setuptools>=18.5 in /usr/local/lib/python3.10/dist-packages (from ipython>=5.5.0->pycaret) (75.1.0)\n",
            "Requirement already satisfied: jedi>=0.16 in /usr/local/lib/python3.10/dist-packages (from ipython>=5.5.0->pycaret) (0.19.2)\n",
            "Requirement already satisfied: decorator in /usr/local/lib/python3.10/dist-packages (from ipython>=5.5.0->pycaret) (4.4.2)\n",
            "Requirement already satisfied: pickleshare in /usr/local/lib/python3.10/dist-packages (from ipython>=5.5.0->pycaret) (0.7.5)\n",
            "Requirement already satisfied: traitlets>=4.2 in /usr/local/lib/python3.10/dist-packages (from ipython>=5.5.0->pycaret) (5.7.1)\n",
            "Requirement already satisfied: prompt-toolkit!=3.0.0,!=3.0.1,<3.1.0,>=2.0.0 in /usr/local/lib/python3.10/dist-packages (from ipython>=5.5.0->pycaret) (3.0.48)\n",
            "Requirement already satisfied: pygments in /usr/local/lib/python3.10/dist-packages (from ipython>=5.5.0->pycaret) (2.18.0)\n",
            "Requirement already satisfied: backcall in /usr/local/lib/python3.10/dist-packages (from ipython>=5.5.0->pycaret) (0.2.0)\n",
            "Requirement already satisfied: matplotlib-inline in /usr/local/lib/python3.10/dist-packages (from ipython>=5.5.0->pycaret) (0.1.7)\n",
            "Requirement already satisfied: pexpect>4.3 in /usr/local/lib/python3.10/dist-packages (from ipython>=5.5.0->pycaret) (4.9.0)\n",
            "Requirement already satisfied: ipykernel>=4.5.1 in /usr/local/lib/python3.10/dist-packages (from ipywidgets>=7.6.5->pycaret) (5.5.6)\n",
            "Requirement already satisfied: ipython-genutils~=0.2.0 in /usr/local/lib/python3.10/dist-packages (from ipywidgets>=7.6.5->pycaret) (0.2.0)\n",
            "Requirement already satisfied: widgetsnbextension~=3.6.0 in /usr/local/lib/python3.10/dist-packages (from ipywidgets>=7.6.5->pycaret) (3.6.10)\n",
            "Requirement already satisfied: jupyterlab-widgets>=1.0.0 in /usr/local/lib/python3.10/dist-packages (from ipywidgets>=7.6.5->pycaret) (3.0.13)\n",
            "Requirement already satisfied: contourpy>=1.0.1 in /usr/local/lib/python3.10/dist-packages (from matplotlib<3.8.0->pycaret) (1.3.1)\n",
            "Requirement already satisfied: cycler>=0.10 in /usr/local/lib/python3.10/dist-packages (from matplotlib<3.8.0->pycaret) (0.12.1)\n",
            "Requirement already satisfied: fonttools>=4.22.0 in /usr/local/lib/python3.10/dist-packages (from matplotlib<3.8.0->pycaret) (4.55.0)\n",
            "Requirement already satisfied: kiwisolver>=1.0.1 in /usr/local/lib/python3.10/dist-packages (from matplotlib<3.8.0->pycaret) (1.4.7)\n",
            "Requirement already satisfied: pillow>=6.2.0 in /usr/local/lib/python3.10/dist-packages (from matplotlib<3.8.0->pycaret) (11.0.0)\n",
            "Requirement already satisfied: pyparsing>=2.3.1 in /usr/local/lib/python3.10/dist-packages (from matplotlib<3.8.0->pycaret) (3.2.0)\n",
            "Requirement already satisfied: python-dateutil>=2.7 in /usr/local/lib/python3.10/dist-packages (from matplotlib<3.8.0->pycaret) (2.8.2)\n",
            "Requirement already satisfied: fastjsonschema>=2.15 in /usr/local/lib/python3.10/dist-packages (from nbformat>=4.2.0->pycaret) (2.20.0)\n",
            "Requirement already satisfied: jsonschema>=2.6 in /usr/local/lib/python3.10/dist-packages (from nbformat>=4.2.0->pycaret) (4.23.0)\n",
            "Requirement already satisfied: jupyter-core!=5.0.*,>=4.12 in /usr/local/lib/python3.10/dist-packages (from nbformat>=4.2.0->pycaret) (5.7.2)\n",
            "Requirement already satisfied: llvmlite<0.44,>=0.43.0dev0 in /usr/local/lib/python3.10/dist-packages (from numba>=0.55.0->pycaret) (0.43.0)\n",
            "Requirement already satisfied: pytz>=2020.1 in /usr/local/lib/python3.10/dist-packages (from pandas<2.2.0->pycaret) (2024.2)\n",
            "Requirement already satisfied: tzdata>=2022.1 in /usr/local/lib/python3.10/dist-packages (from pandas<2.2.0->pycaret) (2024.2)\n",
            "Requirement already satisfied: tenacity>=6.2.0 in /usr/local/lib/python3.10/dist-packages (from plotly>=5.14.0->pycaret) (9.0.0)\n",
            "Requirement already satisfied: dash>=2.9.0 in /usr/local/lib/python3.10/dist-packages (from plotly-resampler>=0.8.3.1->pycaret) (2.18.2)\n",
            "Requirement already satisfied: orjson<4.0.0,>=3.8.0 in /usr/local/lib/python3.10/dist-packages (from plotly-resampler>=0.8.3.1->pycaret) (3.10.11)\n",
            "Requirement already satisfied: tsdownsample>=0.1.3 in /usr/local/lib/python3.10/dist-packages (from plotly-resampler>=0.8.3.1->pycaret) (0.1.3)\n",
            "Requirement already satisfied: Cython!=0.29.18,!=0.29.31,>=0.29 in /usr/local/lib/python3.10/dist-packages (from pmdarima>=2.0.4->pycaret) (3.0.11)\n",
            "Requirement already satisfied: urllib3 in /usr/local/lib/python3.10/dist-packages (from pmdarima>=2.0.4->pycaret) (2.2.3)\n",
            "Requirement already satisfied: charset-normalizer<4,>=2 in /usr/local/lib/python3.10/dist-packages (from requests>=2.27.1->pycaret) (3.4.0)\n",
            "Requirement already satisfied: idna<4,>=2.5 in /usr/local/lib/python3.10/dist-packages (from requests>=2.27.1->pycaret) (3.10)\n",
            "Requirement already satisfied: certifi>=2017.4.17 in /usr/local/lib/python3.10/dist-packages (from requests>=2.27.1->pycaret) (2024.8.30)\n",
            "Requirement already satisfied: Flask<3.1,>=1.0.4 in /usr/local/lib/python3.10/dist-packages (from dash>=2.9.0->plotly-resampler>=0.8.3.1->pycaret) (3.0.3)\n",
            "Requirement already satisfied: Werkzeug<3.1 in /usr/local/lib/python3.10/dist-packages (from dash>=2.9.0->plotly-resampler>=0.8.3.1->pycaret) (3.0.6)\n",
            "Requirement already satisfied: dash-html-components==2.0.0 in /usr/local/lib/python3.10/dist-packages (from dash>=2.9.0->plotly-resampler>=0.8.3.1->pycaret) (2.0.0)\n",
            "Requirement already satisfied: dash-core-components==2.0.0 in /usr/local/lib/python3.10/dist-packages (from dash>=2.9.0->plotly-resampler>=0.8.3.1->pycaret) (2.0.0)\n",
            "Requirement already satisfied: dash-table==5.0.0 in /usr/local/lib/python3.10/dist-packages (from dash>=2.9.0->plotly-resampler>=0.8.3.1->pycaret) (5.0.0)\n",
            "Requirement already satisfied: typing-extensions>=4.1.1 in /usr/local/lib/python3.10/dist-packages (from dash>=2.9.0->plotly-resampler>=0.8.3.1->pycaret) (4.12.2)\n",
            "Requirement already satisfied: retrying in /usr/local/lib/python3.10/dist-packages (from dash>=2.9.0->plotly-resampler>=0.8.3.1->pycaret) (1.3.4)\n",
            "Requirement already satisfied: nest-asyncio in /usr/local/lib/python3.10/dist-packages (from dash>=2.9.0->plotly-resampler>=0.8.3.1->pycaret) (1.6.0)\n",
            "Requirement already satisfied: jupyter-client in /usr/local/lib/python3.10/dist-packages (from ipykernel>=4.5.1->ipywidgets>=7.6.5->pycaret) (6.1.12)\n",
            "Requirement already satisfied: tornado>=4.2 in /usr/local/lib/python3.10/dist-packages (from ipykernel>=4.5.1->ipywidgets>=7.6.5->pycaret) (6.3.3)\n",
            "Requirement already satisfied: parso<0.9.0,>=0.8.4 in /usr/local/lib/python3.10/dist-packages (from jedi>=0.16->ipython>=5.5.0->pycaret) (0.8.4)\n",
            "Requirement already satisfied: attrs>=22.2.0 in /usr/local/lib/python3.10/dist-packages (from jsonschema>=2.6->nbformat>=4.2.0->pycaret) (24.2.0)\n",
            "Requirement already satisfied: jsonschema-specifications>=2023.03.6 in /usr/local/lib/python3.10/dist-packages (from jsonschema>=2.6->nbformat>=4.2.0->pycaret) (2024.10.1)\n",
            "Requirement already satisfied: referencing>=0.28.4 in /usr/local/lib/python3.10/dist-packages (from jsonschema>=2.6->nbformat>=4.2.0->pycaret) (0.35.1)\n",
            "Requirement already satisfied: rpds-py>=0.7.1 in /usr/local/lib/python3.10/dist-packages (from jsonschema>=2.6->nbformat>=4.2.0->pycaret) (0.21.0)\n",
            "Requirement already satisfied: platformdirs>=2.5 in /usr/local/lib/python3.10/dist-packages (from jupyter-core!=5.0.*,>=4.12->nbformat>=4.2.0->pycaret) (4.3.6)\n",
            "Requirement already satisfied: ptyprocess>=0.5 in /usr/local/lib/python3.10/dist-packages (from pexpect>4.3->ipython>=5.5.0->pycaret) (0.7.0)\n",
            "Requirement already satisfied: wcwidth in /usr/local/lib/python3.10/dist-packages (from prompt-toolkit!=3.0.0,!=3.0.1,<3.1.0,>=2.0.0->ipython>=5.5.0->pycaret) (0.2.13)\n",
            "Requirement already satisfied: six>=1.5 in /usr/local/lib/python3.10/dist-packages (from python-dateutil>=2.7->matplotlib<3.8.0->pycaret) (1.16.0)\n",
            "Requirement already satisfied: notebook>=4.4.1 in /usr/local/lib/python3.10/dist-packages (from widgetsnbextension~=3.6.0->ipywidgets>=7.6.5->pycaret) (6.5.5)\n",
            "Requirement already satisfied: itsdangerous>=2.1.2 in /usr/local/lib/python3.10/dist-packages (from Flask<3.1,>=1.0.4->dash>=2.9.0->plotly-resampler>=0.8.3.1->pycaret) (2.2.0)\n",
            "Requirement already satisfied: click>=8.1.3 in /usr/local/lib/python3.10/dist-packages (from Flask<3.1,>=1.0.4->dash>=2.9.0->plotly-resampler>=0.8.3.1->pycaret) (8.1.7)\n",
            "Requirement already satisfied: blinker>=1.6.2 in /usr/local/lib/python3.10/dist-packages (from Flask<3.1,>=1.0.4->dash>=2.9.0->plotly-resampler>=0.8.3.1->pycaret) (1.9.0)\n",
            "Requirement already satisfied: pyzmq<25,>=17 in /usr/local/lib/python3.10/dist-packages (from notebook>=4.4.1->widgetsnbextension~=3.6.0->ipywidgets>=7.6.5->pycaret) (24.0.1)\n",
            "Requirement already satisfied: argon2-cffi in /usr/local/lib/python3.10/dist-packages (from notebook>=4.4.1->widgetsnbextension~=3.6.0->ipywidgets>=7.6.5->pycaret) (23.1.0)\n",
            "Requirement already satisfied: nbconvert>=5 in /usr/local/lib/python3.10/dist-packages (from notebook>=4.4.1->widgetsnbextension~=3.6.0->ipywidgets>=7.6.5->pycaret) (7.16.4)\n",
            "Requirement already satisfied: Send2Trash>=1.8.0 in /usr/local/lib/python3.10/dist-packages (from notebook>=4.4.1->widgetsnbextension~=3.6.0->ipywidgets>=7.6.5->pycaret) (1.8.3)\n",
            "Requirement already satisfied: terminado>=0.8.3 in /usr/local/lib/python3.10/dist-packages (from notebook>=4.4.1->widgetsnbextension~=3.6.0->ipywidgets>=7.6.5->pycaret) (0.18.1)\n",
            "Requirement already satisfied: prometheus-client in /usr/local/lib/python3.10/dist-packages (from notebook>=4.4.1->widgetsnbextension~=3.6.0->ipywidgets>=7.6.5->pycaret) (0.21.0)\n",
            "Requirement already satisfied: nbclassic>=0.4.7 in /usr/local/lib/python3.10/dist-packages (from notebook>=4.4.1->widgetsnbextension~=3.6.0->ipywidgets>=7.6.5->pycaret) (1.1.0)\n",
            "Requirement already satisfied: notebook-shim>=0.2.3 in /usr/local/lib/python3.10/dist-packages (from nbclassic>=0.4.7->notebook>=4.4.1->widgetsnbextension~=3.6.0->ipywidgets>=7.6.5->pycaret) (0.2.4)\n",
            "Requirement already satisfied: beautifulsoup4 in /usr/local/lib/python3.10/dist-packages (from nbconvert>=5->notebook>=4.4.1->widgetsnbextension~=3.6.0->ipywidgets>=7.6.5->pycaret) (4.12.3)\n",
            "Requirement already satisfied: bleach!=5.0.0 in /usr/local/lib/python3.10/dist-packages (from nbconvert>=5->notebook>=4.4.1->widgetsnbextension~=3.6.0->ipywidgets>=7.6.5->pycaret) (6.2.0)\n",
            "Requirement already satisfied: defusedxml in /usr/local/lib/python3.10/dist-packages (from nbconvert>=5->notebook>=4.4.1->widgetsnbextension~=3.6.0->ipywidgets>=7.6.5->pycaret) (0.7.1)\n",
            "Requirement already satisfied: jupyterlab-pygments in /usr/local/lib/python3.10/dist-packages (from nbconvert>=5->notebook>=4.4.1->widgetsnbextension~=3.6.0->ipywidgets>=7.6.5->pycaret) (0.3.0)\n",
            "Requirement already satisfied: mistune<4,>=2.0.3 in /usr/local/lib/python3.10/dist-packages (from nbconvert>=5->notebook>=4.4.1->widgetsnbextension~=3.6.0->ipywidgets>=7.6.5->pycaret) (3.0.2)\n",
            "Requirement already satisfied: nbclient>=0.5.0 in /usr/local/lib/python3.10/dist-packages (from nbconvert>=5->notebook>=4.4.1->widgetsnbextension~=3.6.0->ipywidgets>=7.6.5->pycaret) (0.10.0)\n",
            "Requirement already satisfied: pandocfilters>=1.4.1 in /usr/local/lib/python3.10/dist-packages (from nbconvert>=5->notebook>=4.4.1->widgetsnbextension~=3.6.0->ipywidgets>=7.6.5->pycaret) (1.5.1)\n",
            "Requirement already satisfied: tinycss2 in /usr/local/lib/python3.10/dist-packages (from nbconvert>=5->notebook>=4.4.1->widgetsnbextension~=3.6.0->ipywidgets>=7.6.5->pycaret) (1.4.0)\n",
            "Requirement already satisfied: argon2-cffi-bindings in /usr/local/lib/python3.10/dist-packages (from argon2-cffi->notebook>=4.4.1->widgetsnbextension~=3.6.0->ipywidgets>=7.6.5->pycaret) (21.2.0)\n",
            "Requirement already satisfied: webencodings in /usr/local/lib/python3.10/dist-packages (from bleach!=5.0.0->nbconvert>=5->notebook>=4.4.1->widgetsnbextension~=3.6.0->ipywidgets>=7.6.5->pycaret) (0.5.1)\n",
            "Requirement already satisfied: jupyter-server<3,>=1.8 in /usr/local/lib/python3.10/dist-packages (from notebook-shim>=0.2.3->nbclassic>=0.4.7->notebook>=4.4.1->widgetsnbextension~=3.6.0->ipywidgets>=7.6.5->pycaret) (1.24.0)\n",
            "Requirement already satisfied: cffi>=1.0.1 in /usr/local/lib/python3.10/dist-packages (from argon2-cffi-bindings->argon2-cffi->notebook>=4.4.1->widgetsnbextension~=3.6.0->ipywidgets>=7.6.5->pycaret) (1.17.1)\n",
            "Requirement already satisfied: soupsieve>1.2 in /usr/local/lib/python3.10/dist-packages (from beautifulsoup4->nbconvert>=5->notebook>=4.4.1->widgetsnbextension~=3.6.0->ipywidgets>=7.6.5->pycaret) (2.6)\n",
            "Requirement already satisfied: pycparser in /usr/local/lib/python3.10/dist-packages (from cffi>=1.0.1->argon2-cffi-bindings->argon2-cffi->notebook>=4.4.1->widgetsnbextension~=3.6.0->ipywidgets>=7.6.5->pycaret) (2.22)\n",
            "Requirement already satisfied: anyio<4,>=3.1.0 in /usr/local/lib/python3.10/dist-packages (from jupyter-server<3,>=1.8->notebook-shim>=0.2.3->nbclassic>=0.4.7->notebook>=4.4.1->widgetsnbextension~=3.6.0->ipywidgets>=7.6.5->pycaret) (3.7.1)\n",
            "Requirement already satisfied: websocket-client in /usr/local/lib/python3.10/dist-packages (from jupyter-server<3,>=1.8->notebook-shim>=0.2.3->nbclassic>=0.4.7->notebook>=4.4.1->widgetsnbextension~=3.6.0->ipywidgets>=7.6.5->pycaret) (1.8.0)\n",
            "Requirement already satisfied: sniffio>=1.1 in /usr/local/lib/python3.10/dist-packages (from anyio<4,>=3.1.0->jupyter-server<3,>=1.8->notebook-shim>=0.2.3->nbclassic>=0.4.7->notebook>=4.4.1->widgetsnbextension~=3.6.0->ipywidgets>=7.6.5->pycaret) (1.3.1)\n",
            "Requirement already satisfied: exceptiongroup in /usr/local/lib/python3.10/dist-packages (from anyio<4,>=3.1.0->jupyter-server<3,>=1.8->notebook-shim>=0.2.3->nbclassic>=0.4.7->notebook>=4.4.1->widgetsnbextension~=3.6.0->ipywidgets>=7.6.5->pycaret) (1.2.2)\n",
            "Requirement already satisfied: chromium in /usr/local/lib/python3.10/dist-packages (0.0.0)\n"
          ]
        }
      ],
      "source": [
        "# Install necessary libraries\n",
        "!pip install pycaret kaleido\n",
        "!pip install chromium"
      ]
    },
    {
      "cell_type": "code",
      "source": [
        "# Update and install chromium for visualization support\n",
        "!apt-get update\n",
        "!apt-get install -y chromium-browser"
      ],
      "metadata": {
        "colab": {
          "base_uri": "https://localhost:8080/"
        },
        "id": "mPIR6xYTDqr8",
        "outputId": "b53a254f-1835-4361-f76b-5d4af42ce512"
      },
      "execution_count": 13,
      "outputs": [
        {
          "output_type": "stream",
          "name": "stdout",
          "text": [
            "\r0% [Working]\r            \rGet:1 https://cloud.r-project.org/bin/linux/ubuntu jammy-cran40/ InRelease [3,626 B]\n",
            "Get:2 https://developer.download.nvidia.com/compute/cuda/repos/ubuntu2204/x86_64  InRelease [1,581 B]\n",
            "Hit:3 http://archive.ubuntu.com/ubuntu jammy InRelease\n",
            "Get:4 https://r2u.stat.illinois.edu/ubuntu jammy InRelease [6,555 B]\n",
            "Get:5 http://security.ubuntu.com/ubuntu jammy-security InRelease [129 kB]\n",
            "Get:6 https://developer.download.nvidia.com/compute/cuda/repos/ubuntu2204/x86_64  Packages [1,172 kB]\n",
            "Get:7 http://archive.ubuntu.com/ubuntu jammy-updates InRelease [128 kB]\n",
            "Hit:8 https://ppa.launchpadcontent.net/deadsnakes/ppa/ubuntu jammy InRelease\n",
            "Hit:9 https://ppa.launchpadcontent.net/graphics-drivers/ppa/ubuntu jammy InRelease\n",
            "Get:10 https://r2u.stat.illinois.edu/ubuntu jammy/main amd64 Packages [2,616 kB]\n",
            "Hit:11 https://ppa.launchpadcontent.net/ubuntugis/ppa/ubuntu jammy InRelease\n",
            "Get:12 http://archive.ubuntu.com/ubuntu jammy-backports InRelease [127 kB]\n",
            "Get:13 https://r2u.stat.illinois.edu/ubuntu jammy/main all Packages [8,501 kB]\n",
            "Get:14 http://security.ubuntu.com/ubuntu jammy-security/universe amd64 Packages [1,223 kB]\n",
            "Get:15 http://archive.ubuntu.com/ubuntu jammy-updates/main amd64 Packages [2,734 kB]\n",
            "Get:16 http://archive.ubuntu.com/ubuntu jammy-updates/universe amd64 Packages [1,512 kB]\n",
            "Fetched 16.9 MB in 2s (6,917 kB/s)\n",
            "Reading package lists... Done\n",
            "W: Skipping acquire of configured file 'main/source/Sources' as repository 'https://r2u.stat.illinois.edu/ubuntu jammy InRelease' does not seem to provide it (sources.list entry misspelt?)\n",
            "Reading package lists... Done\n",
            "Building dependency tree... Done\n",
            "Reading state information... Done\n",
            "chromium-browser is already the newest version (1:85.0.4183.83-0ubuntu2.22.04.1).\n",
            "0 upgraded, 0 newly installed, 0 to remove and 48 not upgraded.\n"
          ]
        }
      ]
    },
    {
      "cell_type": "code",
      "source": [
        "# Import necessary libraries\n",
        "from pycaret.clustering import *\n",
        "from pycaret.datasets import get_data\n",
        "import pandas as pd"
      ],
      "metadata": {
        "id": "xDA5QikWDsBu"
      },
      "execution_count": 14,
      "outputs": []
    },
    {
      "cell_type": "code",
      "source": [
        "# Load the iris dataset\n",
        "from sklearn.datasets import load_iris\n",
        "iris = load_iris(as_frame=True)\n",
        "data = iris['data']\n",
        "data['target'] = iris['target']"
      ],
      "metadata": {
        "id": "nLTg-SzDDtwD"
      },
      "execution_count": 17,
      "outputs": []
    },
    {
      "cell_type": "code",
      "source": [
        "# Display the first few rows of the dataset\n",
        "print(data.head())"
      ],
      "metadata": {
        "colab": {
          "base_uri": "https://localhost:8080/"
        },
        "id": "u85b487GDv37",
        "outputId": "c2b1f4a0-5930-4889-a0b6-55602855a382"
      },
      "execution_count": 18,
      "outputs": [
        {
          "output_type": "stream",
          "name": "stdout",
          "text": [
            "   sepal length (cm)  sepal width (cm)  petal length (cm)  petal width (cm)  \\\n",
            "0                5.1               3.5                1.4               0.2   \n",
            "1                4.9               3.0                1.4               0.2   \n",
            "2                4.7               3.2                1.3               0.2   \n",
            "3                4.6               3.1                1.5               0.2   \n",
            "4                5.0               3.6                1.4               0.2   \n",
            "\n",
            "   target  \n",
            "0       0  \n",
            "1       0  \n",
            "2       0  \n",
            "3       0  \n",
            "4       0  \n"
          ]
        }
      ]
    },
    {
      "cell_type": "code",
      "source": [
        "# Display basic information about the dataset\n",
        "print(data.info())\n",
        "\n",
        "# Display summary statistics of the dataset\n",
        "print(data.describe())"
      ],
      "metadata": {
        "colab": {
          "base_uri": "https://localhost:8080/"
        },
        "id": "BqF3YXC9Dxib",
        "outputId": "ba401068-633f-4143-ce49-d4a24fd26959"
      },
      "execution_count": 19,
      "outputs": [
        {
          "output_type": "stream",
          "name": "stdout",
          "text": [
            "<class 'pandas.core.frame.DataFrame'>\n",
            "RangeIndex: 150 entries, 0 to 149\n",
            "Data columns (total 5 columns):\n",
            " #   Column             Non-Null Count  Dtype  \n",
            "---  ------             --------------  -----  \n",
            " 0   sepal length (cm)  150 non-null    float64\n",
            " 1   sepal width (cm)   150 non-null    float64\n",
            " 2   petal length (cm)  150 non-null    float64\n",
            " 3   petal width (cm)   150 non-null    float64\n",
            " 4   target             150 non-null    int64  \n",
            "dtypes: float64(4), int64(1)\n",
            "memory usage: 6.0 KB\n",
            "None\n",
            "       sepal length (cm)  sepal width (cm)  petal length (cm)  \\\n",
            "count         150.000000        150.000000         150.000000   \n",
            "mean            5.843333          3.057333           3.758000   \n",
            "std             0.828066          0.435866           1.765298   \n",
            "min             4.300000          2.000000           1.000000   \n",
            "25%             5.100000          2.800000           1.600000   \n",
            "50%             5.800000          3.000000           4.350000   \n",
            "75%             6.400000          3.300000           5.100000   \n",
            "max             7.900000          4.400000           6.900000   \n",
            "\n",
            "       petal width (cm)      target  \n",
            "count        150.000000  150.000000  \n",
            "mean           1.199333    1.000000  \n",
            "std            0.762238    0.819232  \n",
            "min            0.100000    0.000000  \n",
            "25%            0.300000    0.000000  \n",
            "50%            1.300000    1.000000  \n",
            "75%            1.800000    2.000000  \n",
            "max            2.500000    2.000000  \n"
          ]
        }
      ]
    },
    {
      "cell_type": "code",
      "source": [
        "# Display the shape of the dataset\n",
        "print(f\"Dataset shape: {data.shape}\")"
      ],
      "metadata": {
        "colab": {
          "base_uri": "https://localhost:8080/"
        },
        "id": "PawP91quDzni",
        "outputId": "de446889-8bb2-4e5e-adc2-b6ac762a7e1f"
      },
      "execution_count": 20,
      "outputs": [
        {
          "output_type": "stream",
          "name": "stdout",
          "text": [
            "Dataset shape: (150, 5)\n"
          ]
        }
      ]
    },
    {
      "cell_type": "code",
      "source": [
        "# Initialize the PyCaret clustering setup\n",
        "exp_clu = setup(data, normalize=True, ignore_features=['target'], session_id=113)"
      ],
      "metadata": {
        "colab": {
          "base_uri": "https://localhost:8080/",
          "height": 551
        },
        "id": "a8-BRd7pD0_z",
        "outputId": "81b8d620-0fce-4964-e730-8ead8939265b"
      },
      "execution_count": 22,
      "outputs": [
        {
          "output_type": "display_data",
          "data": {
            "text/plain": [
              "<pandas.io.formats.style.Styler at 0x791c1b0533a0>"
            ],
            "text/html": [
              "<style type=\"text/css\">\n",
              "#T_9ab08_row5_col1, #T_9ab08_row9_col1 {\n",
              "  background-color: lightgreen;\n",
              "}\n",
              "</style>\n",
              "<table id=\"T_9ab08\" class=\"dataframe\">\n",
              "  <thead>\n",
              "    <tr>\n",
              "      <th class=\"blank level0\" >&nbsp;</th>\n",
              "      <th id=\"T_9ab08_level0_col0\" class=\"col_heading level0 col0\" >Description</th>\n",
              "      <th id=\"T_9ab08_level0_col1\" class=\"col_heading level0 col1\" >Value</th>\n",
              "    </tr>\n",
              "  </thead>\n",
              "  <tbody>\n",
              "    <tr>\n",
              "      <th id=\"T_9ab08_level0_row0\" class=\"row_heading level0 row0\" >0</th>\n",
              "      <td id=\"T_9ab08_row0_col0\" class=\"data row0 col0\" >Session id</td>\n",
              "      <td id=\"T_9ab08_row0_col1\" class=\"data row0 col1\" >113</td>\n",
              "    </tr>\n",
              "    <tr>\n",
              "      <th id=\"T_9ab08_level0_row1\" class=\"row_heading level0 row1\" >1</th>\n",
              "      <td id=\"T_9ab08_row1_col0\" class=\"data row1 col0\" >Original data shape</td>\n",
              "      <td id=\"T_9ab08_row1_col1\" class=\"data row1 col1\" >(150, 5)</td>\n",
              "    </tr>\n",
              "    <tr>\n",
              "      <th id=\"T_9ab08_level0_row2\" class=\"row_heading level0 row2\" >2</th>\n",
              "      <td id=\"T_9ab08_row2_col0\" class=\"data row2 col0\" >Transformed data shape</td>\n",
              "      <td id=\"T_9ab08_row2_col1\" class=\"data row2 col1\" >(150, 4)</td>\n",
              "    </tr>\n",
              "    <tr>\n",
              "      <th id=\"T_9ab08_level0_row3\" class=\"row_heading level0 row3\" >3</th>\n",
              "      <td id=\"T_9ab08_row3_col0\" class=\"data row3 col0\" >Ignore features</td>\n",
              "      <td id=\"T_9ab08_row3_col1\" class=\"data row3 col1\" >1</td>\n",
              "    </tr>\n",
              "    <tr>\n",
              "      <th id=\"T_9ab08_level0_row4\" class=\"row_heading level0 row4\" >4</th>\n",
              "      <td id=\"T_9ab08_row4_col0\" class=\"data row4 col0\" >Numeric features</td>\n",
              "      <td id=\"T_9ab08_row4_col1\" class=\"data row4 col1\" >4</td>\n",
              "    </tr>\n",
              "    <tr>\n",
              "      <th id=\"T_9ab08_level0_row5\" class=\"row_heading level0 row5\" >5</th>\n",
              "      <td id=\"T_9ab08_row5_col0\" class=\"data row5 col0\" >Preprocess</td>\n",
              "      <td id=\"T_9ab08_row5_col1\" class=\"data row5 col1\" >True</td>\n",
              "    </tr>\n",
              "    <tr>\n",
              "      <th id=\"T_9ab08_level0_row6\" class=\"row_heading level0 row6\" >6</th>\n",
              "      <td id=\"T_9ab08_row6_col0\" class=\"data row6 col0\" >Imputation type</td>\n",
              "      <td id=\"T_9ab08_row6_col1\" class=\"data row6 col1\" >simple</td>\n",
              "    </tr>\n",
              "    <tr>\n",
              "      <th id=\"T_9ab08_level0_row7\" class=\"row_heading level0 row7\" >7</th>\n",
              "      <td id=\"T_9ab08_row7_col0\" class=\"data row7 col0\" >Numeric imputation</td>\n",
              "      <td id=\"T_9ab08_row7_col1\" class=\"data row7 col1\" >mean</td>\n",
              "    </tr>\n",
              "    <tr>\n",
              "      <th id=\"T_9ab08_level0_row8\" class=\"row_heading level0 row8\" >8</th>\n",
              "      <td id=\"T_9ab08_row8_col0\" class=\"data row8 col0\" >Categorical imputation</td>\n",
              "      <td id=\"T_9ab08_row8_col1\" class=\"data row8 col1\" >mode</td>\n",
              "    </tr>\n",
              "    <tr>\n",
              "      <th id=\"T_9ab08_level0_row9\" class=\"row_heading level0 row9\" >9</th>\n",
              "      <td id=\"T_9ab08_row9_col0\" class=\"data row9 col0\" >Normalize</td>\n",
              "      <td id=\"T_9ab08_row9_col1\" class=\"data row9 col1\" >True</td>\n",
              "    </tr>\n",
              "    <tr>\n",
              "      <th id=\"T_9ab08_level0_row10\" class=\"row_heading level0 row10\" >10</th>\n",
              "      <td id=\"T_9ab08_row10_col0\" class=\"data row10 col0\" >Normalize method</td>\n",
              "      <td id=\"T_9ab08_row10_col1\" class=\"data row10 col1\" >zscore</td>\n",
              "    </tr>\n",
              "    <tr>\n",
              "      <th id=\"T_9ab08_level0_row11\" class=\"row_heading level0 row11\" >11</th>\n",
              "      <td id=\"T_9ab08_row11_col0\" class=\"data row11 col0\" >CPU Jobs</td>\n",
              "      <td id=\"T_9ab08_row11_col1\" class=\"data row11 col1\" >-1</td>\n",
              "    </tr>\n",
              "    <tr>\n",
              "      <th id=\"T_9ab08_level0_row12\" class=\"row_heading level0 row12\" >12</th>\n",
              "      <td id=\"T_9ab08_row12_col0\" class=\"data row12 col0\" >Use GPU</td>\n",
              "      <td id=\"T_9ab08_row12_col1\" class=\"data row12 col1\" >False</td>\n",
              "    </tr>\n",
              "    <tr>\n",
              "      <th id=\"T_9ab08_level0_row13\" class=\"row_heading level0 row13\" >13</th>\n",
              "      <td id=\"T_9ab08_row13_col0\" class=\"data row13 col0\" >Log Experiment</td>\n",
              "      <td id=\"T_9ab08_row13_col1\" class=\"data row13 col1\" >False</td>\n",
              "    </tr>\n",
              "    <tr>\n",
              "      <th id=\"T_9ab08_level0_row14\" class=\"row_heading level0 row14\" >14</th>\n",
              "      <td id=\"T_9ab08_row14_col0\" class=\"data row14 col0\" >Experiment Name</td>\n",
              "      <td id=\"T_9ab08_row14_col1\" class=\"data row14 col1\" >cluster-default-name</td>\n",
              "    </tr>\n",
              "    <tr>\n",
              "      <th id=\"T_9ab08_level0_row15\" class=\"row_heading level0 row15\" >15</th>\n",
              "      <td id=\"T_9ab08_row15_col0\" class=\"data row15 col0\" >USI</td>\n",
              "      <td id=\"T_9ab08_row15_col1\" class=\"data row15 col1\" >55f6</td>\n",
              "    </tr>\n",
              "  </tbody>\n",
              "</table>\n"
            ]
          },
          "metadata": {}
        }
      ]
    },
    {
      "cell_type": "code",
      "source": [
        "# Create a DBSCAN model\n",
        "dbscan_model = create_model('dbscan')"
      ],
      "metadata": {
        "colab": {
          "base_uri": "https://localhost:8080/",
          "height": 81,
          "referenced_widgets": [
            "746a7a7016d34b7c890fcb871ab8ec22",
            "b76d5875120a414f96d3e93f791e6efb",
            "ae190c44eaa4402987a9de9ff06788db",
            "5161fe48c53d4090a161c3b21699f5e8",
            "a735f90cd0434c8e8762f251a3c20565",
            "71210512697540428bb639eb2628e768",
            "081bea237f574c6084c7c468395ceb3c",
            "ee0d470c70cf4397b497337015efa921",
            "1b50131856fa4e8d9eeaf3b0815babe7",
            "548fccff77c9452694522b9e67456d64",
            "9c70b719a8e94fb9a63b3cd4679ae9c6"
          ]
        },
        "id": "XOH6zXVTD3zQ",
        "outputId": "cdbf4e1c-5183-4023-cb60-80f0bc7e32a6"
      },
      "execution_count": 23,
      "outputs": [
        {
          "output_type": "display_data",
          "data": {
            "text/plain": [
              "<IPython.core.display.HTML object>"
            ],
            "text/html": []
          },
          "metadata": {}
        },
        {
          "output_type": "display_data",
          "data": {
            "text/plain": [
              "<pandas.io.formats.style.Styler at 0x791c1ca13910>"
            ],
            "text/html": [
              "<style type=\"text/css\">\n",
              "</style>\n",
              "<table id=\"T_ccf09\" class=\"dataframe\">\n",
              "  <thead>\n",
              "    <tr>\n",
              "      <th class=\"blank level0\" >&nbsp;</th>\n",
              "      <th id=\"T_ccf09_level0_col0\" class=\"col_heading level0 col0\" >Silhouette</th>\n",
              "      <th id=\"T_ccf09_level0_col1\" class=\"col_heading level0 col1\" >Calinski-Harabasz</th>\n",
              "      <th id=\"T_ccf09_level0_col2\" class=\"col_heading level0 col2\" >Davies-Bouldin</th>\n",
              "      <th id=\"T_ccf09_level0_col3\" class=\"col_heading level0 col3\" >Homogeneity</th>\n",
              "      <th id=\"T_ccf09_level0_col4\" class=\"col_heading level0 col4\" >Rand Index</th>\n",
              "      <th id=\"T_ccf09_level0_col5\" class=\"col_heading level0 col5\" >Completeness</th>\n",
              "    </tr>\n",
              "  </thead>\n",
              "  <tbody>\n",
              "    <tr>\n",
              "      <th id=\"T_ccf09_level0_row0\" class=\"row_heading level0 row0\" >0</th>\n",
              "      <td id=\"T_ccf09_row0_col0\" class=\"data row0 col0\" >0.3565</td>\n",
              "      <td id=\"T_ccf09_row0_col1\" class=\"data row0 col1\" >84.5103</td>\n",
              "      <td id=\"T_ccf09_row0_col2\" class=\"data row0 col2\" >7.1241</td>\n",
              "      <td id=\"T_ccf09_row0_col3\" class=\"data row0 col3\" >0</td>\n",
              "      <td id=\"T_ccf09_row0_col4\" class=\"data row0 col4\" >0</td>\n",
              "      <td id=\"T_ccf09_row0_col5\" class=\"data row0 col5\" >0</td>\n",
              "    </tr>\n",
              "  </tbody>\n",
              "</table>\n"
            ]
          },
          "metadata": {}
        },
        {
          "output_type": "display_data",
          "data": {
            "text/plain": [
              "Processing:   0%|          | 0/3 [00:00<?, ?it/s]"
            ],
            "application/vnd.jupyter.widget-view+json": {
              "version_major": 2,
              "version_minor": 0,
              "model_id": "746a7a7016d34b7c890fcb871ab8ec22"
            }
          },
          "metadata": {
            "application/vnd.jupyter.widget-view+json": {
              "colab": {
                "custom_widget_manager": {
                  "url": "https://ssl.gstatic.com/colaboratory-static/widgets/colab-cdn-widget-manager/2b70e893a8ba7c0f/manager.min.js"
                }
              }
            }
          }
        },
        {
          "output_type": "display_data",
          "data": {
            "text/plain": [
              "<IPython.core.display.HTML object>"
            ],
            "text/html": []
          },
          "metadata": {}
        }
      ]
    },
    {
      "cell_type": "code",
      "source": [
        "# Print the DBSCAN model\n",
        "print(dbscan_model)"
      ],
      "metadata": {
        "colab": {
          "base_uri": "https://localhost:8080/"
        },
        "id": "HjCsOsk6D5kQ",
        "outputId": "41fd5ddf-2bd1-4389-f076-6dee0044768c"
      },
      "execution_count": 24,
      "outputs": [
        {
          "output_type": "stream",
          "name": "stdout",
          "text": [
            "DBSCAN(n_jobs=-1)\n"
          ]
        }
      ]
    },
    {
      "cell_type": "code",
      "source": [
        "# Plot the DBSCAN clusters\n",
        "plot_model(dbscan_model, plot='cluster')"
      ],
      "metadata": {
        "colab": {
          "base_uri": "https://localhost:8080/",
          "height": 617
        },
        "id": "Fc-F1_JxD63t",
        "outputId": "0f5b9fbf-ed9d-4fe8-a2ff-94e89ad70802"
      },
      "execution_count": 25,
      "outputs": [
        {
          "output_type": "display_data",
          "data": {
            "text/plain": [
              "<IPython.core.display.HTML object>"
            ],
            "text/html": []
          },
          "metadata": {}
        },
        {
          "output_type": "display_data",
          "data": {
            "text/html": [
              "<html>\n",
              "<head><meta charset=\"utf-8\" /></head>\n",
              "<body>\n",
              "    <div>            <script src=\"https://cdnjs.cloudflare.com/ajax/libs/mathjax/2.7.5/MathJax.js?config=TeX-AMS-MML_SVG\"></script><script type=\"text/javascript\">if (window.MathJax && window.MathJax.Hub && window.MathJax.Hub.Config) {window.MathJax.Hub.Config({SVG: {font: \"STIX-Web\"}});}</script>                <script type=\"text/javascript\">window.PlotlyConfig = {MathJaxConfig: 'local'};</script>\n",
              "        <script charset=\"utf-8\" src=\"https://cdn.plot.ly/plotly-2.35.2.min.js\"></script>                <div id=\"09ec0d3f-2ca7-4be7-95a8-1ef1e9dbc918\" class=\"plotly-graph-div\" style=\"height:600px; width:100%;\"></div>            <script type=\"text/javascript\">                                    window.PLOTLYENV=window.PLOTLYENV || {};                                    if (document.getElementById(\"09ec0d3f-2ca7-4be7-95a8-1ef1e9dbc918\")) {                    Plotly.newPlot(                        \"09ec0d3f-2ca7-4be7-95a8-1ef1e9dbc918\",                        [{\"customdata\":[[7.6],[5.5],[5.2],[4.9],[6.3],[4.9],[5.2],[5.0],[6.0],[6.3],[7.7],[6.2],[6.3],[6.2],[7.4],[7.2],[7.9],[5.7],[7.3],[6.7],[7.2],[7.2],[5.1],[5.8],[5.0],[6.3],[7.7],[6.0],[6.3],[6.0],[7.7],[5.8],[7.7],[4.5]],\"hovertemplate\":\"Cluster=Cluster -1\\u003cbr\\u003ePCA1=%{x}\\u003cbr\\u003ePCA2=%{y}\\u003cbr\\u003eFeature=%{customdata[0]}\\u003cextra\\u003e\\u003c\\u002fextra\\u003e\",\"legendgroup\":\"Cluster -1\",\"marker\":{\"color\":\"#636efa\",\"opacity\":0.5,\"symbol\":\"circle\"},\"mode\":\"markers\",\"name\":\"Cluster -1\",\"orientation\":\"v\",\"showlegend\":true,\"x\":[2.7518728,-2.446177,-2.6149476,0.3670174,0.7465297,-0.48732275,0.011425907,-0.110196255,0.5621084,1.5762554,2.7987695,1.2250934,1.2341781,1.3727871,2.4359531,1.8636471,2.3049276,-2.262214,2.302439,2.0066862,2.2597768,1.9543264,-0.44766682,1.4676449,-0.3621832,1.8445685,3.3106947,1.2637664,1.0445315,0.42913884,2.8976507,-2.1987402,2.426328,-1.8581219],\"xaxis\":\"x\",\"y\":[0.80040926,2.1507277,1.7935756,-1.5615032,0.77301925,-1.8524288,-1.0340184,-2.6540728,-1.7647243,1.0685812,0.85680324,-1.6222438,-0.9333257,1.0112544,0.2592844,0.5622908,2.6263235,2.6862845,0.42006597,-0.71143883,1.9210101,1.0077776,-1.5437922,-0.44227174,-2.0192382,0.8704212,0.01778067,-1.7067453,-1.3829886,0.8455823,0.41364098,1.8600575,2.5566611,-2.3374152],\"yaxis\":\"y\",\"type\":\"scatter\",\"textposition\":\"top center\"},{\"customdata\":[[4.4],[5.0],[5.3],[4.6],[5.1],[4.8],[5.1],[5.0],[5.1],[5.1],[4.6],[5.1],[5.4],[5.0],[5.7],[5.1],[5.4],[4.3],[4.8],[5.1],[4.8],[4.9],[4.4],[5.0],[4.6],[5.4],[5.0],[4.6],[4.7],[4.9],[5.4],[4.8],[5.1],[4.8],[4.4],[4.9],[5.5],[5.0],[5.0],[5.0],[5.2],[4.9],[4.7],[5.2],[5.4]],\"hovertemplate\":\"Cluster=Cluster 0\\u003cbr\\u003ePCA1=%{x}\\u003cbr\\u003ePCA2=%{y}\\u003cbr\\u003eFeature=%{customdata[0]}\\u003cextra\\u003e\\u003c\\u002fextra\\u003e\",\"legendgroup\":\"Cluster 0\",\"marker\":{\"color\":\"#EF553B\",\"opacity\":0.5,\"symbol\":\"circle\"},\"mode\":\"markers\",\"name\":\"Cluster 0\",\"orientation\":\"v\",\"showlegend\":true,\"x\":[-2.553638,-2.203833,-2.229446,-2.394376,-2.3847327,-2.0697436,-2.1370585,-1.9644473,-2.2647014,-2.1697102,-2.7743442,-2.2070124,-1.9143225,-2.2864747,-1.8985717,-2.1903489,-2.2075872,-2.6331,-2.2184503,-1.818669,-2.3261302,-2.1843274,-2.33464,-2.232847,-2.4440286,-2.0756307,-2.3898418,-2.2993839,-2.3642285,-2.0809608,-2.1663096,-2.2271628,-2.3433685,-2.1401215,-2.4296322,-2.5273314,-2.0451458,-2.2078083,-1.951846,-2.051151,-2.168577,-2.1099744,-2.2652614,-2.1395633,-1.8315943],\"xaxis\":\"x\",\"y\":[-0.47910067,0.009216234,0.99796015,-0.3862469,1.1204295,-0.7110527,1.1422291,0.4723267,0.48002625,0.26887912,0.4583432,0.9241215,0.40885594,0.4417155,1.4050187,0.4888383,1.4836097,-0.9615067,-0.72867614,0.08555837,0.1330785,-0.46901375,-1.1153276,0.22314821,0.047644153,1.4891778,0.6468352,-0.5973949,-0.341908,-0.67413324,1.0436909,0.1372546,1.1278492,-0.50454086,-0.90418017,0.5922925,0.66155815,-0.20610729,-0.62561864,0.2421637,0.52714956,-0.46020204,-0.33773196,0.31321788,0.42369527],\"yaxis\":\"y\",\"type\":\"scatter\",\"textposition\":\"top center\"},{\"customdata\":[[6.5],[6.4],[6.5],[6.0],[6.8],[6.3],[6.5],[5.7],[6.4],[6.9],[6.8],[6.9],[6.1],[6.3],[6.4],[6.7],[6.9],[6.7],[6.4],[6.2],[6.7],[6.3],[5.6],[5.8],[6.4],[6.1],[6.7],[6.4],[6.3],[6.6],[6.1],[6.1],[5.9],[5.6],[5.8],[5.6],[6.7],[6.8],[5.6],[5.9],[6.6],[5.7],[6.5],[5.5],[6.9],[6.4],[7.0],[6.1],[6.5],[6.7],[5.7],[7.1],[5.8],[5.7],[6.2],[5.7],[5.7],[5.6],[5.8],[6.0],[6.1],[5.5],[5.6],[6.7],[5.4],[6.0],[5.8],[5.5],[5.5],[5.5],[5.9]],\"hovertemplate\":\"Cluster=Cluster 1\\u003cbr\\u003ePCA1=%{x}\\u003cbr\\u003ePCA2=%{y}\\u003cbr\\u003eFeature=%{customdata[0]}\\u003cextra\\u003e\\u003c\\u002fextra\\u003e\",\"legendgroup\":\"Cluster 1\",\"marker\":{\"color\":\"#00cc96\",\"opacity\":0.5,\"symbol\":\"circle\"},\"mode\":\"markers\",\"name\":\"Cluster 1\",\"orientation\":\"v\",\"showlegend\":true,\"x\":[1.4714311,1.5900768,1.5211701,0.9248247,1.8839003,1.5645803,1.3641753,1.2601147,1.6026784,2.037716,2.0405579,1.8520449,1.202473,1.1141477,1.862703,2.01481,1.901784,1.9981464,1.7883495,1.1751033,1.7007332,1.333232,0.97798043,1.1578814,1.3462919,1.0209503,1.8705028,0.7026611,1.4401504,0.8742734,0.6328581,0.4762871,0.7376825,0.16491793,0.15881006,0.35025147,0.87540716,1.2565091,-0.03335493,0.44069335,0.92790127,0.3886871,1.0754747,0.40748292,1.2409793,0.7313373,1.101781,0.7195615,1.867812,1.358405,-0.040258594,2.2052662,1.1578814,0.2567304,0.576388,0.2277165,0.09136045,0.288586,0.3365305,0.66480017,0.6245696,0.28347716,0.0695881,1.0487279,0.22397858,1.0610942,0.24153842,0.023452546,0.13079499,0.2790778,0.9606556],\"xaxis\":\"x\",\"y\":[0.25562185,0.676245,0.26906916,0.017223036,0.41924974,-0.8966868,0.6927566,-1.1622607,-0.4217003,0.91046757,0.86752075,0.67612803,-0.81131566,-0.29292268,-0.17854957,0.6138854,0.6895753,1.0491686,-0.18736131,-0.3163947,1.0139216,-0.48181114,-0.5717646,-0.69886976,0.42243043,0.06434593,0.38696602,-0.063411504,-0.046987336,0.25079337,-0.41638783,-0.41732037,0.39657167,-1.3026094,-0.7920956,-0.19631188,0.5090638,-0.07725594,-0.43900308,-0.063295186,0.032226283,-0.5932839,-0.20842108,-1.7544043,0.61629754,0.5946149,0.8629726,-0.18622446,0.29504484,0.33131167,-1.0587188,0.56201047,-0.69886976,-0.5988521,-0.15487348,-0.38492006,-0.18119226,-0.85573035,-0.9884041,-0.22592768,0.024922954,-1.3293247,-0.21950346,0.5220516,-0.2877736,-0.6338432,-0.77725625,-1.5724752,-1.5622715,-1.1200289,-0.024331719],\"yaxis\":\"y\",\"type\":\"scatter\",\"textposition\":\"top center\"}],                        {\"template\":{\"data\":{\"histogram2dcontour\":[{\"type\":\"histogram2dcontour\",\"colorbar\":{\"outlinewidth\":0,\"ticks\":\"\"},\"colorscale\":[[0.0,\"#0d0887\"],[0.1111111111111111,\"#46039f\"],[0.2222222222222222,\"#7201a8\"],[0.3333333333333333,\"#9c179e\"],[0.4444444444444444,\"#bd3786\"],[0.5555555555555556,\"#d8576b\"],[0.6666666666666666,\"#ed7953\"],[0.7777777777777778,\"#fb9f3a\"],[0.8888888888888888,\"#fdca26\"],[1.0,\"#f0f921\"]]}],\"choropleth\":[{\"type\":\"choropleth\",\"colorbar\":{\"outlinewidth\":0,\"ticks\":\"\"}}],\"histogram2d\":[{\"type\":\"histogram2d\",\"colorbar\":{\"outlinewidth\":0,\"ticks\":\"\"},\"colorscale\":[[0.0,\"#0d0887\"],[0.1111111111111111,\"#46039f\"],[0.2222222222222222,\"#7201a8\"],[0.3333333333333333,\"#9c179e\"],[0.4444444444444444,\"#bd3786\"],[0.5555555555555556,\"#d8576b\"],[0.6666666666666666,\"#ed7953\"],[0.7777777777777778,\"#fb9f3a\"],[0.8888888888888888,\"#fdca26\"],[1.0,\"#f0f921\"]]}],\"heatmap\":[{\"type\":\"heatmap\",\"colorbar\":{\"outlinewidth\":0,\"ticks\":\"\"},\"colorscale\":[[0.0,\"#0d0887\"],[0.1111111111111111,\"#46039f\"],[0.2222222222222222,\"#7201a8\"],[0.3333333333333333,\"#9c179e\"],[0.4444444444444444,\"#bd3786\"],[0.5555555555555556,\"#d8576b\"],[0.6666666666666666,\"#ed7953\"],[0.7777777777777778,\"#fb9f3a\"],[0.8888888888888888,\"#fdca26\"],[1.0,\"#f0f921\"]]}],\"heatmapgl\":[{\"type\":\"heatmapgl\",\"colorbar\":{\"outlinewidth\":0,\"ticks\":\"\"},\"colorscale\":[[0.0,\"#0d0887\"],[0.1111111111111111,\"#46039f\"],[0.2222222222222222,\"#7201a8\"],[0.3333333333333333,\"#9c179e\"],[0.4444444444444444,\"#bd3786\"],[0.5555555555555556,\"#d8576b\"],[0.6666666666666666,\"#ed7953\"],[0.7777777777777778,\"#fb9f3a\"],[0.8888888888888888,\"#fdca26\"],[1.0,\"#f0f921\"]]}],\"contourcarpet\":[{\"type\":\"contourcarpet\",\"colorbar\":{\"outlinewidth\":0,\"ticks\":\"\"}}],\"contour\":[{\"type\":\"contour\",\"colorbar\":{\"outlinewidth\":0,\"ticks\":\"\"},\"colorscale\":[[0.0,\"#0d0887\"],[0.1111111111111111,\"#46039f\"],[0.2222222222222222,\"#7201a8\"],[0.3333333333333333,\"#9c179e\"],[0.4444444444444444,\"#bd3786\"],[0.5555555555555556,\"#d8576b\"],[0.6666666666666666,\"#ed7953\"],[0.7777777777777778,\"#fb9f3a\"],[0.8888888888888888,\"#fdca26\"],[1.0,\"#f0f921\"]]}],\"surface\":[{\"type\":\"surface\",\"colorbar\":{\"outlinewidth\":0,\"ticks\":\"\"},\"colorscale\":[[0.0,\"#0d0887\"],[0.1111111111111111,\"#46039f\"],[0.2222222222222222,\"#7201a8\"],[0.3333333333333333,\"#9c179e\"],[0.4444444444444444,\"#bd3786\"],[0.5555555555555556,\"#d8576b\"],[0.6666666666666666,\"#ed7953\"],[0.7777777777777778,\"#fb9f3a\"],[0.8888888888888888,\"#fdca26\"],[1.0,\"#f0f921\"]]}],\"mesh3d\":[{\"type\":\"mesh3d\",\"colorbar\":{\"outlinewidth\":0,\"ticks\":\"\"}}],\"scatter\":[{\"fillpattern\":{\"fillmode\":\"overlay\",\"size\":10,\"solidity\":0.2},\"type\":\"scatter\"}],\"parcoords\":[{\"type\":\"parcoords\",\"line\":{\"colorbar\":{\"outlinewidth\":0,\"ticks\":\"\"}}}],\"scatterpolargl\":[{\"type\":\"scatterpolargl\",\"marker\":{\"colorbar\":{\"outlinewidth\":0,\"ticks\":\"\"}}}],\"bar\":[{\"error_x\":{\"color\":\"#2a3f5f\"},\"error_y\":{\"color\":\"#2a3f5f\"},\"marker\":{\"line\":{\"color\":\"#E5ECF6\",\"width\":0.5},\"pattern\":{\"fillmode\":\"overlay\",\"size\":10,\"solidity\":0.2}},\"type\":\"bar\"}],\"scattergeo\":[{\"type\":\"scattergeo\",\"marker\":{\"colorbar\":{\"outlinewidth\":0,\"ticks\":\"\"}}}],\"scatterpolar\":[{\"type\":\"scatterpolar\",\"marker\":{\"colorbar\":{\"outlinewidth\":0,\"ticks\":\"\"}}}],\"histogram\":[{\"marker\":{\"pattern\":{\"fillmode\":\"overlay\",\"size\":10,\"solidity\":0.2}},\"type\":\"histogram\"}],\"scattergl\":[{\"type\":\"scattergl\",\"marker\":{\"colorbar\":{\"outlinewidth\":0,\"ticks\":\"\"}}}],\"scatter3d\":[{\"type\":\"scatter3d\",\"line\":{\"colorbar\":{\"outlinewidth\":0,\"ticks\":\"\"}},\"marker\":{\"colorbar\":{\"outlinewidth\":0,\"ticks\":\"\"}}}],\"scattermapbox\":[{\"type\":\"scattermapbox\",\"marker\":{\"colorbar\":{\"outlinewidth\":0,\"ticks\":\"\"}}}],\"scatterternary\":[{\"type\":\"scatterternary\",\"marker\":{\"colorbar\":{\"outlinewidth\":0,\"ticks\":\"\"}}}],\"scattercarpet\":[{\"type\":\"scattercarpet\",\"marker\":{\"colorbar\":{\"outlinewidth\":0,\"ticks\":\"\"}}}],\"carpet\":[{\"aaxis\":{\"endlinecolor\":\"#2a3f5f\",\"gridcolor\":\"white\",\"linecolor\":\"white\",\"minorgridcolor\":\"white\",\"startlinecolor\":\"#2a3f5f\"},\"baxis\":{\"endlinecolor\":\"#2a3f5f\",\"gridcolor\":\"white\",\"linecolor\":\"white\",\"minorgridcolor\":\"white\",\"startlinecolor\":\"#2a3f5f\"},\"type\":\"carpet\"}],\"table\":[{\"cells\":{\"fill\":{\"color\":\"#EBF0F8\"},\"line\":{\"color\":\"white\"}},\"header\":{\"fill\":{\"color\":\"#C8D4E3\"},\"line\":{\"color\":\"white\"}},\"type\":\"table\"}],\"barpolar\":[{\"marker\":{\"line\":{\"color\":\"#E5ECF6\",\"width\":0.5},\"pattern\":{\"fillmode\":\"overlay\",\"size\":10,\"solidity\":0.2}},\"type\":\"barpolar\"}],\"pie\":[{\"automargin\":true,\"type\":\"pie\"}]},\"layout\":{\"autotypenumbers\":\"strict\",\"colorway\":[\"#636efa\",\"#EF553B\",\"#00cc96\",\"#ab63fa\",\"#FFA15A\",\"#19d3f3\",\"#FF6692\",\"#B6E880\",\"#FF97FF\",\"#FECB52\"],\"font\":{\"color\":\"#2a3f5f\"},\"hovermode\":\"closest\",\"hoverlabel\":{\"align\":\"left\"},\"paper_bgcolor\":\"white\",\"plot_bgcolor\":\"#E5ECF6\",\"polar\":{\"bgcolor\":\"#E5ECF6\",\"angularaxis\":{\"gridcolor\":\"white\",\"linecolor\":\"white\",\"ticks\":\"\"},\"radialaxis\":{\"gridcolor\":\"white\",\"linecolor\":\"white\",\"ticks\":\"\"}},\"ternary\":{\"bgcolor\":\"#E5ECF6\",\"aaxis\":{\"gridcolor\":\"white\",\"linecolor\":\"white\",\"ticks\":\"\"},\"baxis\":{\"gridcolor\":\"white\",\"linecolor\":\"white\",\"ticks\":\"\"},\"caxis\":{\"gridcolor\":\"white\",\"linecolor\":\"white\",\"ticks\":\"\"}},\"coloraxis\":{\"colorbar\":{\"outlinewidth\":0,\"ticks\":\"\"}},\"colorscale\":{\"sequential\":[[0.0,\"#0d0887\"],[0.1111111111111111,\"#46039f\"],[0.2222222222222222,\"#7201a8\"],[0.3333333333333333,\"#9c179e\"],[0.4444444444444444,\"#bd3786\"],[0.5555555555555556,\"#d8576b\"],[0.6666666666666666,\"#ed7953\"],[0.7777777777777778,\"#fb9f3a\"],[0.8888888888888888,\"#fdca26\"],[1.0,\"#f0f921\"]],\"sequentialminus\":[[0.0,\"#0d0887\"],[0.1111111111111111,\"#46039f\"],[0.2222222222222222,\"#7201a8\"],[0.3333333333333333,\"#9c179e\"],[0.4444444444444444,\"#bd3786\"],[0.5555555555555556,\"#d8576b\"],[0.6666666666666666,\"#ed7953\"],[0.7777777777777778,\"#fb9f3a\"],[0.8888888888888888,\"#fdca26\"],[1.0,\"#f0f921\"]],\"diverging\":[[0,\"#8e0152\"],[0.1,\"#c51b7d\"],[0.2,\"#de77ae\"],[0.3,\"#f1b6da\"],[0.4,\"#fde0ef\"],[0.5,\"#f7f7f7\"],[0.6,\"#e6f5d0\"],[0.7,\"#b8e186\"],[0.8,\"#7fbc41\"],[0.9,\"#4d9221\"],[1,\"#276419\"]]},\"xaxis\":{\"gridcolor\":\"white\",\"linecolor\":\"white\",\"ticks\":\"\",\"title\":{\"standoff\":15},\"zerolinecolor\":\"white\",\"automargin\":true,\"zerolinewidth\":2},\"yaxis\":{\"gridcolor\":\"white\",\"linecolor\":\"white\",\"ticks\":\"\",\"title\":{\"standoff\":15},\"zerolinecolor\":\"white\",\"automargin\":true,\"zerolinewidth\":2},\"scene\":{\"xaxis\":{\"backgroundcolor\":\"#E5ECF6\",\"gridcolor\":\"white\",\"linecolor\":\"white\",\"showbackground\":true,\"ticks\":\"\",\"zerolinecolor\":\"white\",\"gridwidth\":2},\"yaxis\":{\"backgroundcolor\":\"#E5ECF6\",\"gridcolor\":\"white\",\"linecolor\":\"white\",\"showbackground\":true,\"ticks\":\"\",\"zerolinecolor\":\"white\",\"gridwidth\":2},\"zaxis\":{\"backgroundcolor\":\"#E5ECF6\",\"gridcolor\":\"white\",\"linecolor\":\"white\",\"showbackground\":true,\"ticks\":\"\",\"zerolinecolor\":\"white\",\"gridwidth\":2}},\"shapedefaults\":{\"line\":{\"color\":\"#2a3f5f\"}},\"annotationdefaults\":{\"arrowcolor\":\"#2a3f5f\",\"arrowhead\":0,\"arrowwidth\":1},\"geo\":{\"bgcolor\":\"white\",\"landcolor\":\"#E5ECF6\",\"subunitcolor\":\"white\",\"showland\":true,\"showlakes\":true,\"lakecolor\":\"white\"},\"title\":{\"x\":0.05},\"mapbox\":{\"style\":\"light\"}}},\"xaxis\":{\"anchor\":\"y\",\"domain\":[0.0,1.0],\"title\":{\"text\":\"PCA1\"}},\"yaxis\":{\"anchor\":\"x\",\"domain\":[0.0,1.0],\"title\":{\"text\":\"PCA2\"}},\"legend\":{\"title\":{\"text\":\"Cluster\"},\"tracegroupgap\":0},\"margin\":{\"t\":60},\"plot_bgcolor\":\"rgb(240,240,240)\",\"title\":{\"text\":\"2D Cluster PCA Plot\"},\"height\":600},                        {\"responsive\": true}                    ).then(function(){\n",
              "                            \n",
              "var gd = document.getElementById('09ec0d3f-2ca7-4be7-95a8-1ef1e9dbc918');\n",
              "var x = new MutationObserver(function (mutations, observer) {{\n",
              "        var display = window.getComputedStyle(gd).display;\n",
              "        if (!display || display === 'none') {{\n",
              "            console.log([gd, 'removed!']);\n",
              "            Plotly.purge(gd);\n",
              "            observer.disconnect();\n",
              "        }}\n",
              "}});\n",
              "\n",
              "// Listen for the removal of the full notebook cells\n",
              "var notebookContainer = gd.closest('#notebook-container');\n",
              "if (notebookContainer) {{\n",
              "    x.observe(notebookContainer, {childList: true});\n",
              "}}\n",
              "\n",
              "// Listen for the clearing of the current output cell\n",
              "var outputEl = gd.closest('.output');\n",
              "if (outputEl) {{\n",
              "    x.observe(outputEl, {childList: true});\n",
              "}}\n",
              "\n",
              "                        })                };                            </script>        </div>\n",
              "</body>\n",
              "</html>"
            ]
          },
          "metadata": {}
        }
      ]
    },
    {
      "cell_type": "code",
      "source": [
        "# Create a KMeans model\n",
        "kmeans_model = create_model('kmeans')\n"
      ],
      "metadata": {
        "colab": {
          "base_uri": "https://localhost:8080/",
          "height": 81,
          "referenced_widgets": [
            "a8fde2ba50a042f98aed8a958831a0dc",
            "c477c6da3c1346fe8a142618b3d5142a",
            "873d3a72ed984c0599df657a066d4795",
            "080aae2c2c944feb9e29c86acd83332c",
            "5a26df111eac460f9b73a6c0af7578b5",
            "f6b9e8b1fc21456cbefd6c1549f59355",
            "18dceb44e0994d87a08ee7e13349abe7",
            "c9602292ff6e4522912d77cac3ff367b",
            "c2ed253ff8314888ac8b70776726cac5",
            "34433ac76d7a4dceb7a10159c8910226",
            "41a9b0d76a69424db68ab0d5740d89e3"
          ]
        },
        "id": "bsXhf3JWD85s",
        "outputId": "59984625-e3c7-45cf-de66-594a03154d2a"
      },
      "execution_count": 26,
      "outputs": [
        {
          "output_type": "display_data",
          "data": {
            "text/plain": [
              "<IPython.core.display.HTML object>"
            ],
            "text/html": []
          },
          "metadata": {}
        },
        {
          "output_type": "display_data",
          "data": {
            "text/plain": [
              "<pandas.io.formats.style.Styler at 0x791c1b4a70d0>"
            ],
            "text/html": [
              "<style type=\"text/css\">\n",
              "</style>\n",
              "<table id=\"T_a919d\" class=\"dataframe\">\n",
              "  <thead>\n",
              "    <tr>\n",
              "      <th class=\"blank level0\" >&nbsp;</th>\n",
              "      <th id=\"T_a919d_level0_col0\" class=\"col_heading level0 col0\" >Silhouette</th>\n",
              "      <th id=\"T_a919d_level0_col1\" class=\"col_heading level0 col1\" >Calinski-Harabasz</th>\n",
              "      <th id=\"T_a919d_level0_col2\" class=\"col_heading level0 col2\" >Davies-Bouldin</th>\n",
              "      <th id=\"T_a919d_level0_col3\" class=\"col_heading level0 col3\" >Homogeneity</th>\n",
              "      <th id=\"T_a919d_level0_col4\" class=\"col_heading level0 col4\" >Rand Index</th>\n",
              "      <th id=\"T_a919d_level0_col5\" class=\"col_heading level0 col5\" >Completeness</th>\n",
              "    </tr>\n",
              "  </thead>\n",
              "  <tbody>\n",
              "    <tr>\n",
              "      <th id=\"T_a919d_level0_row0\" class=\"row_heading level0 row0\" >0</th>\n",
              "      <td id=\"T_a919d_row0_col0\" class=\"data row0 col0\" >0.4151</td>\n",
              "      <td id=\"T_a919d_row0_col1\" class=\"data row0 col1\" >206.2286</td>\n",
              "      <td id=\"T_a919d_row0_col2\" class=\"data row0 col2\" >0.9224</td>\n",
              "      <td id=\"T_a919d_row0_col3\" class=\"data row0 col3\" >0</td>\n",
              "      <td id=\"T_a919d_row0_col4\" class=\"data row0 col4\" >0</td>\n",
              "      <td id=\"T_a919d_row0_col5\" class=\"data row0 col5\" >0</td>\n",
              "    </tr>\n",
              "  </tbody>\n",
              "</table>\n"
            ]
          },
          "metadata": {}
        },
        {
          "output_type": "display_data",
          "data": {
            "text/plain": [
              "Processing:   0%|          | 0/3 [00:00<?, ?it/s]"
            ],
            "application/vnd.jupyter.widget-view+json": {
              "version_major": 2,
              "version_minor": 0,
              "model_id": "a8fde2ba50a042f98aed8a958831a0dc"
            }
          },
          "metadata": {
            "application/vnd.jupyter.widget-view+json": {
              "colab": {
                "custom_widget_manager": {
                  "url": "https://ssl.gstatic.com/colaboratory-static/widgets/colab-cdn-widget-manager/2b70e893a8ba7c0f/manager.min.js"
                }
              }
            }
          }
        },
        {
          "output_type": "display_data",
          "data": {
            "text/plain": [
              "<IPython.core.display.HTML object>"
            ],
            "text/html": []
          },
          "metadata": {}
        }
      ]
    },
    {
      "cell_type": "code",
      "source": [
        "#Print the KMeans model\n",
        "print(kmeans_model)"
      ],
      "metadata": {
        "colab": {
          "base_uri": "https://localhost:8080/"
        },
        "id": "WjngisqYD-VD",
        "outputId": "61ae2910-4799-42f3-82e9-77c7d6fd84c6"
      },
      "execution_count": 29,
      "outputs": [
        {
          "output_type": "stream",
          "name": "stdout",
          "text": [
            "KMeans(n_clusters=4, random_state=113)\n"
          ]
        }
      ]
    },
    {
      "cell_type": "code",
      "source": [
        "# Plot the silhouette plot for KMeans\n",
        "plot_model(kmeans_model, plot='silhouette')"
      ],
      "metadata": {
        "colab": {
          "base_uri": "https://localhost:8080/",
          "height": 524
        },
        "id": "ZfhxnwpcEAeS",
        "outputId": "a3e9e65f-ce42-400f-ab91-ab2bfdf30337"
      },
      "execution_count": 31,
      "outputs": [
        {
          "output_type": "display_data",
          "data": {
            "text/plain": [
              "<IPython.core.display.HTML object>"
            ],
            "text/html": []
          },
          "metadata": {}
        },
        {
          "output_type": "display_data",
          "data": {
            "text/plain": [
              "<Figure size 800x550 with 1 Axes>"
            ],
            "image/png": "[encoded data removed]"
          },
          "metadata": {}
        }
      ]
    },
    {
      "cell_type": "code",
      "source": [
        "# Evaluate the DBSCAN model\n",
        "evaluate_model(dbscan_model)"
      ],
      "metadata": {
        "colab": {
          "base_uri": "https://localhost:8080/",
          "height": 183,
          "referenced_widgets": [
            "8ca7faa2f1e24d4cb5d646bd61de9684",
            "1c65cf8d75194ed8a3c844eeae03b16c",
            "2d27c0276f7b43b28047feb789931e89",
            "1138fcc0e64b4abebdd03cbdc22abf16",
            "7ede3da9c49941f797eb359c9ed0b0d3",
            "f89f08229cbe47abb01c3f7552a36274",
            "e15243bcc4954e28b1a739f6b418f81d"
          ]
        },
        "id": "VnsHWLhvEB6B",
        "outputId": "a168d57e-e6cf-4fbe-92f5-a00f0c1cb3d3"
      },
      "execution_count": 32,
      "outputs": [
        {
          "output_type": "display_data",
          "data": {
            "text/plain": [
              "interactive(children=(ToggleButtons(description='Plot Type:', icons=('',), options=(('Pipeline Plot', 'pipelin…"
            ],
            "application/vnd.jupyter.widget-view+json": {
              "version_major": 2,
              "version_minor": 0,
              "model_id": "8ca7faa2f1e24d4cb5d646bd61de9684"
            }
          },
          "metadata": {
            "application/vnd.jupyter.widget-view+json": {
              "colab": {
                "custom_widget_manager": {
                  "url": "https://ssl.gstatic.com/colaboratory-static/widgets/colab-cdn-widget-manager/2b70e893a8ba7c0f/manager.min.js"
                }
              }
            }
          }
        }
      ]
    },
    {
      "cell_type": "code",
      "source": [
        "# Perform clustering on unseen data\n",
        "data_sampled = data.sample(frac=0.95, random_state=786).reset_index(drop=True)\n",
        "data_unseen = data.drop(data_sampled.index).reset_index(drop=True)"
      ],
      "metadata": {
        "id": "5Z0t-ZvuEDKv"
      },
      "execution_count": 33,
      "outputs": []
    },
    {
      "cell_type": "code",
      "source": [
        "print('Data for Modeling: ' + str(data_sampled.shape))\n",
        "print('Unseen Data for Predictions: ' + str(data_unseen.shape))"
      ],
      "metadata": {
        "colab": {
          "base_uri": "https://localhost:8080/"
        },
        "id": "G2y7XJoTEE_m",
        "outputId": "21643d24-341f-4d70-a575-1dc5f99d0615"
      },
      "execution_count": 34,
      "outputs": [
        {
          "output_type": "stream",
          "name": "stdout",
          "text": [
            "Data for Modeling: (142, 5)\n",
            "Unseen Data for Predictions: (8, 5)\n"
          ]
        }
      ]
    },
    {
      "cell_type": "code",
      "source": [
        "# Re-setup for clustering\n",
        "exp_clu_new = setup(data_sampled, normalize=True, ignore_features=['target'], session_id=113)"
      ],
      "metadata": {
        "colab": {
          "base_uri": "https://localhost:8080/",
          "height": 551
        },
        "id": "-_umCLLbEG4O",
        "outputId": "683a6f10-b0ca-429f-aff6-6c397d09d554"
      },
      "execution_count": 35,
      "outputs": [
        {
          "output_type": "display_data",
          "data": {
            "text/plain": [
              "<pandas.io.formats.style.Styler at 0x791c1a81d510>"
            ],
            "text/html": [
              "<style type=\"text/css\">\n",
              "#T_e6db0_row5_col1, #T_e6db0_row9_col1 {\n",
              "  background-color: lightgreen;\n",
              "}\n",
              "</style>\n",
              "<table id=\"T_e6db0\" class=\"dataframe\">\n",
              "  <thead>\n",
              "    <tr>\n",
              "      <th class=\"blank level0\" >&nbsp;</th>\n",
              "      <th id=\"T_e6db0_level0_col0\" class=\"col_heading level0 col0\" >Description</th>\n",
              "      <th id=\"T_e6db0_level0_col1\" class=\"col_heading level0 col1\" >Value</th>\n",
              "    </tr>\n",
              "  </thead>\n",
              "  <tbody>\n",
              "    <tr>\n",
              "      <th id=\"T_e6db0_level0_row0\" class=\"row_heading level0 row0\" >0</th>\n",
              "      <td id=\"T_e6db0_row0_col0\" class=\"data row0 col0\" >Session id</td>\n",
              "      <td id=\"T_e6db0_row0_col1\" class=\"data row0 col1\" >113</td>\n",
              "    </tr>\n",
              "    <tr>\n",
              "      <th id=\"T_e6db0_level0_row1\" class=\"row_heading level0 row1\" >1</th>\n",
              "      <td id=\"T_e6db0_row1_col0\" class=\"data row1 col0\" >Original data shape</td>\n",
              "      <td id=\"T_e6db0_row1_col1\" class=\"data row1 col1\" >(142, 5)</td>\n",
              "    </tr>\n",
              "    <tr>\n",
              "      <th id=\"T_e6db0_level0_row2\" class=\"row_heading level0 row2\" >2</th>\n",
              "      <td id=\"T_e6db0_row2_col0\" class=\"data row2 col0\" >Transformed data shape</td>\n",
              "      <td id=\"T_e6db0_row2_col1\" class=\"data row2 col1\" >(142, 4)</td>\n",
              "    </tr>\n",
              "    <tr>\n",
              "      <th id=\"T_e6db0_level0_row3\" class=\"row_heading level0 row3\" >3</th>\n",
              "      <td id=\"T_e6db0_row3_col0\" class=\"data row3 col0\" >Ignore features</td>\n",
              "      <td id=\"T_e6db0_row3_col1\" class=\"data row3 col1\" >1</td>\n",
              "    </tr>\n",
              "    <tr>\n",
              "      <th id=\"T_e6db0_level0_row4\" class=\"row_heading level0 row4\" >4</th>\n",
              "      <td id=\"T_e6db0_row4_col0\" class=\"data row4 col0\" >Numeric features</td>\n",
              "      <td id=\"T_e6db0_row4_col1\" class=\"data row4 col1\" >4</td>\n",
              "    </tr>\n",
              "    <tr>\n",
              "      <th id=\"T_e6db0_level0_row5\" class=\"row_heading level0 row5\" >5</th>\n",
              "      <td id=\"T_e6db0_row5_col0\" class=\"data row5 col0\" >Preprocess</td>\n",
              "      <td id=\"T_e6db0_row5_col1\" class=\"data row5 col1\" >True</td>\n",
              "    </tr>\n",
              "    <tr>\n",
              "      <th id=\"T_e6db0_level0_row6\" class=\"row_heading level0 row6\" >6</th>\n",
              "      <td id=\"T_e6db0_row6_col0\" class=\"data row6 col0\" >Imputation type</td>\n",
              "      <td id=\"T_e6db0_row6_col1\" class=\"data row6 col1\" >simple</td>\n",
              "    </tr>\n",
              "    <tr>\n",
              "      <th id=\"T_e6db0_level0_row7\" class=\"row_heading level0 row7\" >7</th>\n",
              "      <td id=\"T_e6db0_row7_col0\" class=\"data row7 col0\" >Numeric imputation</td>\n",
              "      <td id=\"T_e6db0_row7_col1\" class=\"data row7 col1\" >mean</td>\n",
              "    </tr>\n",
              "    <tr>\n",
              "      <th id=\"T_e6db0_level0_row8\" class=\"row_heading level0 row8\" >8</th>\n",
              "      <td id=\"T_e6db0_row8_col0\" class=\"data row8 col0\" >Categorical imputation</td>\n",
              "      <td id=\"T_e6db0_row8_col1\" class=\"data row8 col1\" >mode</td>\n",
              "    </tr>\n",
              "    <tr>\n",
              "      <th id=\"T_e6db0_level0_row9\" class=\"row_heading level0 row9\" >9</th>\n",
              "      <td id=\"T_e6db0_row9_col0\" class=\"data row9 col0\" >Normalize</td>\n",
              "      <td id=\"T_e6db0_row9_col1\" class=\"data row9 col1\" >True</td>\n",
              "    </tr>\n",
              "    <tr>\n",
              "      <th id=\"T_e6db0_level0_row10\" class=\"row_heading level0 row10\" >10</th>\n",
              "      <td id=\"T_e6db0_row10_col0\" class=\"data row10 col0\" >Normalize method</td>\n",
              "      <td id=\"T_e6db0_row10_col1\" class=\"data row10 col1\" >zscore</td>\n",
              "    </tr>\n",
              "    <tr>\n",
              "      <th id=\"T_e6db0_level0_row11\" class=\"row_heading level0 row11\" >11</th>\n",
              "      <td id=\"T_e6db0_row11_col0\" class=\"data row11 col0\" >CPU Jobs</td>\n",
              "      <td id=\"T_e6db0_row11_col1\" class=\"data row11 col1\" >-1</td>\n",
              "    </tr>\n",
              "    <tr>\n",
              "      <th id=\"T_e6db0_level0_row12\" class=\"row_heading level0 row12\" >12</th>\n",
              "      <td id=\"T_e6db0_row12_col0\" class=\"data row12 col0\" >Use GPU</td>\n",
              "      <td id=\"T_e6db0_row12_col1\" class=\"data row12 col1\" >False</td>\n",
              "    </tr>\n",
              "    <tr>\n",
              "      <th id=\"T_e6db0_level0_row13\" class=\"row_heading level0 row13\" >13</th>\n",
              "      <td id=\"T_e6db0_row13_col0\" class=\"data row13 col0\" >Log Experiment</td>\n",
              "      <td id=\"T_e6db0_row13_col1\" class=\"data row13 col1\" >False</td>\n",
              "    </tr>\n",
              "    <tr>\n",
              "      <th id=\"T_e6db0_level0_row14\" class=\"row_heading level0 row14\" >14</th>\n",
              "      <td id=\"T_e6db0_row14_col0\" class=\"data row14 col0\" >Experiment Name</td>\n",
              "      <td id=\"T_e6db0_row14_col1\" class=\"data row14 col1\" >cluster-default-name</td>\n",
              "    </tr>\n",
              "    <tr>\n",
              "      <th id=\"T_e6db0_level0_row15\" class=\"row_heading level0 row15\" >15</th>\n",
              "      <td id=\"T_e6db0_row15_col0\" class=\"data row15 col0\" >USI</td>\n",
              "      <td id=\"T_e6db0_row15_col1\" class=\"data row15 col1\" >e1fb</td>\n",
              "    </tr>\n",
              "  </tbody>\n",
              "</table>\n"
            ]
          },
          "metadata": {}
        }
      ]
    },
    {
      "cell_type": "code",
      "source": [
        "# Create and assign clusters using KMeans\n",
        "kmeans_new = create_model('kmeans')\n",
        "kmean_results = assign_model(kmeans_new)\n",
        "print(kmean_results.head())"
      ],
      "metadata": {
        "colab": {
          "base_uri": "https://localhost:8080/",
          "height": 313,
          "referenced_widgets": [
            "c1118d2f5afa471ca3092dd5714bf6b6",
            "3ff203a3f06a416a951e0c590cd4f9b4",
            "4b8adbe6b2f54b34900da4a8ac08d895",
            "de866e73b84648148c51dd0b94e10c4a",
            "415132a492474ab88bc6ebc534c2e563",
            "bb82bf946587415abd5175b2cb2851e3",
            "c1e25f57a8d84e558a961cb4a67fc111",
            "ee07ad5f296444aca574a079a2bdbf77",
            "1a497b90d9c047b788a9398db42b7f5b",
            "ec00fadd8d4c49b89da0229e466bf1da",
            "23029906e37f47bbab8a792085796107"
          ]
        },
        "id": "qBtKusIcEIhw",
        "outputId": "ee1d06ce-65d9-4615-e2f7-01d8bdc694c2"
      },
      "execution_count": 36,
      "outputs": [
        {
          "output_type": "display_data",
          "data": {
            "text/plain": [
              "<IPython.core.display.HTML object>"
            ],
            "text/html": []
          },
          "metadata": {}
        },
        {
          "output_type": "display_data",
          "data": {
            "text/plain": [
              "<pandas.io.formats.style.Styler at 0x791c1ce9e110>"
            ],
            "text/html": [
              "<style type=\"text/css\">\n",
              "</style>\n",
              "<table id=\"T_711a8\" class=\"dataframe\">\n",
              "  <thead>\n",
              "    <tr>\n",
              "      <th class=\"blank level0\" >&nbsp;</th>\n",
              "      <th id=\"T_711a8_level0_col0\" class=\"col_heading level0 col0\" >Silhouette</th>\n",
              "      <th id=\"T_711a8_level0_col1\" class=\"col_heading level0 col1\" >Calinski-Harabasz</th>\n",
              "      <th id=\"T_711a8_level0_col2\" class=\"col_heading level0 col2\" >Davies-Bouldin</th>\n",
              "      <th id=\"T_711a8_level0_col3\" class=\"col_heading level0 col3\" >Homogeneity</th>\n",
              "      <th id=\"T_711a8_level0_col4\" class=\"col_heading level0 col4\" >Rand Index</th>\n",
              "      <th id=\"T_711a8_level0_col5\" class=\"col_heading level0 col5\" >Completeness</th>\n",
              "    </tr>\n",
              "  </thead>\n",
              "  <tbody>\n",
              "    <tr>\n",
              "      <th id=\"T_711a8_level0_row0\" class=\"row_heading level0 row0\" >0</th>\n",
              "      <td id=\"T_711a8_row0_col0\" class=\"data row0 col0\" >0.3896</td>\n",
              "      <td id=\"T_711a8_row0_col1\" class=\"data row0 col1\" >197.9935</td>\n",
              "      <td id=\"T_711a8_row0_col2\" class=\"data row0 col2\" >0.8669</td>\n",
              "      <td id=\"T_711a8_row0_col3\" class=\"data row0 col3\" >0</td>\n",
              "      <td id=\"T_711a8_row0_col4\" class=\"data row0 col4\" >0</td>\n",
              "      <td id=\"T_711a8_row0_col5\" class=\"data row0 col5\" >0</td>\n",
              "    </tr>\n",
              "  </tbody>\n",
              "</table>\n"
            ]
          },
          "metadata": {}
        },
        {
          "output_type": "display_data",
          "data": {
            "text/plain": [
              "Processing:   0%|          | 0/3 [00:00<?, ?it/s]"
            ],
            "application/vnd.jupyter.widget-view+json": {
              "version_major": 2,
              "version_minor": 0,
              "model_id": "c1118d2f5afa471ca3092dd5714bf6b6"
            }
          },
          "metadata": {
            "application/vnd.jupyter.widget-view+json": {
              "colab": {
                "custom_widget_manager": {
                  "url": "https://ssl.gstatic.com/colaboratory-static/widgets/colab-cdn-widget-manager/2b70e893a8ba7c0f/manager.min.js"
                }
              }
            }
          }
        },
        {
          "output_type": "display_data",
          "data": {
            "text/plain": [
              "<IPython.core.display.HTML object>"
            ],
            "text/html": []
          },
          "metadata": {}
        },
        {
          "output_type": "stream",
          "name": "stdout",
          "text": [
            "   sepal length (cm)  sepal width (cm)  petal length (cm)  petal width (cm)  \\\n",
            "0                5.8               2.7                3.9               1.2   \n",
            "1                5.7               2.8                4.5               1.3   \n",
            "2                7.7               3.0                6.1               2.3   \n",
            "3                5.8               2.6                4.0               1.2   \n",
            "4                7.0               3.2                4.7               1.4   \n",
            "\n",
            "     Cluster  \n",
            "0  Cluster 0  \n",
            "1  Cluster 0  \n",
            "2  Cluster 2  \n",
            "3  Cluster 0  \n",
            "4  Cluster 2  \n"
          ]
        }
      ]
    },
    {
      "cell_type": "code",
      "source": [
        "\n",
        "# Plot different cluster-related visualizations\n",
        "plot_model(kmeans_new)\n",
        "plot_model(kmeans_new, plot='elbow')\n",
        "plot_model(kmeans_new, plot='silhouette')\n",
        "plot_model(kmeans_new, plot='distribution')"
      ],
      "metadata": {
        "colab": {
          "base_uri": "https://localhost:8080/",
          "height": 1000
        },
        "id": "HAePu1bgEJ14",
        "outputId": "788af641-dfc4-40a4-ced2-96036ba0ed5f"
      },
      "execution_count": 37,
      "outputs": [
        {
          "output_type": "display_data",
          "data": {
            "text/plain": [
              "<IPython.core.display.HTML object>"
            ],
            "text/html": []
          },
          "metadata": {}
        },
        {
          "output_type": "display_data",
          "data": {
            "text/html": [
              "<html>\n",
              "<head><meta charset=\"utf-8\" /></head>\n",
              "<body>\n",
              "    <div>            <script src=\"https://cdnjs.cloudflare.com/ajax/libs/mathjax/2.7.5/MathJax.js?config=TeX-AMS-MML_SVG\"></script><script type=\"text/javascript\">if (window.MathJax && window.MathJax.Hub && window.MathJax.Hub.Config) {window.MathJax.Hub.Config({SVG: {font: \"STIX-Web\"}});}</script>                <script type=\"text/javascript\">window.PlotlyConfig = {MathJaxConfig: 'local'};</script>\n",
              "        <script charset=\"utf-8\" src=\"https://cdn.plot.ly/plotly-2.35.2.min.js\"></script>                <div id=\"4e6743dd-b04f-41a3-ac70-4c4e5ac45007\" class=\"plotly-graph-div\" style=\"height:600px; width:100%;\"></div>            <script type=\"text/javascript\">                                    window.PLOTLYENV=window.PLOTLYENV || {};                                    if (document.getElementById(\"4e6743dd-b04f-41a3-ac70-4c4e5ac45007\")) {                    Plotly.newPlot(                        \"4e6743dd-b04f-41a3-ac70-4c4e5ac45007\",                        [{\"customdata\":[[5.8],[6.0],[6.0],[5.0],[6.1],[5.0],[5.6],[5.8],[6.0],[6.1],[5.4],[5.8],[6.4],[6.3],[5.8],[4.9],[6.7],[6.3],[5.5],[6.1],[6.0],[6.1],[6.2],[5.5],[6.6],[6.4],[6.1],[5.9],[5.7],[5.5],[5.7],[5.7],[5.7],[6.3],[6.1],[5.6],[5.2],[5.1],[5.6],[5.6],[5.8],[6.3],[5.8],[6.2],[4.9],[6.5],[5.7],[5.7],[6.0],[5.5],[5.6],[6.2]],\"hovertemplate\":\"Cluster=Cluster 0\\u003cbr\\u003ePCA1=%{x}\\u003cbr\\u003ePCA2=%{y}\\u003cbr\\u003eFeature=%{customdata[0]}\\u003cextra\\u003e\\u003c\\u002fextra\\u003e\",\"legendgroup\":\"Cluster 0\",\"marker\":{\"color\":\"#636efa\",\"opacity\":0.5,\"symbol\":\"circle\"},\"mode\":\"markers\",\"name\":\"Cluster 0\",\"orientation\":\"v\",\"showlegend\":true,\"x\":[0.2518837,0.6723419,1.0664072,-0.34725392,0.6324347,-0.096778885,0.08137735,0.17003843,1.2677342,1.0260841,0.23512177,1.1625178,1.6038511,1.3360654,1.1625178,-0.47144926,2.0053322,1.1188582,0.28991655,0.6409205,0.5703487,0.4847312,0.5843011,0.29387292,0.9332765,0.70951116,0.726877,0.44959104,-0.028087053,0.4170539,1.2640151,0.26716325,0.10306069,1.2379259,1.2073147,0.29900047,0.02379868,-0.4326119,0.17607923,0.36033165,1.4697946,1.5658715,0.34632418,1.228685,0.37759644,1.0798088,0.23842444,0.39857182,0.93062735,0.14221288,0.98378724,1.179018],\"xaxis\":\"x\",\"y\":[0.79392105,0.2476362,0.65377754,2.0301127,-0.0023873,2.6605017,0.24232331,0.8078818,1.7181239,-0.039125472,0.31287405,0.7211271,0.44240075,0.50171345,0.7211271,1.8651776,0.72817767,0.31294447,1.1366966,0.43477166,1.7719195,0.43534935,0.17456618,1.3444644,-0.013350843,0.08249698,0.20732227,0.08648039,1.0724441,1.7664034,1.1821203,0.61822784,0.20326899,0.9483719,0.8288941,0.87397194,1.053649,1.5576786,1.3161694,0.2208051,0.46895877,0.914153,1.0036315,1.6323532,1.5814137,0.22717375,0.40599838,0.6131894,0.008168633,1.5744326,0.5965064,0.33803865],\"yaxis\":\"y\",\"type\":\"scatter\",\"textposition\":\"top center\"},{\"customdata\":[[5.3],[5.1],[5.0],[5.1],[5.2],[4.6],[5.5],[5.7],[5.5],[5.4],[5.0],[5.1],[5.1],[5.8],[5.1],[5.0],[5.4],[5.2],[5.4],[5.4],[5.2],[5.1],[4.9],[5.0],[5.7],[5.0],[5.1]],\"hovertemplate\":\"Cluster=Cluster 1\\u003cbr\\u003ePCA1=%{x}\\u003cbr\\u003ePCA2=%{y}\\u003cbr\\u003eFeature=%{customdata[0]}\\u003cextra\\u003e\\u003c\\u002fextra\\u003e\",\"legendgroup\":\"Cluster 1\",\"marker\":{\"color\":\"#EF553B\",\"opacity\":0.5,\"symbol\":\"circle\"},\"mode\":\"markers\",\"name\":\"Cluster 1\",\"orientation\":\"v\",\"showlegend\":true,\"x\":[-2.2032256,-2.2381067,-2.2597897,-2.1436644,-2.14265,-2.744129,-2.0205386,-1.874919,-2.4188197,-2.1406207,-2.3623018,-2.111072,-2.1643333,-2.1735272,-2.1808887,-1.9399139,-2.0505512,-2.1139112,-2.1819584,-1.8083025,-2.585966,-2.3571742,-2.4986804,-2.0258706,-2.2363923,-2.2062693,-2.3162527],\"xaxis\":\"x\",\"y\":[-0.9729707,-0.45770288,-0.41864857,-0.24799335,-0.504997,-0.4334611,-0.64058125,-1.3788368,-2.1186264,-1.0190052,-0.62263775,-1.1133888,-0.46594268,-1.8322723,-0.89738107,-0.44714698,-1.4599429,-0.29276812,-1.4549042,-0.4025766,-1.7625736,-1.0931302,-0.5683636,-0.21969812,-2.6503742,-0.20195886,-1.1001104],\"yaxis\":\"y\",\"type\":\"scatter\",\"textposition\":\"top center\"},{\"customdata\":[[7.0],[6.7],[7.7],[6.7],[6.4],[6.9],[7.7],[6.7],[6.3],[7.2],[6.5],[6.3],[6.0],[6.5],[6.7],[6.9],[7.2],[5.9],[6.9],[6.8],[7.7],[6.6],[6.9],[6.7],[6.8],[6.7],[7.7],[6.5],[7.2],[6.3],[6.4],[7.1],[7.4],[6.4],[7.6],[6.7],[6.5],[6.8],[6.4],[6.4],[6.2],[7.9]],\"hovertemplate\":\"Cluster=Cluster 2\\u003cbr\\u003ePCA1=%{x}\\u003cbr\\u003ePCA2=%{y}\\u003cbr\\u003eFeature=%{customdata[0]}\\u003cextra\\u003e\\u003c\\u002fextra\\u003e\",\"legendgroup\":\"Cluster 2\",\"marker\":{\"color\":\"#00cc96\",\"opacity\":0.5,\"symbol\":\"circle\"},\"mode\":\"markers\",\"name\":\"Cluster 2\",\"orientation\":\"v\",\"showlegend\":true,\"x\":[1.1055503,0.88077044,2.7908518,1.0530993,1.7883629,1.8999043,2.421466,1.360792,1.5775356,1.9529276,1.5226061,0.7532722,0.4381631,1.4736147,1.996171,2.0354245,2.2558317,0.7448416,1.2440131,2.0385237,3.3000286,0.879756,1.8509128,1.7010772,1.8827503,2.0127268,2.8898234,1.3665735,1.862858,1.844307,1.8621364,2.201972,2.431125,1.3494196,2.7449596,1.8691363,1.867264,1.2595544,1.5909927,0.7379903,1.3754535,2.3005738],\"xaxis\":\"x\",\"y\":[-0.8398965,-0.4870443,-0.8319924,-0.49906304,0.21117295,-0.6620892,-2.5190654,-0.3083524,-1.0333288,-0.98130006,-0.24352212,-0.74510384,-0.8154506,-0.23082142,-1.0159966,-0.8806168,-1.8841158,-0.3677358,-0.5936514,-0.8371017,0.0018084021,-0.2300406,-0.64938855,-0.98303735,-0.39364454,-0.5845581,-0.39289188,-0.6642014,-0.5403622,-0.8356375,0.20293313,-0.5367864,-0.23899078,-0.39575616,-0.7757765,-0.36031052,-0.2675596,0.09479065,-0.64540565,-0.56941,-0.9765351,-2.590876],\"yaxis\":\"y\",\"type\":\"scatter\",\"textposition\":\"top center\"},{\"customdata\":[[4.8],[4.6],[4.8],[4.6],[4.9],[5.0],[5.0],[4.4],[4.4],[4.8],[4.7],[4.8],[4.9],[4.7],[4.4],[4.5],[5.0],[4.9],[4.6],[4.3],[5.1]],\"hovertemplate\":\"Cluster=Cluster 3\\u003cbr\\u003ePCA1=%{x}\\u003cbr\\u003ePCA2=%{y}\\u003cbr\\u003eFeature=%{customdata[0]}\\u003cextra\\u003e\\u003c\\u002fextra\\u003e\",\"legendgroup\":\"Cluster 3\",\"marker\":{\"color\":\"#ab63fa\",\"opacity\":0.5,\"symbol\":\"circle\"},\"mode\":\"markers\",\"name\":\"Cluster 3\",\"orientation\":\"v\",\"showlegend\":true,\"x\":[-2.2986274,-2.36636,-2.2000716,-2.4157677,-2.157876,-2.1816437,-2.1775305,-2.3067985,-2.5244217,-2.1917427,-2.2380517,-2.0441957,-2.055364,-2.336607,-2.4012408,-1.8337293,-1.9270556,-2.0841026,-2.2719178,-2.6033227,-1.7950498],\"xaxis\":\"x\",\"y\":[-0.11114957,0.40537775,-0.11492849,-0.024800912,0.48522398,0.22375894,0.0102704875,1.1303548,0.49870634,0.74348736,0.356824,0.7270077,0.68921304,0.36060297,0.92064524,2.3431568,0.6406593,0.47698417,0.61508787,0.97743887,-0.064262345],\"yaxis\":\"y\",\"type\":\"scatter\",\"textposition\":\"top center\"}],                        {\"template\":{\"data\":{\"histogram2dcontour\":[{\"type\":\"histogram2dcontour\",\"colorbar\":{\"outlinewidth\":0,\"ticks\":\"\"},\"colorscale\":[[0.0,\"#0d0887\"],[0.1111111111111111,\"#46039f\"],[0.2222222222222222,\"#7201a8\"],[0.3333333333333333,\"#9c179e\"],[0.4444444444444444,\"#bd3786\"],[0.5555555555555556,\"#d8576b\"],[0.6666666666666666,\"#ed7953\"],[0.7777777777777778,\"#fb9f3a\"],[0.8888888888888888,\"#fdca26\"],[1.0,\"#f0f921\"]]}],\"choropleth\":[{\"type\":\"choropleth\",\"colorbar\":{\"outlinewidth\":0,\"ticks\":\"\"}}],\"histogram2d\":[{\"type\":\"histogram2d\",\"colorbar\":{\"outlinewidth\":0,\"ticks\":\"\"},\"colorscale\":[[0.0,\"#0d0887\"],[0.1111111111111111,\"#46039f\"],[0.2222222222222222,\"#7201a8\"],[0.3333333333333333,\"#9c179e\"],[0.4444444444444444,\"#bd3786\"],[0.5555555555555556,\"#d8576b\"],[0.6666666666666666,\"#ed7953\"],[0.7777777777777778,\"#fb9f3a\"],[0.8888888888888888,\"#fdca26\"],[1.0,\"#f0f921\"]]}],\"heatmap\":[{\"type\":\"heatmap\",\"colorbar\":{\"outlinewidth\":0,\"ticks\":\"\"},\"colorscale\":[[0.0,\"#0d0887\"],[0.1111111111111111,\"#46039f\"],[0.2222222222222222,\"#7201a8\"],[0.3333333333333333,\"#9c179e\"],[0.4444444444444444,\"#bd3786\"],[0.5555555555555556,\"#d8576b\"],[0.6666666666666666,\"#ed7953\"],[0.7777777777777778,\"#fb9f3a\"],[0.8888888888888888,\"#fdca26\"],[1.0,\"#f0f921\"]]}],\"heatmapgl\":[{\"type\":\"heatmapgl\",\"colorbar\":{\"outlinewidth\":0,\"ticks\":\"\"},\"colorscale\":[[0.0,\"#0d0887\"],[0.1111111111111111,\"#46039f\"],[0.2222222222222222,\"#7201a8\"],[0.3333333333333333,\"#9c179e\"],[0.4444444444444444,\"#bd3786\"],[0.5555555555555556,\"#d8576b\"],[0.6666666666666666,\"#ed7953\"],[0.7777777777777778,\"#fb9f3a\"],[0.8888888888888888,\"#fdca26\"],[1.0,\"#f0f921\"]]}],\"contourcarpet\":[{\"type\":\"contourcarpet\",\"colorbar\":{\"outlinewidth\":0,\"ticks\":\"\"}}],\"contour\":[{\"type\":\"contour\",\"colorbar\":{\"outlinewidth\":0,\"ticks\":\"\"},\"colorscale\":[[0.0,\"#0d0887\"],[0.1111111111111111,\"#46039f\"],[0.2222222222222222,\"#7201a8\"],[0.3333333333333333,\"#9c179e\"],[0.4444444444444444,\"#bd3786\"],[0.5555555555555556,\"#d8576b\"],[0.6666666666666666,\"#ed7953\"],[0.7777777777777778,\"#fb9f3a\"],[0.8888888888888888,\"#fdca26\"],[1.0,\"#f0f921\"]]}],\"surface\":[{\"type\":\"surface\",\"colorbar\":{\"outlinewidth\":0,\"ticks\":\"\"},\"colorscale\":[[0.0,\"#0d0887\"],[0.1111111111111111,\"#46039f\"],[0.2222222222222222,\"#7201a8\"],[0.3333333333333333,\"#9c179e\"],[0.4444444444444444,\"#bd3786\"],[0.5555555555555556,\"#d8576b\"],[0.6666666666666666,\"#ed7953\"],[0.7777777777777778,\"#fb9f3a\"],[0.8888888888888888,\"#fdca26\"],[1.0,\"#f0f921\"]]}],\"mesh3d\":[{\"type\":\"mesh3d\",\"colorbar\":{\"outlinewidth\":0,\"ticks\":\"\"}}],\"scatter\":[{\"fillpattern\":{\"fillmode\":\"overlay\",\"size\":10,\"solidity\":0.2},\"type\":\"scatter\"}],\"parcoords\":[{\"type\":\"parcoords\",\"line\":{\"colorbar\":{\"outlinewidth\":0,\"ticks\":\"\"}}}],\"scatterpolargl\":[{\"type\":\"scatterpolargl\",\"marker\":{\"colorbar\":{\"outlinewidth\":0,\"ticks\":\"\"}}}],\"bar\":[{\"error_x\":{\"color\":\"#2a3f5f\"},\"error_y\":{\"color\":\"#2a3f5f\"},\"marker\":{\"line\":{\"color\":\"#E5ECF6\",\"width\":0.5},\"pattern\":{\"fillmode\":\"overlay\",\"size\":10,\"solidity\":0.2}},\"type\":\"bar\"}],\"scattergeo\":[{\"type\":\"scattergeo\",\"marker\":{\"colorbar\":{\"outlinewidth\":0,\"ticks\":\"\"}}}],\"scatterpolar\":[{\"type\":\"scatterpolar\",\"marker\":{\"colorbar\":{\"outlinewidth\":0,\"ticks\":\"\"}}}],\"histogram\":[{\"marker\":{\"pattern\":{\"fillmode\":\"overlay\",\"size\":10,\"solidity\":0.2}},\"type\":\"histogram\"}],\"scattergl\":[{\"type\":\"scattergl\",\"marker\":{\"colorbar\":{\"outlinewidth\":0,\"ticks\":\"\"}}}],\"scatter3d\":[{\"type\":\"scatter3d\",\"line\":{\"colorbar\":{\"outlinewidth\":0,\"ticks\":\"\"}},\"marker\":{\"colorbar\":{\"outlinewidth\":0,\"ticks\":\"\"}}}],\"scattermapbox\":[{\"type\":\"scattermapbox\",\"marker\":{\"colorbar\":{\"outlinewidth\":0,\"ticks\":\"\"}}}],\"scatterternary\":[{\"type\":\"scatterternary\",\"marker\":{\"colorbar\":{\"outlinewidth\":0,\"ticks\":\"\"}}}],\"scattercarpet\":[{\"type\":\"scattercarpet\",\"marker\":{\"colorbar\":{\"outlinewidth\":0,\"ticks\":\"\"}}}],\"carpet\":[{\"aaxis\":{\"endlinecolor\":\"#2a3f5f\",\"gridcolor\":\"white\",\"linecolor\":\"white\",\"minorgridcolor\":\"white\",\"startlinecolor\":\"#2a3f5f\"},\"baxis\":{\"endlinecolor\":\"#2a3f5f\",\"gridcolor\":\"white\",\"linecolor\":\"white\",\"minorgridcolor\":\"white\",\"startlinecolor\":\"#2a3f5f\"},\"type\":\"carpet\"}],\"table\":[{\"cells\":{\"fill\":{\"color\":\"#EBF0F8\"},\"line\":{\"color\":\"white\"}},\"header\":{\"fill\":{\"color\":\"#C8D4E3\"},\"line\":{\"color\":\"white\"}},\"type\":\"table\"}],\"barpolar\":[{\"marker\":{\"line\":{\"color\":\"#E5ECF6\",\"width\":0.5},\"pattern\":{\"fillmode\":\"overlay\",\"size\":10,\"solidity\":0.2}},\"type\":\"barpolar\"}],\"pie\":[{\"automargin\":true,\"type\":\"pie\"}]},\"layout\":{\"autotypenumbers\":\"strict\",\"colorway\":[\"#636efa\",\"#EF553B\",\"#00cc96\",\"#ab63fa\",\"#FFA15A\",\"#19d3f3\",\"#FF6692\",\"#B6E880\",\"#FF97FF\",\"#FECB52\"],\"font\":{\"color\":\"#2a3f5f\"},\"hovermode\":\"closest\",\"hoverlabel\":{\"align\":\"left\"},\"paper_bgcolor\":\"white\",\"plot_bgcolor\":\"#E5ECF6\",\"polar\":{\"bgcolor\":\"#E5ECF6\",\"angularaxis\":{\"gridcolor\":\"white\",\"linecolor\":\"white\",\"ticks\":\"\"},\"radialaxis\":{\"gridcolor\":\"white\",\"linecolor\":\"white\",\"ticks\":\"\"}},\"ternary\":{\"bgcolor\":\"#E5ECF6\",\"aaxis\":{\"gridcolor\":\"white\",\"linecolor\":\"white\",\"ticks\":\"\"},\"baxis\":{\"gridcolor\":\"white\",\"linecolor\":\"white\",\"ticks\":\"\"},\"caxis\":{\"gridcolor\":\"white\",\"linecolor\":\"white\",\"ticks\":\"\"}},\"coloraxis\":{\"colorbar\":{\"outlinewidth\":0,\"ticks\":\"\"}},\"colorscale\":{\"sequential\":[[0.0,\"#0d0887\"],[0.1111111111111111,\"#46039f\"],[0.2222222222222222,\"#7201a8\"],[0.3333333333333333,\"#9c179e\"],[0.4444444444444444,\"#bd3786\"],[0.5555555555555556,\"#d8576b\"],[0.6666666666666666,\"#ed7953\"],[0.7777777777777778,\"#fb9f3a\"],[0.8888888888888888,\"#fdca26\"],[1.0,\"#f0f921\"]],\"sequentialminus\":[[0.0,\"#0d0887\"],[0.1111111111111111,\"#46039f\"],[0.2222222222222222,\"#7201a8\"],[0.3333333333333333,\"#9c179e\"],[0.4444444444444444,\"#bd3786\"],[0.5555555555555556,\"#d8576b\"],[0.6666666666666666,\"#ed7953\"],[0.7777777777777778,\"#fb9f3a\"],[0.8888888888888888,\"#fdca26\"],[1.0,\"#f0f921\"]],\"diverging\":[[0,\"#8e0152\"],[0.1,\"#c51b7d\"],[0.2,\"#de77ae\"],[0.3,\"#f1b6da\"],[0.4,\"#fde0ef\"],[0.5,\"#f7f7f7\"],[0.6,\"#e6f5d0\"],[0.7,\"#b8e186\"],[0.8,\"#7fbc41\"],[0.9,\"#4d9221\"],[1,\"#276419\"]]},\"xaxis\":{\"gridcolor\":\"white\",\"linecolor\":\"white\",\"ticks\":\"\",\"title\":{\"standoff\":15},\"zerolinecolor\":\"white\",\"automargin\":true,\"zerolinewidth\":2},\"yaxis\":{\"gridcolor\":\"white\",\"linecolor\":\"white\",\"ticks\":\"\",\"title\":{\"standoff\":15},\"zerolinecolor\":\"white\",\"automargin\":true,\"zerolinewidth\":2},\"scene\":{\"xaxis\":{\"backgroundcolor\":\"#E5ECF6\",\"gridcolor\":\"white\",\"linecolor\":\"white\",\"showbackground\":true,\"ticks\":\"\",\"zerolinecolor\":\"white\",\"gridwidth\":2},\"yaxis\":{\"backgroundcolor\":\"#E5ECF6\",\"gridcolor\":\"white\",\"linecolor\":\"white\",\"showbackground\":true,\"ticks\":\"\",\"zerolinecolor\":\"white\",\"gridwidth\":2},\"zaxis\":{\"backgroundcolor\":\"#E5ECF6\",\"gridcolor\":\"white\",\"linecolor\":\"white\",\"showbackground\":true,\"ticks\":\"\",\"zerolinecolor\":\"white\",\"gridwidth\":2}},\"shapedefaults\":{\"line\":{\"color\":\"#2a3f5f\"}},\"annotationdefaults\":{\"arrowcolor\":\"#2a3f5f\",\"arrowhead\":0,\"arrowwidth\":1},\"geo\":{\"bgcolor\":\"white\",\"landcolor\":\"#E5ECF6\",\"subunitcolor\":\"white\",\"showland\":true,\"showlakes\":true,\"lakecolor\":\"white\"},\"title\":{\"x\":0.05},\"mapbox\":{\"style\":\"light\"}}},\"xaxis\":{\"anchor\":\"y\",\"domain\":[0.0,1.0],\"title\":{\"text\":\"PCA1\"}},\"yaxis\":{\"anchor\":\"x\",\"domain\":[0.0,1.0],\"title\":{\"text\":\"PCA2\"}},\"legend\":{\"title\":{\"text\":\"Cluster\"},\"tracegroupgap\":0},\"margin\":{\"t\":60},\"plot_bgcolor\":\"rgb(240,240,240)\",\"title\":{\"text\":\"2D Cluster PCA Plot\"},\"height\":600},                        {\"responsive\": true}                    ).then(function(){\n",
              "                            \n",
              "var gd = document.getElementById('4e6743dd-b04f-41a3-ac70-4c4e5ac45007');\n",
              "var x = new MutationObserver(function (mutations, observer) {{\n",
              "        var display = window.getComputedStyle(gd).display;\n",
              "        if (!display || display === 'none') {{\n",
              "            console.log([gd, 'removed!']);\n",
              "            Plotly.purge(gd);\n",
              "            observer.disconnect();\n",
              "        }}\n",
              "}});\n",
              "\n",
              "// Listen for the removal of the full notebook cells\n",
              "var notebookContainer = gd.closest('#notebook-container');\n",
              "if (notebookContainer) {{\n",
              "    x.observe(notebookContainer, {childList: true});\n",
              "}}\n",
              "\n",
              "// Listen for the clearing of the current output cell\n",
              "var outputEl = gd.closest('.output');\n",
              "if (outputEl) {{\n",
              "    x.observe(outputEl, {childList: true});\n",
              "}}\n",
              "\n",
              "                        })                };                            </script>        </div>\n",
              "</body>\n",
              "</html>"
            ]
          },
          "metadata": {}
        },
        {
          "output_type": "display_data",
          "data": {
            "text/plain": [
              "<IPython.core.display.HTML object>"
            ],
            "text/html": []
          },
          "metadata": {}
        },
        {
          "output_type": "display_data",
          "data": {
            "text/plain": [
              "<Figure size 800x550 with 1 Axes>"
            ],
            "image/png": "[encoded data removed]"
          },
          "metadata": {}
        },
        {
          "output_type": "display_data",
          "data": {
            "text/plain": [
              "<IPython.core.display.HTML object>"
            ],
            "text/html": []
          },
          "metadata": {}
        },
        {
          "output_type": "display_data",
          "data": {
            "text/plain": [
              "<Figure size 800x550 with 1 Axes>"
            ],
            "image/png": "[encoded data removed]"
          },
          "metadata": {}
        },
        {
          "output_type": "display_data",
          "data": {
            "text/plain": [
              "<IPython.core.display.HTML object>"
            ],
            "text/html": []
          },
          "metadata": {}
        },
        {
          "output_type": "display_data",
          "data": {
            "text/html": [
              "<html>\n",
              "<head><meta charset=\"utf-8\" /></head>\n",
              "<body>\n",
              "    <div>            <script src=\"https://cdnjs.cloudflare.com/ajax/libs/mathjax/2.7.5/MathJax.js?config=TeX-AMS-MML_SVG\"></script><script type=\"text/javascript\">if (window.MathJax && window.MathJax.Hub && window.MathJax.Hub.Config) {window.MathJax.Hub.Config({SVG: {font: \"STIX-Web\"}});}</script>                <script type=\"text/javascript\">window.PlotlyConfig = {MathJaxConfig: 'local'};</script>\n",
              "        <script charset=\"utf-8\" src=\"https://cdn.plot.ly/plotly-2.35.2.min.js\"></script>                <div id=\"f1f2d7a8-84f5-4f94-92ba-fd14c4e54288\" class=\"plotly-graph-div\" style=\"height:600px; width:100%;\"></div>            <script type=\"text/javascript\">                                    window.PLOTLYENV=window.PLOTLYENV || {};                                    if (document.getElementById(\"f1f2d7a8-84f5-4f94-92ba-fd14c4e54288\")) {                    Plotly.newPlot(                        \"f1f2d7a8-84f5-4f94-92ba-fd14c4e54288\",                        [{\"alignmentgroup\":\"True\",\"bingroup\":\"x\",\"hovertemplate\":\"Cluster=%{x}\\u003cbr\\u003ecount=%{y}\\u003cextra\\u003e\\u003c\\u002fextra\\u003e\",\"legendgroup\":\"Cluster 0\",\"marker\":{\"color\":\"#636efa\",\"opacity\":0.7,\"pattern\":{\"shape\":\"\"}},\"name\":\"Cluster 0\",\"offsetgroup\":\"Cluster 0\",\"orientation\":\"v\",\"showlegend\":true,\"x\":[\"Cluster 0\",\"Cluster 0\",\"Cluster 0\",\"Cluster 0\",\"Cluster 0\",\"Cluster 0\",\"Cluster 0\",\"Cluster 0\",\"Cluster 0\",\"Cluster 0\",\"Cluster 0\",\"Cluster 0\",\"Cluster 0\",\"Cluster 0\",\"Cluster 0\",\"Cluster 0\",\"Cluster 0\",\"Cluster 0\",\"Cluster 0\",\"Cluster 0\",\"Cluster 0\",\"Cluster 0\",\"Cluster 0\",\"Cluster 0\",\"Cluster 0\",\"Cluster 0\",\"Cluster 0\",\"Cluster 0\",\"Cluster 0\",\"Cluster 0\",\"Cluster 0\",\"Cluster 0\",\"Cluster 0\",\"Cluster 0\",\"Cluster 0\",\"Cluster 0\",\"Cluster 0\",\"Cluster 0\",\"Cluster 0\",\"Cluster 0\",\"Cluster 0\",\"Cluster 0\",\"Cluster 0\",\"Cluster 0\",\"Cluster 0\",\"Cluster 0\",\"Cluster 0\",\"Cluster 0\",\"Cluster 0\",\"Cluster 0\",\"Cluster 0\",\"Cluster 0\"],\"xaxis\":\"x\",\"yaxis\":\"y\",\"type\":\"histogram\"},{\"alignmentgroup\":\"True\",\"customdata\":[[5.8,2.7,3.9,1.2],[6.0,2.9,4.5,1.5],[6.0,2.7,5.1,1.6],[5.0,2.3,3.3,1.0],[6.1,3.0,4.6,1.4],[5.0,2.0,3.5,1.0],[5.6,3.0,4.1,1.3],[5.8,2.7,4.1,1.0],[6.0,2.2,5.0,1.5],[6.1,3.0,4.9,1.8],[5.4,3.0,4.5,1.5],[5.8,2.7,5.1,1.9],[6.4,2.7,5.3,1.9],[6.3,2.7,4.9,1.8],[5.8,2.7,5.1,1.9],[4.9,2.4,3.3,1.0],[6.7,2.5,5.8,1.8],[6.3,2.8,5.1,1.5],[5.5,2.6,4.4,1.2],[6.1,2.8,4.7,1.2],[6.0,2.2,4.0,1.0],[6.1,2.8,4.0,1.3],[6.2,2.9,4.3,1.3],[5.5,2.5,4.0,1.3],[6.6,2.9,4.6,1.3],[6.4,2.9,4.3,1.3],[6.1,2.9,4.7,1.4],[5.9,3.0,4.2,1.5],[5.7,2.6,3.5,1.0],[5.5,2.3,4.0,1.3],[5.7,2.5,5.0,2.0],[5.7,2.8,4.1,1.3],[5.7,3.0,4.2,1.2],[6.3,2.5,4.9,1.5],[6.1,2.6,5.6,1.4],[5.6,2.7,4.2,1.3],[5.2,2.7,3.9,1.4],[5.1,2.5,3.0,1.1],[5.6,2.5,3.9,1.1],[5.6,3.0,4.5,1.5],[5.8,2.8,5.1,2.4],[6.3,2.5,5.0,1.9],[5.8,2.6,4.0,1.2],[6.2,2.2,4.5,1.5],[4.9,2.5,4.5,1.7],[6.5,2.8,4.6,1.5],[5.7,2.9,4.2,1.3],[5.7,2.8,4.5,1.3],[6.0,3.0,4.8,1.8],[5.5,2.4,3.8,1.1],[5.6,2.8,4.9,2.0],[6.2,2.8,4.8,1.8]],\"hovertemplate\":\"Cluster=%{x}\\u003cbr\\u003esepal length (cm)=%{customdata[0]}\\u003cbr\\u003esepal width (cm)=%{customdata[1]}\\u003cbr\\u003epetal length (cm)=%{customdata[2]}\\u003cbr\\u003epetal width (cm)=%{customdata[3]}\\u003cextra\\u003e\\u003c\\u002fextra\\u003e\",\"legendgroup\":\"Cluster 0\",\"marker\":{\"color\":\"#636efa\"},\"name\":\"Cluster 0\",\"notched\":true,\"offsetgroup\":\"Cluster 0\",\"showlegend\":false,\"x\":[\"Cluster 0\",\"Cluster 0\",\"Cluster 0\",\"Cluster 0\",\"Cluster 0\",\"Cluster 0\",\"Cluster 0\",\"Cluster 0\",\"Cluster 0\",\"Cluster 0\",\"Cluster 0\",\"Cluster 0\",\"Cluster 0\",\"Cluster 0\",\"Cluster 0\",\"Cluster 0\",\"Cluster 0\",\"Cluster 0\",\"Cluster 0\",\"Cluster 0\",\"Cluster 0\",\"Cluster 0\",\"Cluster 0\",\"Cluster 0\",\"Cluster 0\",\"Cluster 0\",\"Cluster 0\",\"Cluster 0\",\"Cluster 0\",\"Cluster 0\",\"Cluster 0\",\"Cluster 0\",\"Cluster 0\",\"Cluster 0\",\"Cluster 0\",\"Cluster 0\",\"Cluster 0\",\"Cluster 0\",\"Cluster 0\",\"Cluster 0\",\"Cluster 0\",\"Cluster 0\",\"Cluster 0\",\"Cluster 0\",\"Cluster 0\",\"Cluster 0\",\"Cluster 0\",\"Cluster 0\",\"Cluster 0\",\"Cluster 0\",\"Cluster 0\",\"Cluster 0\"],\"xaxis\":\"x2\",\"yaxis\":\"y2\",\"type\":\"box\"},{\"alignmentgroup\":\"True\",\"bingroup\":\"x\",\"hovertemplate\":\"Cluster=%{x}\\u003cbr\\u003ecount=%{y}\\u003cextra\\u003e\\u003c\\u002fextra\\u003e\",\"legendgroup\":\"Cluster 1\",\"marker\":{\"color\":\"#EF553B\",\"opacity\":0.7,\"pattern\":{\"shape\":\"\"}},\"name\":\"Cluster 1\",\"offsetgroup\":\"Cluster 1\",\"orientation\":\"v\",\"showlegend\":true,\"x\":[\"Cluster 1\",\"Cluster 1\",\"Cluster 1\",\"Cluster 1\",\"Cluster 1\",\"Cluster 1\",\"Cluster 1\",\"Cluster 1\",\"Cluster 1\",\"Cluster 1\",\"Cluster 1\",\"Cluster 1\",\"Cluster 1\",\"Cluster 1\",\"Cluster 1\",\"Cluster 1\",\"Cluster 1\",\"Cluster 1\",\"Cluster 1\",\"Cluster 1\",\"Cluster 1\",\"Cluster 1\",\"Cluster 1\",\"Cluster 1\",\"Cluster 1\",\"Cluster 1\",\"Cluster 1\"],\"xaxis\":\"x\",\"yaxis\":\"y\",\"type\":\"histogram\"},{\"alignmentgroup\":\"True\",\"customdata\":[[5.3,3.7,1.5,0.2],[5.1,3.5,1.4,0.2],[5.0,3.5,1.3,0.3],[5.1,3.4,1.5,0.2],[5.2,3.5,1.5,0.2],[4.6,3.6,1.0,0.2],[5.5,3.5,1.3,0.2],[5.7,3.8,1.7,0.3],[5.5,4.2,1.4,0.2],[5.4,3.7,1.5,0.2],[5.0,3.6,1.4,0.2],[5.1,3.8,1.9,0.4],[5.1,3.5,1.4,0.3],[5.8,4.0,1.2,0.2],[5.1,3.7,1.5,0.4],[5.0,3.5,1.6,0.6],[5.4,3.9,1.7,0.4],[5.2,3.4,1.4,0.2],[5.4,3.9,1.3,0.4],[5.4,3.4,1.5,0.4],[5.2,4.1,1.5,0.1],[5.1,3.8,1.6,0.2],[4.9,3.6,1.4,0.1],[5.0,3.4,1.6,0.4],[5.7,4.4,1.5,0.4],[5.0,3.4,1.5,0.2],[5.1,3.8,1.5,0.3]],\"hovertemplate\":\"Cluster=%{x}\\u003cbr\\u003esepal length (cm)=%{customdata[0]}\\u003cbr\\u003esepal width (cm)=%{customdata[1]}\\u003cbr\\u003epetal length (cm)=%{customdata[2]}\\u003cbr\\u003epetal width (cm)=%{customdata[3]}\\u003cextra\\u003e\\u003c\\u002fextra\\u003e\",\"legendgroup\":\"Cluster 1\",\"marker\":{\"color\":\"#EF553B\"},\"name\":\"Cluster 1\",\"notched\":true,\"offsetgroup\":\"Cluster 1\",\"showlegend\":false,\"x\":[\"Cluster 1\",\"Cluster 1\",\"Cluster 1\",\"Cluster 1\",\"Cluster 1\",\"Cluster 1\",\"Cluster 1\",\"Cluster 1\",\"Cluster 1\",\"Cluster 1\",\"Cluster 1\",\"Cluster 1\",\"Cluster 1\",\"Cluster 1\",\"Cluster 1\",\"Cluster 1\",\"Cluster 1\",\"Cluster 1\",\"Cluster 1\",\"Cluster 1\",\"Cluster 1\",\"Cluster 1\",\"Cluster 1\",\"Cluster 1\",\"Cluster 1\",\"Cluster 1\",\"Cluster 1\"],\"xaxis\":\"x2\",\"yaxis\":\"y2\",\"type\":\"box\"},{\"alignmentgroup\":\"True\",\"bingroup\":\"x\",\"hovertemplate\":\"Cluster=%{x}\\u003cbr\\u003ecount=%{y}\\u003cextra\\u003e\\u003c\\u002fextra\\u003e\",\"legendgroup\":\"Cluster 2\",\"marker\":{\"color\":\"#00cc96\",\"opacity\":0.7,\"pattern\":{\"shape\":\"\"}},\"name\":\"Cluster 2\",\"offsetgroup\":\"Cluster 2\",\"orientation\":\"v\",\"showlegend\":true,\"x\":[\"Cluster 2\",\"Cluster 2\",\"Cluster 2\",\"Cluster 2\",\"Cluster 2\",\"Cluster 2\",\"Cluster 2\",\"Cluster 2\",\"Cluster 2\",\"Cluster 2\",\"Cluster 2\",\"Cluster 2\",\"Cluster 2\",\"Cluster 2\",\"Cluster 2\",\"Cluster 2\",\"Cluster 2\",\"Cluster 2\",\"Cluster 2\",\"Cluster 2\",\"Cluster 2\",\"Cluster 2\",\"Cluster 2\",\"Cluster 2\",\"Cluster 2\",\"Cluster 2\",\"Cluster 2\",\"Cluster 2\",\"Cluster 2\",\"Cluster 2\",\"Cluster 2\",\"Cluster 2\",\"Cluster 2\",\"Cluster 2\",\"Cluster 2\",\"Cluster 2\",\"Cluster 2\",\"Cluster 2\",\"Cluster 2\",\"Cluster 2\",\"Cluster 2\",\"Cluster 2\"],\"xaxis\":\"x\",\"yaxis\":\"y\",\"type\":\"histogram\"},{\"alignmentgroup\":\"True\",\"customdata\":[[7.0,3.2,4.7,1.4],[6.7,3.1,4.4,1.4],[7.7,3.0,6.1,2.3],[6.7,3.1,4.7,1.5],[6.4,2.8,5.6,2.1],[6.9,3.1,5.1,2.3],[7.7,3.8,6.7,2.2],[6.7,3.0,5.0,1.7],[6.3,3.4,5.6,2.4],[7.2,3.2,6.0,1.8],[6.5,3.0,5.2,2.0],[6.3,3.3,4.7,1.6],[6.0,3.4,4.5,1.6],[6.5,3.0,5.5,1.8],[6.7,3.3,5.7,2.5],[6.9,3.2,5.7,2.3],[7.2,3.6,6.1,2.5],[5.9,3.2,4.8,1.8],[6.9,3.1,4.9,1.5],[6.8,3.2,5.9,2.3],[7.7,2.6,6.9,2.3],[6.6,3.0,4.4,1.4],[6.9,3.1,5.4,2.1],[6.7,3.3,5.7,2.1],[6.8,3.0,5.5,2.1],[6.7,3.1,5.6,2.4],[7.7,2.8,6.7,2.0],[6.5,3.2,5.1,2.0],[7.2,3.0,5.8,1.6],[6.3,3.3,6.0,2.5],[6.4,2.8,5.6,2.2],[7.1,3.0,5.9,2.1],[7.4,2.8,6.1,1.9],[6.4,3.1,5.5,1.8],[7.6,3.0,6.6,2.1],[6.7,3.0,5.2,2.3],[6.5,3.0,5.8,2.2],[6.8,2.8,4.8,1.4],[6.4,3.2,5.3,2.3],[6.4,3.2,4.5,1.5],[6.2,3.4,5.4,2.3],[7.9,3.8,6.4,2.0]],\"hovertemplate\":\"Cluster=%{x}\\u003cbr\\u003esepal length (cm)=%{customdata[0]}\\u003cbr\\u003esepal width (cm)=%{customdata[1]}\\u003cbr\\u003epetal length (cm)=%{customdata[2]}\\u003cbr\\u003epetal width (cm)=%{customdata[3]}\\u003cextra\\u003e\\u003c\\u002fextra\\u003e\",\"legendgroup\":\"Cluster 2\",\"marker\":{\"color\":\"#00cc96\"},\"name\":\"Cluster 2\",\"notched\":true,\"offsetgroup\":\"Cluster 2\",\"showlegend\":false,\"x\":[\"Cluster 2\",\"Cluster 2\",\"Cluster 2\",\"Cluster 2\",\"Cluster 2\",\"Cluster 2\",\"Cluster 2\",\"Cluster 2\",\"Cluster 2\",\"Cluster 2\",\"Cluster 2\",\"Cluster 2\",\"Cluster 2\",\"Cluster 2\",\"Cluster 2\",\"Cluster 2\",\"Cluster 2\",\"Cluster 2\",\"Cluster 2\",\"Cluster 2\",\"Cluster 2\",\"Cluster 2\",\"Cluster 2\",\"Cluster 2\",\"Cluster 2\",\"Cluster 2\",\"Cluster 2\",\"Cluster 2\",\"Cluster 2\",\"Cluster 2\",\"Cluster 2\",\"Cluster 2\",\"Cluster 2\",\"Cluster 2\",\"Cluster 2\",\"Cluster 2\",\"Cluster 2\",\"Cluster 2\",\"Cluster 2\",\"Cluster 2\",\"Cluster 2\",\"Cluster 2\"],\"xaxis\":\"x2\",\"yaxis\":\"y2\",\"type\":\"box\"},{\"alignmentgroup\":\"True\",\"bingroup\":\"x\",\"hovertemplate\":\"Cluster=%{x}\\u003cbr\\u003ecount=%{y}\\u003cextra\\u003e\\u003c\\u002fextra\\u003e\",\"legendgroup\":\"Cluster 3\",\"marker\":{\"color\":\"#ab63fa\",\"opacity\":0.7,\"pattern\":{\"shape\":\"\"}},\"name\":\"Cluster 3\",\"offsetgroup\":\"Cluster 3\",\"orientation\":\"v\",\"showlegend\":true,\"x\":[\"Cluster 3\",\"Cluster 3\",\"Cluster 3\",\"Cluster 3\",\"Cluster 3\",\"Cluster 3\",\"Cluster 3\",\"Cluster 3\",\"Cluster 3\",\"Cluster 3\",\"Cluster 3\",\"Cluster 3\",\"Cluster 3\",\"Cluster 3\",\"Cluster 3\",\"Cluster 3\",\"Cluster 3\",\"Cluster 3\",\"Cluster 3\",\"Cluster 3\",\"Cluster 3\"],\"xaxis\":\"x\",\"yaxis\":\"y\",\"type\":\"histogram\"},{\"alignmentgroup\":\"True\",\"customdata\":[[4.8,3.4,1.6,0.2],[4.6,3.2,1.4,0.2],[4.8,3.4,1.9,0.2],[4.6,3.4,1.4,0.3],[4.9,3.1,1.5,0.1],[5.0,3.2,1.2,0.2],[5.0,3.3,1.4,0.2],[4.4,2.9,1.4,0.2],[4.4,3.2,1.3,0.2],[4.8,3.0,1.4,0.1],[4.7,3.2,1.6,0.2],[4.8,3.0,1.4,0.3],[4.9,3.0,1.4,0.2],[4.7,3.2,1.3,0.2],[4.4,3.0,1.3,0.2],[4.5,2.3,1.3,0.3],[5.0,3.0,1.6,0.2],[4.9,3.1,1.5,0.2],[4.6,3.1,1.5,0.2],[4.3,3.0,1.1,0.1],[5.1,3.3,1.7,0.5]],\"hovertemplate\":\"Cluster=%{x}\\u003cbr\\u003esepal length (cm)=%{customdata[0]}\\u003cbr\\u003esepal width (cm)=%{customdata[1]}\\u003cbr\\u003epetal length (cm)=%{customdata[2]}\\u003cbr\\u003epetal width (cm)=%{customdata[3]}\\u003cextra\\u003e\\u003c\\u002fextra\\u003e\",\"legendgroup\":\"Cluster 3\",\"marker\":{\"color\":\"#ab63fa\"},\"name\":\"Cluster 3\",\"notched\":true,\"offsetgroup\":\"Cluster 3\",\"showlegend\":false,\"x\":[\"Cluster 3\",\"Cluster 3\",\"Cluster 3\",\"Cluster 3\",\"Cluster 3\",\"Cluster 3\",\"Cluster 3\",\"Cluster 3\",\"Cluster 3\",\"Cluster 3\",\"Cluster 3\",\"Cluster 3\",\"Cluster 3\",\"Cluster 3\",\"Cluster 3\",\"Cluster 3\",\"Cluster 3\",\"Cluster 3\",\"Cluster 3\",\"Cluster 3\",\"Cluster 3\"],\"xaxis\":\"x2\",\"yaxis\":\"y2\",\"type\":\"box\"}],                        {\"template\":{\"data\":{\"histogram2dcontour\":[{\"type\":\"histogram2dcontour\",\"colorbar\":{\"outlinewidth\":0,\"ticks\":\"\"},\"colorscale\":[[0.0,\"#0d0887\"],[0.1111111111111111,\"#46039f\"],[0.2222222222222222,\"#7201a8\"],[0.3333333333333333,\"#9c179e\"],[0.4444444444444444,\"#bd3786\"],[0.5555555555555556,\"#d8576b\"],[0.6666666666666666,\"#ed7953\"],[0.7777777777777778,\"#fb9f3a\"],[0.8888888888888888,\"#fdca26\"],[1.0,\"#f0f921\"]]}],\"choropleth\":[{\"type\":\"choropleth\",\"colorbar\":{\"outlinewidth\":0,\"ticks\":\"\"}}],\"histogram2d\":[{\"type\":\"histogram2d\",\"colorbar\":{\"outlinewidth\":0,\"ticks\":\"\"},\"colorscale\":[[0.0,\"#0d0887\"],[0.1111111111111111,\"#46039f\"],[0.2222222222222222,\"#7201a8\"],[0.3333333333333333,\"#9c179e\"],[0.4444444444444444,\"#bd3786\"],[0.5555555555555556,\"#d8576b\"],[0.6666666666666666,\"#ed7953\"],[0.7777777777777778,\"#fb9f3a\"],[0.8888888888888888,\"#fdca26\"],[1.0,\"#f0f921\"]]}],\"heatmap\":[{\"type\":\"heatmap\",\"colorbar\":{\"outlinewidth\":0,\"ticks\":\"\"},\"colorscale\":[[0.0,\"#0d0887\"],[0.1111111111111111,\"#46039f\"],[0.2222222222222222,\"#7201a8\"],[0.3333333333333333,\"#9c179e\"],[0.4444444444444444,\"#bd3786\"],[0.5555555555555556,\"#d8576b\"],[0.6666666666666666,\"#ed7953\"],[0.7777777777777778,\"#fb9f3a\"],[0.8888888888888888,\"#fdca26\"],[1.0,\"#f0f921\"]]}],\"heatmapgl\":[{\"type\":\"heatmapgl\",\"colorbar\":{\"outlinewidth\":0,\"ticks\":\"\"},\"colorscale\":[[0.0,\"#0d0887\"],[0.1111111111111111,\"#46039f\"],[0.2222222222222222,\"#7201a8\"],[0.3333333333333333,\"#9c179e\"],[0.4444444444444444,\"#bd3786\"],[0.5555555555555556,\"#d8576b\"],[0.6666666666666666,\"#ed7953\"],[0.7777777777777778,\"#fb9f3a\"],[0.8888888888888888,\"#fdca26\"],[1.0,\"#f0f921\"]]}],\"contourcarpet\":[{\"type\":\"contourcarpet\",\"colorbar\":{\"outlinewidth\":0,\"ticks\":\"\"}}],\"contour\":[{\"type\":\"contour\",\"colorbar\":{\"outlinewidth\":0,\"ticks\":\"\"},\"colorscale\":[[0.0,\"#0d0887\"],[0.1111111111111111,\"#46039f\"],[0.2222222222222222,\"#7201a8\"],[0.3333333333333333,\"#9c179e\"],[0.4444444444444444,\"#bd3786\"],[0.5555555555555556,\"#d8576b\"],[0.6666666666666666,\"#ed7953\"],[0.7777777777777778,\"#fb9f3a\"],[0.8888888888888888,\"#fdca26\"],[1.0,\"#f0f921\"]]}],\"surface\":[{\"type\":\"surface\",\"colorbar\":{\"outlinewidth\":0,\"ticks\":\"\"},\"colorscale\":[[0.0,\"#0d0887\"],[0.1111111111111111,\"#46039f\"],[0.2222222222222222,\"#7201a8\"],[0.3333333333333333,\"#9c179e\"],[0.4444444444444444,\"#bd3786\"],[0.5555555555555556,\"#d8576b\"],[0.6666666666666666,\"#ed7953\"],[0.7777777777777778,\"#fb9f3a\"],[0.8888888888888888,\"#fdca26\"],[1.0,\"#f0f921\"]]}],\"mesh3d\":[{\"type\":\"mesh3d\",\"colorbar\":{\"outlinewidth\":0,\"ticks\":\"\"}}],\"scatter\":[{\"fillpattern\":{\"fillmode\":\"overlay\",\"size\":10,\"solidity\":0.2},\"type\":\"scatter\"}],\"parcoords\":[{\"type\":\"parcoords\",\"line\":{\"colorbar\":{\"outlinewidth\":0,\"ticks\":\"\"}}}],\"scatterpolargl\":[{\"type\":\"scatterpolargl\",\"marker\":{\"colorbar\":{\"outlinewidth\":0,\"ticks\":\"\"}}}],\"bar\":[{\"error_x\":{\"color\":\"#2a3f5f\"},\"error_y\":{\"color\":\"#2a3f5f\"},\"marker\":{\"line\":{\"color\":\"#E5ECF6\",\"width\":0.5},\"pattern\":{\"fillmode\":\"overlay\",\"size\":10,\"solidity\":0.2}},\"type\":\"bar\"}],\"scattergeo\":[{\"type\":\"scattergeo\",\"marker\":{\"colorbar\":{\"outlinewidth\":0,\"ticks\":\"\"}}}],\"scatterpolar\":[{\"type\":\"scatterpolar\",\"marker\":{\"colorbar\":{\"outlinewidth\":0,\"ticks\":\"\"}}}],\"histogram\":[{\"marker\":{\"pattern\":{\"fillmode\":\"overlay\",\"size\":10,\"solidity\":0.2}},\"type\":\"histogram\"}],\"scattergl\":[{\"type\":\"scattergl\",\"marker\":{\"colorbar\":{\"outlinewidth\":0,\"ticks\":\"\"}}}],\"scatter3d\":[{\"type\":\"scatter3d\",\"line\":{\"colorbar\":{\"outlinewidth\":0,\"ticks\":\"\"}},\"marker\":{\"colorbar\":{\"outlinewidth\":0,\"ticks\":\"\"}}}],\"scattermapbox\":[{\"type\":\"scattermapbox\",\"marker\":{\"colorbar\":{\"outlinewidth\":0,\"ticks\":\"\"}}}],\"scatterternary\":[{\"type\":\"scatterternary\",\"marker\":{\"colorbar\":{\"outlinewidth\":0,\"ticks\":\"\"}}}],\"scattercarpet\":[{\"type\":\"scattercarpet\",\"marker\":{\"colorbar\":{\"outlinewidth\":0,\"ticks\":\"\"}}}],\"carpet\":[{\"aaxis\":{\"endlinecolor\":\"#2a3f5f\",\"gridcolor\":\"white\",\"linecolor\":\"white\",\"minorgridcolor\":\"white\",\"startlinecolor\":\"#2a3f5f\"},\"baxis\":{\"endlinecolor\":\"#2a3f5f\",\"gridcolor\":\"white\",\"linecolor\":\"white\",\"minorgridcolor\":\"white\",\"startlinecolor\":\"#2a3f5f\"},\"type\":\"carpet\"}],\"table\":[{\"cells\":{\"fill\":{\"color\":\"#EBF0F8\"},\"line\":{\"color\":\"white\"}},\"header\":{\"fill\":{\"color\":\"#C8D4E3\"},\"line\":{\"color\":\"white\"}},\"type\":\"table\"}],\"barpolar\":[{\"marker\":{\"line\":{\"color\":\"#E5ECF6\",\"width\":0.5},\"pattern\":{\"fillmode\":\"overlay\",\"size\":10,\"solidity\":0.2}},\"type\":\"barpolar\"}],\"pie\":[{\"automargin\":true,\"type\":\"pie\"}]},\"layout\":{\"autotypenumbers\":\"strict\",\"colorway\":[\"#636efa\",\"#EF553B\",\"#00cc96\",\"#ab63fa\",\"#FFA15A\",\"#19d3f3\",\"#FF6692\",\"#B6E880\",\"#FF97FF\",\"#FECB52\"],\"font\":{\"color\":\"#2a3f5f\"},\"hovermode\":\"closest\",\"hoverlabel\":{\"align\":\"left\"},\"paper_bgcolor\":\"white\",\"plot_bgcolor\":\"#E5ECF6\",\"polar\":{\"bgcolor\":\"#E5ECF6\",\"angularaxis\":{\"gridcolor\":\"white\",\"linecolor\":\"white\",\"ticks\":\"\"},\"radialaxis\":{\"gridcolor\":\"white\",\"linecolor\":\"white\",\"ticks\":\"\"}},\"ternary\":{\"bgcolor\":\"#E5ECF6\",\"aaxis\":{\"gridcolor\":\"white\",\"linecolor\":\"white\",\"ticks\":\"\"},\"baxis\":{\"gridcolor\":\"white\",\"linecolor\":\"white\",\"ticks\":\"\"},\"caxis\":{\"gridcolor\":\"white\",\"linecolor\":\"white\",\"ticks\":\"\"}},\"coloraxis\":{\"colorbar\":{\"outlinewidth\":0,\"ticks\":\"\"}},\"colorscale\":{\"sequential\":[[0.0,\"#0d0887\"],[0.1111111111111111,\"#46039f\"],[0.2222222222222222,\"#7201a8\"],[0.3333333333333333,\"#9c179e\"],[0.4444444444444444,\"#bd3786\"],[0.5555555555555556,\"#d8576b\"],[0.6666666666666666,\"#ed7953\"],[0.7777777777777778,\"#fb9f3a\"],[0.8888888888888888,\"#fdca26\"],[1.0,\"#f0f921\"]],\"sequentialminus\":[[0.0,\"#0d0887\"],[0.1111111111111111,\"#46039f\"],[0.2222222222222222,\"#7201a8\"],[0.3333333333333333,\"#9c179e\"],[0.4444444444444444,\"#bd3786\"],[0.5555555555555556,\"#d8576b\"],[0.6666666666666666,\"#ed7953\"],[0.7777777777777778,\"#fb9f3a\"],[0.8888888888888888,\"#fdca26\"],[1.0,\"#f0f921\"]],\"diverging\":[[0,\"#8e0152\"],[0.1,\"#c51b7d\"],[0.2,\"#de77ae\"],[0.3,\"#f1b6da\"],[0.4,\"#fde0ef\"],[0.5,\"#f7f7f7\"],[0.6,\"#e6f5d0\"],[0.7,\"#b8e186\"],[0.8,\"#7fbc41\"],[0.9,\"#4d9221\"],[1,\"#276419\"]]},\"xaxis\":{\"gridcolor\":\"white\",\"linecolor\":\"white\",\"ticks\":\"\",\"title\":{\"standoff\":15},\"zerolinecolor\":\"white\",\"automargin\":true,\"zerolinewidth\":2},\"yaxis\":{\"gridcolor\":\"white\",\"linecolor\":\"white\",\"ticks\":\"\",\"title\":{\"standoff\":15},\"zerolinecolor\":\"white\",\"automargin\":true,\"zerolinewidth\":2},\"scene\":{\"xaxis\":{\"backgroundcolor\":\"#E5ECF6\",\"gridcolor\":\"white\",\"linecolor\":\"white\",\"showbackground\":true,\"ticks\":\"\",\"zerolinecolor\":\"white\",\"gridwidth\":2},\"yaxis\":{\"backgroundcolor\":\"#E5ECF6\",\"gridcolor\":\"white\",\"linecolor\":\"white\",\"showbackground\":true,\"ticks\":\"\",\"zerolinecolor\":\"white\",\"gridwidth\":2},\"zaxis\":{\"backgroundcolor\":\"#E5ECF6\",\"gridcolor\":\"white\",\"linecolor\":\"white\",\"showbackground\":true,\"ticks\":\"\",\"zerolinecolor\":\"white\",\"gridwidth\":2}},\"shapedefaults\":{\"line\":{\"color\":\"#2a3f5f\"}},\"annotationdefaults\":{\"arrowcolor\":\"#2a3f5f\",\"arrowhead\":0,\"arrowwidth\":1},\"geo\":{\"bgcolor\":\"white\",\"landcolor\":\"#E5ECF6\",\"subunitcolor\":\"white\",\"showland\":true,\"showlakes\":true,\"lakecolor\":\"white\"},\"title\":{\"x\":0.05},\"mapbox\":{\"style\":\"light\"}}},\"xaxis\":{\"anchor\":\"y\",\"domain\":[0.0,1.0],\"categoryorder\":\"array\",\"categoryarray\":[\"Cluster 0\",\"Cluster 1\",\"Cluster 2\",\"Cluster 3\"],\"title\":{\"text\":\"Cluster\"}},\"yaxis\":{\"anchor\":\"x\",\"domain\":[0.0,0.7326],\"title\":{\"text\":\"count\"}},\"xaxis2\":{\"anchor\":\"y2\",\"domain\":[0.0,1.0],\"matches\":\"x\",\"showticklabels\":false,\"showgrid\":true},\"yaxis2\":{\"anchor\":\"x2\",\"domain\":[0.7426,1.0],\"matches\":\"y2\",\"showticklabels\":false,\"showline\":false,\"ticks\":\"\",\"showgrid\":false},\"legend\":{\"title\":{\"text\":\"Cluster\"},\"tracegroupgap\":0},\"margin\":{\"t\":60},\"barmode\":\"relative\",\"height\":600},                        {\"responsive\": true}                    ).then(function(){\n",
              "                            \n",
              "var gd = document.getElementById('f1f2d7a8-84f5-4f94-92ba-fd14c4e54288');\n",
              "var x = new MutationObserver(function (mutations, observer) {{\n",
              "        var display = window.getComputedStyle(gd).display;\n",
              "        if (!display || display === 'none') {{\n",
              "            console.log([gd, 'removed!']);\n",
              "            Plotly.purge(gd);\n",
              "            observer.disconnect();\n",
              "        }}\n",
              "}});\n",
              "\n",
              "// Listen for the removal of the full notebook cells\n",
              "var notebookContainer = gd.closest('#notebook-container');\n",
              "if (notebookContainer) {{\n",
              "    x.observe(notebookContainer, {childList: true});\n",
              "}}\n",
              "\n",
              "// Listen for the clearing of the current output cell\n",
              "var outputEl = gd.closest('.output');\n",
              "if (outputEl) {{\n",
              "    x.observe(outputEl, {childList: true});\n",
              "}}\n",
              "\n",
              "                        })                };                            </script>        </div>\n",
              "</body>\n",
              "</html>"
            ]
          },
          "metadata": {}
        }
      ]
    },
    {
      "cell_type": "code",
      "source": [
        "#Save the trained KMeans model\n",
        "save_model(kmeans_new, 'Final_KMeans_Model')"
      ],
      "metadata": {
        "colab": {
          "base_uri": "https://localhost:8080/"
        },
        "id": "y1MUJRJXJI0-",
        "outputId": "245309ae-5ec7-4a03-de7e-0024875fb321"
      },
      "execution_count": 58,
      "outputs": [
        {
          "output_type": "stream",
          "name": "stdout",
          "text": [
            "Transformation Pipeline and Model Successfully Saved\n"
          ]
        },
        {
          "output_type": "execute_result",
          "data": {
            "text/plain": [
              "(Pipeline(memory=Memory(location=None),\n",
              "          steps=[('numerical_imputer',\n",
              "                  TransformerWrapper(include=['sepal length (cm)',\n",
              "                                              'sepal width (cm)',\n",
              "                                              'petal length (cm)',\n",
              "                                              'petal width (cm)', 'target'],\n",
              "                                     transformer=SimpleImputer())),\n",
              "                 ('categorical_imputer',\n",
              "                  TransformerWrapper(include=[],\n",
              "                                     transformer=SimpleImputer(strategy='most_frequent'))),\n",
              "                 ('normalize', TransformerWrapper(transformer=StandardScaler())),\n",
              "                 ('trained_model', KMeans(n_clusters=4, random_state=123))]),\n",
              " 'Final_KMeans_Model.pkl')"
            ]
          },
          "metadata": {},
          "execution_count": 58
        }
      ]
    },
    {
      "cell_type": "code",
      "source": [
        "#Load the saved model\n",
        "kmeans_loaded = load_model('Final_KMeans_Model')"
      ],
      "metadata": {
        "colab": {
          "base_uri": "https://localhost:8080/"
        },
        "id": "x3SE94O9JKL1",
        "outputId": "6a97dc6b-8d7e-4d82-f7f2-cdca20af126c"
      },
      "execution_count": 59,
      "outputs": [
        {
          "output_type": "stream",
          "name": "stdout",
          "text": [
            "Transformation Pipeline and Model Successfully Loaded\n"
          ]
        }
      ]
    },
    {
      "cell_type": "code",
      "source": [
        "#Convert unseen data to a clean Numpy array\n",
        "import numpy as np\n",
        "\n",
        "data_unseen_numeric = data_unseen.select_dtypes(include=['number']).astype('float64')\n",
        "data_unseen_array = np.array(data_unseen_numeric, dtype=np.float64)"
      ],
      "metadata": {
        "id": "STOwTmNSJMPq"
      },
      "execution_count": 60,
      "outputs": []
    },
    {
      "cell_type": "code",
      "source": [
        "from sklearn.cluster import KMeans\n",
        "\n",
        "# Step 1: Drop the 'target' column from both training and unseen datasets\n",
        "data_sampled_numeric = data_sampled.drop(columns=['target'], errors='ignore')\n",
        "data_unseen_numeric = data_unseen.drop(columns=['target'], errors='ignore')\n",
        "\n",
        "# Step 2: Rebuild the KMeans model\n",
        "kmeans_manual = KMeans(n_clusters=kmeans_new.n_clusters, random_state=113)\n",
        "kmeans_manual.fit(data_sampled_numeric)\n",
        "\n",
        "# Step 3: Perform prediction on unseen data\n",
        "try:\n",
        "    cluster_labels = kmeans_manual.predict(data_unseen_numeric)\n",
        "    print(\"Cluster Labels for Unseen Data:\")\n",
        "    print(cluster_labels)\n",
        "except Exception as e:\n",
        "    print(\"Error during prediction:\", e)\n",
        "\n",
        "# Step 4: Add cluster labels to unseen data\n",
        "data_unseen['Cluster'] = cluster_labels\n",
        "\n",
        "# Display unseen data with clusters\n",
        "print(data_unseen.head())\n",
        "\n",
        "# Save unseen data with clusters to CSV\n",
        "data_unseen.to_csv('Unseen_Data_With_Clusters.csv', index=False)\n",
        "print(\"Predictions saved to 'Unseen_Data_With_Clusters.csv'\")"
      ],
      "metadata": {
        "colab": {
          "base_uri": "https://localhost:8080/"
        },
        "id": "DsP1FZZGJOcE",
        "outputId": "0ef90ebe-acd6-428c-df13-81175fb3583f"
      },
      "execution_count": 68,
      "outputs": [
        {
          "output_type": "stream",
          "name": "stdout",
          "text": [
            "Cluster Labels for Unseen Data:\n",
            "[0 2 2 2 0 0 2 0]\n",
            "   sepal length (cm)  sepal width (cm)  petal length (cm)  petal width (cm)  \\\n",
            "0                5.8               2.7                5.1               1.9   \n",
            "1                6.8               3.2                5.9               2.3   \n",
            "2                6.7               3.3                5.7               2.5   \n",
            "3                6.7               3.0                5.2               2.3   \n",
            "4                6.3               2.5                5.0               1.9   \n",
            "\n",
            "   target  Cluster  \n",
            "0       2        0  \n",
            "1       2        2  \n",
            "2       2        2  \n",
            "3       2        2  \n",
            "4       2        0  \n",
            "Predictions saved to 'Unseen_Data_With_Clusters.csv'\n"
          ]
        }
      ]
    },
    {
      "cell_type": "code",
      "source": [
        "import matplotlib.pyplot as plt\n",
        "\n",
        "plt.scatter(data_unseen['sepal length (cm)'], data_unseen['sepal width (cm)'], c=data_unseen['Cluster'], cmap='viridis')\n",
        "plt.title('Cluster Visualization')\n",
        "plt.xlabel('Sepal Length')\n",
        "plt.ylabel('Sepal Width')\n",
        "plt.colorbar(label='Cluster')\n",
        "plt.show()\n"
      ],
      "metadata": {
        "colab": {
          "base_uri": "https://localhost:8080/",
          "height": 524
        },
        "id": "EEvfq7oiKc28",
        "outputId": "1df8cc3a-475b-4940-f17d-6e1c09a473a9"
      },
      "execution_count": 69,
      "outputs": [
        {
          "output_type": "display_data",
          "data": {
            "text/plain": [
              "<Figure size 800x550 with 2 Axes>"
            ],
            "image/png": "[encoded data removed]"
          },
          "metadata": {}
        }
      ]
    }
  ]
}